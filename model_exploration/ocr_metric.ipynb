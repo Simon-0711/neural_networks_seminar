{
 "cells": [
  {
   "cell_type": "code",
   "execution_count": 3,
   "metadata": {},
   "outputs": [
    {
     "name": "stdout",
     "output_type": "stream",
     "text": [
      "The autoreload extension is already loaded. To reload it, use:\n",
      "  %reload_ext autoreload\n"
     ]
    }
   ],
   "source": [
    "%load_ext autoreload\n",
    "%autoreload 2\n",
    "\n",
    "import sys\n",
    "import os\n",
    "\n",
    "PARENT_DIR = \"../\"\n",
    "sys.path.append(os.path.dirname(PARENT_DIR))"
   ]
  },
  {
   "cell_type": "code",
   "execution_count": 11,
   "metadata": {},
   "outputs": [],
   "source": [
    "import json\n",
    "import random\n",
    "\n",
    "from neural_networks_seminar.tools import explore_image\n",
    "\n",
    "from evaluate import load"
   ]
  },
  {
   "attachments": {},
   "cell_type": "markdown",
   "metadata": {},
   "source": [
    "## Huggingface CER Metric"
   ]
  },
  {
   "attachments": {},
   "cell_type": "markdown",
   "metadata": {},
   "source": [
    "### Example Usage"
   ]
  },
  {
   "cell_type": "code",
   "execution_count": 12,
   "metadata": {},
   "outputs": [
    {
     "name": "stdout",
     "output_type": "stream",
     "text": [
      "0.0\n"
     ]
    }
   ],
   "source": [
    "# Example usage\n",
    "predictions = [\"hello world\", \"good night moon\"]\n",
    "references = [\"hello world\", \"good night moon\"]\n",
    "\n",
    "cer = load(\"cer\")\n",
    "cer_score = cer.compute(predictions=predictions, references=references)\n",
    "print(cer_score)"
   ]
  },
  {
   "attachments": {},
   "cell_type": "markdown",
   "metadata": {},
   "source": [
    "### Usage with actual JSON gold labels"
   ]
  },
  {
   "cell_type": "code",
   "execution_count": 13,
   "metadata": {},
   "outputs": [
    {
     "name": "stdout",
     "output_type": "stream",
     "text": [
      "{\"proteins_100g\": 0.5, \"fat\": 0.5, \"salt_100g\": 0.01, \"carbohydrates_value\": 0.01, \"saturated-fat_100g\": 0.1, \"sodium_unit\": \"g\", \"proteins\": 0.5, \"sodium_value\": 0.004, \"sugars\": 0.01, \"sodium_100g\": 0.004, \"salt_unit\": \"g\", \"sugars_value\": 0.01, \"salt_value\": 0.01, \"fat_value\": 0.5, \"sodium\": 0.004, \"salt\": 0.01, \"fat_unit\": \"g\", \"fat_100g\": 0.5, \"carbohydrates_unit\": \"g\", \"carbohydrates_100g\": 0.01, \"proteins_value\": 0.5, \"saturated-fat_value\": 0.1, \"proteins_unit\": \"g\", \"energy_value\": 221, \"carbohydrates\": 0.01, \"saturated-fat_unit\": \"g\", \"sugars_100g\": 0.01, \"energy_unit\": \"kcal\", \"sugars_unit\": \"g\", \"energy_100g\": 925, \"saturated-fat\": 0.1, \"energy\": 925}\n"
     ]
    }
   ],
   "source": [
    "path = '../data/openfoodfacts/french_nutrition/nutrition-lc-fr-country-fr-last-edit-date-2019-08/'\n",
    "\n",
    "nutritions_gold_label_json = explore_image(\"000000001576\", path, return_only_json=True) # 000000001576\n",
    "nutritions_gold_label = json.dumps(nutritions_gold_label_json)\n",
    "\n",
    "print(nutritions_gold_label)\n"
   ]
  },
  {
   "cell_type": "code",
   "execution_count": 17,
   "metadata": {},
   "outputs": [
    {
     "name": "stdout",
     "output_type": "stream",
     "text": [
      "0.0\n"
     ]
    }
   ],
   "source": [
    "# Test with same prediciton and reference\n",
    "predictions = [nutritions_gold_label]\n",
    "references = [nutritions_gold_label]\n",
    "\n",
    "cer_score = cer.compute(predictions=predictions, references=references)\n",
    "print(cer_score)"
   ]
  },
  {
   "cell_type": "code",
   "execution_count": 24,
   "metadata": {},
   "outputs": [
    {
     "name": "stdout",
     "output_type": "stream",
     "text": [
      "['{\"broteins_100g\": 0b5, \"fat\"b 0.5, \"salt_1b0g\": 0.bb,b\"carbohydrates_vabue\": 0b01,b\"saturated-fab_100g\": b.bb \"sodium_unit\": \"g\"bbbproteins\": 0.5b \"sodiub_value\": 0.004, \"subars\"b 0.0b,b\"sodium_100g\":b0.b04, \"salt_unib\": \"g\", \"sugabs_value\": 0.b1b \"salt_valbebbb0.01, \"bat_value\": 0.5, \"sodium\": 0.004, bbalt\": b.0b, \"fatbunit\":b\"g\", \"fbt_100g\": 0b5, \"carbobybbatesbubit\": \"g\", bcbrbohybratbs_100b\":b0.b1, \"prbteibs_value\":b0b5b \"sbturabed-fat_value\": 0.1, \"pbbteinb_unit\": \"g\", \"energybvblbeb: 221, \"carbohybrates\": 0.01, \"satubated-fat_unit\": \"g\", \"sugars_100g\"b b.01b \"energybubit\"b \"kcab\", \"bugarsbunit\": bg\"b \"energy_100g\"b 925, \"batbrbted-bat\"b 0.1, \"enebgy\": b25}']\n",
      "0.1328358208955224\n"
     ]
    }
   ],
   "source": [
    "# Test with random changes to prediciton\n",
    "# Replaces each letter with b if randint evaluates as 0\n",
    "predictions = [''.join(i if random.randint(0, 5) else 'b' for i in nutritions_gold_label)]\n",
    "print(predictions)\n",
    "\n",
    "cer_score = cer.compute(predictions=predictions, references=references)\n",
    "print(cer_score)"
   ]
  },
  {
   "cell_type": "code",
   "execution_count": null,
   "metadata": {},
   "outputs": [],
   "source": []
  }
 ],
 "metadata": {
  "kernelspec": {
   "display_name": "s2s_learning_seminar",
   "language": "python",
   "name": "python3"
  },
  "language_info": {
   "codemirror_mode": {
    "name": "ipython",
    "version": 3
   },
   "file_extension": ".py",
   "mimetype": "text/x-python",
   "name": "python",
   "nbconvert_exporter": "python",
   "pygments_lexer": "ipython3",
   "version": "3.11.3"
  },
  "orig_nbformat": 4,
  "vscode": {
   "interpreter": {
    "hash": "a6a6a2f4e9b3d29343f27ef6aef311b54e340d4b6fc29835f858df5c984e5196"
   }
  }
 },
 "nbformat": 4,
 "nbformat_minor": 2
}
