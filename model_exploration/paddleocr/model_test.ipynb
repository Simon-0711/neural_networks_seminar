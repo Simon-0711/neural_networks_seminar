{
 "cells": [
  {
   "cell_type": "code",
   "execution_count": 9,
   "metadata": {},
   "outputs": [
    {
     "name": "stdout",
     "output_type": "stream",
     "text": [
      "[2023/08/10 11:07:20] ppocr DEBUG: Namespace(help='==SUPPRESS==', use_gpu=False, use_xpu=False, use_npu=False, ir_optim=True, use_tensorrt=False, min_subgraph_size=15, precision='fp32', gpu_mem=500, gpu_id=0, image_dir=None, page_num=0, det_algorithm='DB', det_model_dir='/Users/simon/.paddleocr/whl/det/en/en_PP-OCRv3_det_infer', det_limit_side_len=960, det_limit_type='max', det_box_type='quad', det_db_thresh=0.3, det_db_box_thresh=0.6, det_db_unclip_ratio=1.5, max_batch_size=10, use_dilation=False, det_db_score_mode='fast', det_east_score_thresh=0.8, det_east_cover_thresh=0.1, det_east_nms_thresh=0.2, det_sast_score_thresh=0.5, det_sast_nms_thresh=0.2, det_pse_thresh=0, det_pse_box_thresh=0.85, det_pse_min_area=16, det_pse_scale=1, scales=[8, 16, 32], alpha=1.0, beta=1.0, fourier_degree=5, rec_algorithm='SVTR_LCNet', rec_model_dir='/Users/simon/.paddleocr/whl/rec/en/en_PP-OCRv4_rec_infer', rec_image_inverse=True, rec_image_shape='3, 48, 320', rec_batch_num=6, max_text_length=25, rec_char_dict_path='/Users/simon/opt/anaconda3/envs/s2s_learning_seminar/lib/python3.11/site-packages/paddleocr/ppocr/utils/en_dict.txt', use_space_char=True, vis_font_path='./doc/fonts/simfang.ttf', drop_score=0.5, e2e_algorithm='PGNet', e2e_model_dir=None, e2e_limit_side_len=768, e2e_limit_type='max', e2e_pgnet_score_thresh=0.5, e2e_char_dict_path='./ppocr/utils/ic15_dict.txt', e2e_pgnet_valid_set='totaltext', e2e_pgnet_mode='fast', use_angle_cls=True, cls_model_dir='/Users/simon/.paddleocr/whl/cls/ch_ppocr_mobile_v2.0_cls_infer', cls_image_shape='3, 48, 192', label_list=['0', '180'], cls_batch_num=6, cls_thresh=0.9, enable_mkldnn=False, cpu_threads=10, use_pdserving=False, warmup=False, sr_model_dir=None, sr_image_shape='3, 32, 128', sr_batch_num=1, draw_img_save_dir='./inference_results', save_crop_res=False, crop_res_save_dir='./output', use_mp=False, total_process_num=1, process_id=0, benchmark=False, save_log_path='./log_output/', show_log=True, use_onnx=False, output='./output', table_max_len=488, table_algorithm='TableAttn', table_model_dir=None, merge_no_span_structure=True, table_char_dict_path=None, layout_model_dir=None, layout_dict_path=None, layout_score_threshold=0.5, layout_nms_threshold=0.5, kie_algorithm='LayoutXLM', ser_model_dir=None, re_model_dir=None, use_visual_backbone=True, ser_dict_path='../train_data/XFUND/class_list_xfun.txt', ocr_order_method=None, mode='structure', image_orientation=False, layout=True, table=True, ocr=True, recovery=False, use_pdf2docx_api=False, lang='en', det=True, rec=True, type='ocr', ocr_version='PP-OCRv4', structure_version='PP-StructureV2')\n",
      "[2023/08/10 11:07:22] ppocr DEBUG: dt_boxes num : 25, elapse : 0.10082721710205078\n",
      "[2023/08/10 11:07:22] ppocr DEBUG: cls num  : 25, elapse : 0.2133650779724121\n",
      "[2023/08/10 11:07:26] ppocr DEBUG: rec_res num  : 25, elapse : 4.282392978668213\n",
      "[[[33.0, 4.0], [137.0, 4.0], [137.0, 16.0], [33.0, 16.0]], ('(a) Geographical grouping', 0.9816731810569763)]\n",
      "[[[59.0, 25.0], [112.0, 25.0], [112.0, 36.0], [59.0, 36.0]], ('Groups in set 1', 0.9839702844619751)]\n",
      "[[[218.0, 25.0], [285.0, 25.0], [285.0, 36.0], [218.0, 36.0]], ('Source of Variation', 0.984840989112854)]\n",
      "[[[381.0, 25.0], [453.0, 25.0], [453.0, 36.0], [381.0, 36.0]], ('Percentage Variation', 0.9950100779533386)]\n",
      "[[[3.0, 46.0], [166.0, 47.0], [166.0, 60.0], [3.0, 59.0]], ('Group 1  North: Bihar and Orissa populations', 0.9873514771461487)]\n",
      "[[[226.0, 49.0], [277.0, 49.0], [277.0, 59.0], [226.0, 59.0]], ('Among groups', 0.9985296130180359)]\n",
      "[[[407.0, 57.0], [429.0, 57.0], [429.0, 71.0], [407.0, 71.0]], ('0.97', 0.9219688177108765)]\n",
      "[[[408.0, 48.0], [428.0, 48.0], [428.0, 59.0], [408.0, 59.0]], ('0.29', 0.9993225336074829)]\n",
      "[[[6.0, 59.0], [164.0, 59.0], [164.0, 71.0], [6.0, 71.0]], ('Group 2  South-west: Karnataka populations', 0.9877808690071106)]\n",
      "[[[200.0, 59.0], [303.0, 59.0], [303.0, 71.0], [200.0, 71.0]], ('Among populations in groups', 0.98994380235672)]\n",
      "[[[5.0, 70.0], [164.0, 70.0], [164.0, 79.0], [5.0, 79.0]], ('Group 3  South-east: Tamil Nadu Populations', 0.9939044713973999)]\n",
      "[[[40.0, 78.0], [131.0, 78.0], [131.0, 91.0], [40.0, 91.0]], ('(b) Linguistic grouping', 0.9802011251449585)]\n",
      "[[[219.0, 69.0], [285.0, 69.0], [285.0, 79.0], [219.0, 79.0]], ('Within populations', 0.9998506903648376)]\n",
      "[[[407.0, 69.0], [429.0, 69.0], [429.0, 80.0], [407.0, 80.0]], ('98.74', 0.9998890161514282)]\n",
      "[[[57.0, 100.0], [114.0, 100.0], [114.0, 113.0], [57.0, 113.0]], ('Groups in set 2', 0.9845021367073059)]\n",
      "[[[10.0, 111.0], [160.0, 111.0], [160.0, 124.0], [10.0, 124.0]], ('Group 1  Indo-European: Orissa and Bihar', 0.9624482989311218)]\n",
      "[[[217.0, 102.0], [286.0, 102.0], [286.0, 112.0], [217.0, 112.0]], ('Source of Variation', 0.9965395927429199)]\n",
      "[[[382.0, 102.0], [454.0, 102.0], [454.0, 112.0], [382.0, 112.0]], ('Percentage Variation', 0.9978240132331848)]\n",
      "[[[225.0, 112.0], [278.0, 112.0], [278.0, 123.0], [225.0, 123.0]], ('Among groups', 0.9991996884346008)]\n",
      "[[[407.0, 110.0], [429.0, 110.0], [429.0, 125.0], [407.0, 125.0]], ('0.69', 0.9737226963043213)]\n",
      "[[[12.0, 122.0], [158.0, 122.0], [158.0, 131.0], [12.0, 131.0]], ('Group 2  Dravidian: Southern populations', 0.9986150860786438)]\n",
      "[[[200.0, 120.0], [302.0, 121.0], [302.0, 134.0], [199.0, 133.0]], ('Among populations in groups', 0.9796639680862427)]\n",
      "[[[407.0, 120.0], [429.0, 120.0], [429.0, 134.0], [407.0, 134.0]], ('0.94', 0.9129291772842407)]\n",
      "[[[218.0, 131.0], [285.0, 132.0], [285.0, 143.0], [218.0, 142.0]], ('Within populations', 0.9898102283477783)]\n",
      "[[[406.0, 130.0], [430.0, 130.0], [430.0, 144.0], [406.0, 144.0]], ('98.40', 0.9988275766372681)]\n"
     ]
    }
   ],
   "source": [
    "from paddleocr import PaddleOCR, draw_ocr\n",
    "# Paddleocr supports Chinese, English, French, German, Korean and Japanese.\n",
    "# You can set the parameter `lang` as `ch`, `en`, `french`, `german`, `korean`, `japan`\n",
    "# to switch the language model in order.\n",
    "ocr = PaddleOCR(use_angle_cls=True, lang='en') # need to run only once to download and load model into memory\n",
    "img_name = \"PMC515297_004_00.png\"\n",
    "img_path = '/Users/simon/Documents/neural_networks_ocr_project/neural_networks_seminar/data/PubTabNet/pubtabnet/pubtabnet/test/' + img_name\n",
    "result = ocr.ocr(img_path, cls=True)\n",
    "for idx in range(len(result)):\n",
    "    res = result[idx]\n",
    "    for line in res:\n",
    "        print(line)\n",
    "\n",
    "# draw result\n",
    "from PIL import Image\n",
    "result = result[0]\n",
    "image = Image.open(img_path).convert('RGB')\n",
    "boxes = [line[0] for line in result]\n",
    "txts = [line[1][0] for line in result]\n",
    "scores = [line[1][1] for line in result]\n",
    "im_show = draw_ocr(image, boxes, txts, scores, font_path='simfang.ttf')\n",
    "im_show = Image.fromarray(im_show)\n",
    "im_show.save('result_' + img_name + '.jpg')"
   ]
  },
  {
   "cell_type": "code",
   "execution_count": 10,
   "metadata": {},
   "outputs": [
    {
     "name": "stdout",
     "output_type": "stream",
     "text": [
      "[2023/08/10 11:07:26] ppocr DEBUG: Namespace(help='==SUPPRESS==', use_gpu=False, use_xpu=False, use_npu=False, ir_optim=True, use_tensorrt=False, min_subgraph_size=15, precision='fp32', gpu_mem=500, gpu_id=0, image_dir=None, page_num=0, det_algorithm='DB', det_model_dir='/Users/simon/.paddleocr/whl/det/en/en_PP-OCRv3_det_infer', det_limit_side_len=960, det_limit_type='max', det_box_type='quad', det_db_thresh=0.3, det_db_box_thresh=0.6, det_db_unclip_ratio=1.5, max_batch_size=10, use_dilation=False, det_db_score_mode='fast', det_east_score_thresh=0.8, det_east_cover_thresh=0.1, det_east_nms_thresh=0.2, det_sast_score_thresh=0.5, det_sast_nms_thresh=0.2, det_pse_thresh=0, det_pse_box_thresh=0.85, det_pse_min_area=16, det_pse_scale=1, scales=[8, 16, 32], alpha=1.0, beta=1.0, fourier_degree=5, rec_algorithm='SVTR_LCNet', rec_model_dir='/Users/simon/.paddleocr/whl/rec/en/en_PP-OCRv4_rec_infer', rec_image_inverse=True, rec_image_shape='3, 48, 320', rec_batch_num=6, max_text_length=25, rec_char_dict_path='/Users/simon/opt/anaconda3/envs/s2s_learning_seminar/lib/python3.11/site-packages/paddleocr/ppocr/utils/en_dict.txt', use_space_char=True, vis_font_path='./doc/fonts/simfang.ttf', drop_score=0.5, e2e_algorithm='PGNet', e2e_model_dir=None, e2e_limit_side_len=768, e2e_limit_type='max', e2e_pgnet_score_thresh=0.5, e2e_char_dict_path='./ppocr/utils/ic15_dict.txt', e2e_pgnet_valid_set='totaltext', e2e_pgnet_mode='fast', use_angle_cls=True, cls_model_dir='/Users/simon/.paddleocr/whl/cls/ch_ppocr_mobile_v2.0_cls_infer', cls_image_shape='3, 48, 192', label_list=['0', '180'], cls_batch_num=6, cls_thresh=0.9, enable_mkldnn=False, cpu_threads=10, use_pdserving=False, warmup=False, sr_model_dir=None, sr_image_shape='3, 32, 128', sr_batch_num=1, draw_img_save_dir='./inference_results', save_crop_res=False, crop_res_save_dir='./output', use_mp=False, total_process_num=1, process_id=0, benchmark=False, save_log_path='./log_output/', show_log=True, use_onnx=False, output='./output', table_max_len=488, table_algorithm='TableAttn', table_model_dir=None, merge_no_span_structure=True, table_char_dict_path=None, layout_model_dir=None, layout_dict_path=None, layout_score_threshold=0.5, layout_nms_threshold=0.5, kie_algorithm='LayoutXLM', ser_model_dir=None, re_model_dir=None, use_visual_backbone=True, ser_dict_path='../train_data/XFUND/class_list_xfun.txt', ocr_order_method=None, mode='structure', image_orientation=False, layout=True, table=True, ocr=True, recovery=False, use_pdf2docx_api=False, lang='en', det=True, rec=True, type='ocr', ocr_version='PP-OCRv4', structure_version='PP-StructureV2')\n",
      "[[218.0, 131.0], [285.0, 132.0], [285.0, 143.0], [218.0, 142.0]]\n",
      "[[406.0, 130.0], [430.0, 130.0], [430.0, 144.0], [406.0, 144.0]]\n",
      "[[12.0, 122.0], [158.0, 122.0], [158.0, 131.0], [12.0, 131.0]]\n",
      "[[200.0, 120.0], [302.0, 121.0], [302.0, 134.0], [199.0, 133.0]]\n",
      "[[407.0, 120.0], [429.0, 120.0], [429.0, 134.0], [407.0, 134.0]]\n",
      "[[225.0, 112.0], [278.0, 112.0], [278.0, 123.0], [225.0, 123.0]]\n",
      "[[10.0, 111.0], [160.0, 111.0], [160.0, 124.0], [10.0, 124.0]]\n",
      "[[407.0, 110.0], [429.0, 110.0], [429.0, 125.0], [407.0, 125.0]]\n",
      "[[382.0, 102.0], [454.0, 102.0], [454.0, 112.0], [382.0, 112.0]]\n",
      "[[217.0, 102.0], [286.0, 102.0], [286.0, 112.0], [217.0, 112.0]]\n",
      "[[57.0, 100.0], [114.0, 100.0], [114.0, 113.0], [57.0, 113.0]]\n",
      "[[40.0, 78.0], [131.0, 78.0], [131.0, 91.0], [40.0, 91.0]]\n",
      "[[5.0, 70.0], [164.0, 70.0], [164.0, 79.0], [5.0, 79.0]]\n",
      "[[407.0, 69.0], [429.0, 69.0], [429.0, 80.0], [407.0, 80.0]]\n",
      "[[219.0, 69.0], [285.0, 69.0], [285.0, 79.0], [219.0, 79.0]]\n",
      "[[200.0, 59.0], [303.0, 59.0], [303.0, 71.0], [200.0, 71.0]]\n",
      "[[6.0, 59.0], [164.0, 59.0], [164.0, 71.0], [6.0, 71.0]]\n",
      "[[407.0, 57.0], [429.0, 57.0], [429.0, 71.0], [407.0, 71.0]]\n",
      "[[226.0, 49.0], [277.0, 49.0], [277.0, 59.0], [226.0, 59.0]]\n",
      "[[408.0, 48.0], [428.0, 48.0], [428.0, 59.0], [408.0, 59.0]]\n",
      "[[3.0, 46.0], [166.0, 47.0], [166.0, 60.0], [3.0, 59.0]]\n",
      "[[381.0, 25.0], [453.0, 25.0], [453.0, 36.0], [381.0, 36.0]]\n",
      "[[218.0, 25.0], [285.0, 25.0], [285.0, 36.0], [218.0, 36.0]]\n",
      "[[59.0, 25.0], [112.0, 25.0], [112.0, 36.0], [59.0, 36.0]]\n",
      "[[33.0, 4.0], [137.0, 4.0], [137.0, 16.0], [33.0, 16.0]]\n"
     ]
    }
   ],
   "source": [
    "# Paddleocr supports Chinese, English, French, German, Korean and Japanese.\n",
    "# You can set the parameter `lang` as `ch`, `en`, `french`, `german`, `korean`, `japan`\n",
    "# to switch the language model in order.\n",
    "ocr = PaddleOCR(use_angle_cls=True, lang='en') # need to run only once to download and load model into memory\n",
    "img_name = \"PMC515297_004_00.png\"\n",
    "img_path = '/Users/simon/Documents/neural_networks_ocr_project/neural_networks_seminar/data/PubTabNet/pubtabnet/pubtabnet/test/' + img_name\n",
    "result = ocr.ocr(img_path, rec=False)\n",
    "for idx in range(len(result)):\n",
    "    res = result[idx]\n",
    "    for line in res:\n",
    "        print(line)\n",
    "\n",
    "# draw result\n",
    "result = result[0]\n",
    "image = Image.open(img_path).convert('RGB')\n",
    "im_show = draw_ocr(image, result, txts=None, scores=None, font_path='/path/to/PaddleOCR/doc/fonts/simfang.ttf')\n",
    "im_show = Image.fromarray(im_show)\n",
    "im_show.save('structure_result_' + img_name + '.jpg')"
   ]
  },
  {
   "cell_type": "code",
   "execution_count": null,
   "metadata": {},
   "outputs": [],
   "source": []
  }
 ],
 "metadata": {
  "kernelspec": {
   "display_name": "s2s_learning_seminar",
   "language": "python",
   "name": "python3"
  },
  "language_info": {
   "codemirror_mode": {
    "name": "ipython",
    "version": 3
   },
   "file_extension": ".py",
   "mimetype": "text/x-python",
   "name": "python",
   "nbconvert_exporter": "python",
   "pygments_lexer": "ipython3",
   "version": "3.11.3"
  },
  "orig_nbformat": 4,
  "vscode": {
   "interpreter": {
    "hash": "a6a6a2f4e9b3d29343f27ef6aef311b54e340d4b6fc29835f858df5c984e5196"
   }
  }
 },
 "nbformat": 4,
 "nbformat_minor": 2
}
