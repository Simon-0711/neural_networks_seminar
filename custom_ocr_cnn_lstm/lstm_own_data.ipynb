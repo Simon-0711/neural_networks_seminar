{
 "cells": [
  {
   "cell_type": "code",
   "execution_count": 1,
   "metadata": {},
   "outputs": [],
   "source": [
    "%load_ext autoreload\n",
    "%autoreload 2"
   ]
  },
  {
   "cell_type": "code",
   "execution_count": 2,
   "metadata": {},
   "outputs": [
    {
     "name": "stdout",
     "output_type": "stream",
     "text": [
      "Project root dir: /Users/leonremke/Documents/GIT_REPOS/UNI/neural_networks_seminar\n",
      "Absolute path: /Users/leonremke/Documents/GIT_REPOS/UNI/neural_networks_seminar/PubTabNet_cropped\n"
     ]
    }
   ],
   "source": [
    "# Setup path in .env file\n",
    "import os\n",
    "from dotenv import load_dotenv\n",
    "import cv2\n",
    "import numpy as np\n",
    "import torch\n",
    "\n",
    "# Get absolut path to proeject root\n",
    "load_dotenv()\n",
    "project_root_dir = os.path.dirname(os.path.abspath(\"./\"))\n",
    "print(\"Project root dir:\", project_root_dir)\n",
    "\n",
    "data_dir = os.getenv(\"PUBTABNET_CROPPED_DATA_DIR\")\n",
    "absolute_dir = project_root_dir + data_dir\n",
    "print(\"Absolute path:\", absolute_dir)"
   ]
  },
  {
   "cell_type": "code",
   "execution_count": 3,
   "metadata": {},
   "outputs": [],
   "source": [
    "image_dir_train = f\"{absolute_dir}/train\"\n",
    "image_dir_val = f\"{absolute_dir}/val\"\n",
    "label_file_train = f\"{absolute_dir}/PubTabNet_2.0.0_train_separated.json\"\n",
    "label_file_val = f\"{absolute_dir}/PubTabNet_2.0.0_val_separated.json\""
   ]
  },
  {
   "cell_type": "code",
   "execution_count": 4,
   "metadata": {},
   "outputs": [],
   "source": [
    "from torchvision import transforms\n",
    "transform_list =  [transforms.Grayscale(1),\n",
    "                            transforms.ToTensor(), \n",
    "                            transforms.Normalize((0.5,), (0.5,))]\n",
    "transform = transforms.Compose(transform_list)"
   ]
  },
  {
   "cell_type": "code",
   "execution_count": 5,
   "metadata": {},
   "outputs": [
    {
     "name": "stdout",
     "output_type": "stream",
     "text": [
      "{'idx': 0, 'label': 'Species', 'image': tensor([[[ 1.0000,  0.9451,  0.5765,  0.7569,  1.0000,  1.0000,  1.0000,\n",
      "           1.0000,  1.0000,  1.0000,  1.0000,  1.0000,  1.0000,  1.0000,\n",
      "           1.0000,  0.9294,  0.8902,  1.0000,  1.0000,  1.0000,  1.0000,\n",
      "           1.0000,  1.0000,  1.0000],\n",
      "         [ 1.0000,  0.0196,  0.9686,  0.5922,  1.0000,  1.0000,  1.0000,\n",
      "           1.0000,  1.0000,  1.0000,  1.0000,  1.0000,  1.0000,  1.0000,\n",
      "           1.0000,  0.8824,  0.8353,  1.0000,  1.0000,  1.0000,  1.0000,\n",
      "           1.0000,  1.0000,  1.0000],\n",
      "         [ 1.0000, -0.2941,  0.8353,  1.0000,  0.8980,  0.5765,  0.3961,\n",
      "           0.7412,  1.0000,  0.8039,  0.5529,  0.9608,  0.9294,  0.4745,\n",
      "           0.6392,  0.7490,  0.7804,  1.0000,  0.7020,  0.6078,  1.0000,\n",
      "           0.7020,  0.5608,  1.0000],\n",
      "         [ 1.0000,  0.6235, -0.3804,  0.4588,  0.7804, -0.2000,  0.6157,\n",
      "          -0.2706,  0.8980,  0.0118,  0.3490,  0.3725,  0.1765,  0.9765,\n",
      "           0.6863,  0.4275,  0.4039,  0.5608,  0.2314,  0.0588,  0.7020,\n",
      "           0.0588,  0.7255,  1.0000],\n",
      "         [ 0.9451,  0.9686,  0.9294, -0.2706,  0.9765, -0.0353,  1.0000,\n",
      "           0.0196,  0.6235,  0.2392,  1.0000,  0.9765, -0.1294,  1.0000,\n",
      "           1.0000,  0.5373,  0.4039,  0.2314,  0.6784,  1.0000,  1.0000,\n",
      "           0.2627, -0.1529,  1.0000],\n",
      "         [ 0.9137,  0.1294,  0.6078,  0.2627,  0.9765, -0.3333,  0.6314,\n",
      "           0.3725,  0.9686, -0.2471,  0.3333,  0.7569,  0.0824, -0.0275,\n",
      "           0.4745,  0.3333,  0.2078,  0.7098, -0.2078,  0.4275,  0.6941,\n",
      "           0.4275,  0.1294,  0.9686],\n",
      "         [ 1.0000,  0.9843,  0.9608,  1.0000,  0.9765, -0.0431,  0.9294,\n",
      "           1.0000,  1.0000,  0.9922,  0.9529,  1.0000,  1.0000,  0.9608,\n",
      "           1.0000,  1.0000,  1.0000,  1.0000,  0.9686,  0.9843,  1.0000,\n",
      "           0.9529,  1.0000,  1.0000],\n",
      "         [ 1.0000,  1.0000,  1.0000,  1.0000,  0.7176,  0.0980,  0.9059,\n",
      "           1.0000,  1.0000,  1.0000,  1.0000,  1.0000,  1.0000,  1.0000,\n",
      "           1.0000,  1.0000,  1.0000,  1.0000,  1.0000,  1.0000,  1.0000,\n",
      "           1.0000,  1.0000,  1.0000],\n",
      "         [ 1.0000,  1.0000,  1.0000,  1.0000,  1.0000,  1.0000,  1.0000,\n",
      "           1.0000,  1.0000,  1.0000,  1.0000,  1.0000,  1.0000,  1.0000,\n",
      "           1.0000,  1.0000,  1.0000,  1.0000,  1.0000,  1.0000,  1.0000,\n",
      "           1.0000,  1.0000,  1.0000]]])}\n"
     ]
    }
   ],
   "source": [
    "# Example usage:\n",
    "from dataset_cropped import OCRDatasetCropped\n",
    "\n",
    "train_dataset = OCRDatasetCropped(label_file_train, image_dir_train, transform=transform)\n",
    "val_dataset = OCRDatasetCropped(label_file_val, image_dir_val, transform=transform)\n",
    "\n",
    "# Accessing a sample\n",
    "sample = train_dataset[0]\n",
    "print(sample)"
   ]
  },
  {
   "cell_type": "code",
   "execution_count": 6,
   "metadata": {},
   "outputs": [
    {
     "name": "stdout",
     "output_type": "stream",
     "text": [
      "Downloading https://www.itl.nist.gov/iaui/vip/cs_links/EMNIST/gzip.zip to ./EMNIST/EMNIST/raw/gzip.zip\n"
     ]
    },
    {
     "data": {
      "application/vnd.jupyter.widget-view+json": {
       "model_id": "6eea896f7ed04ad3b3207ad8cd496e3e",
       "version_major": 2,
       "version_minor": 0
      },
      "text/plain": [
       "  0%|          | 0/561753746 [00:00<?, ?it/s]"
      ]
     },
     "metadata": {},
     "output_type": "display_data"
    },
    {
     "name": "stdout",
     "output_type": "stream",
     "text": [
      "Extracting ./EMNIST/EMNIST/raw/gzip.zip to ./EMNIST/EMNIST/raw\n"
     ]
    }
   ],
   "source": [
    "import sys\n",
    "from itertools import groupby\n",
    "\n",
    "import matplotlib as mpl\n",
    "import matplotlib.pyplot as plt\n",
    "import numpy as np\n",
    "import torch\n",
    "import torch.nn as nn\n",
    "import torch.nn.functional as F\n",
    "import torch.utils.data as data_utils\n",
    "import torchvision.transforms.functional as TF\n",
    "from colorama import Fore\n",
    "from torchvision import datasets, transforms\n",
    "from tqdm import tqdm\n",
    "\n",
    "# ============================================= PREPARING DATASET ======================================================\n",
    "epochs = 5\n",
    "num_classes = 11\n",
    "blank_label = 10\n",
    "image_height = 28\n",
    "gru_hidden_size = 128\n",
    "gru_num_layers = 2\n",
    "cnn_output_height = 4\n",
    "cnn_output_width = 32\n",
    "digits_per_sequence = 5\n",
    "number_of_sequences = 10000\n",
    "emnist_dataset = datasets.EMNIST('./EMNIST', split=\"digits\", train=True, download=True)\n",
    "dataset_sequences = []\n",
    "dataset_labels = []\n",
    "\n",
    "for i in range(number_of_sequences):\n",
    "    random_indices = np.random.randint(len(emnist_dataset.data), size=(digits_per_sequence,))\n",
    "    random_digits_images = emnist_dataset.data[random_indices]\n",
    "    transformed_random_digits_images = []\n",
    "\n",
    "    for img in random_digits_images:\n",
    "        img = transforms.ToPILImage()(img)\n",
    "        img = TF.rotate(img, -90, fill=0)\n",
    "        img = TF.hflip(img)\n",
    "        img = transforms.RandomAffine(degrees=10, translate=(0.2, 0.15), scale=(0.8, 1.1))(img)\n",
    "        img = transforms.ToTensor()(img).numpy()\n",
    "        transformed_random_digits_images.append(img)\n",
    "\n",
    "    random_digits_images = np.array(transformed_random_digits_images)\n",
    "    random_digits_labels = emnist_dataset.targets[random_indices]\n",
    "    random_sequence = np.hstack(random_digits_images.reshape((digits_per_sequence, 28, 28)))\n",
    "    random_labels = np.hstack(random_digits_labels.reshape(digits_per_sequence, 1))\n",
    "    dataset_sequences.append(random_sequence / 255)\n",
    "    dataset_labels.append(random_labels)\n",
    "\n",
    "dataset_data = torch.Tensor(np.array(dataset_sequences))\n",
    "dataset_labels = torch.IntTensor(np.array(dataset_labels))\n",
    "\n",
    "seq_dataset = data_utils.TensorDataset(dataset_data, dataset_labels)\n",
    "train_set, val_set = torch.utils.data.random_split(seq_dataset,\n",
    "                                                   [int(len(seq_dataset) * 0.8), int(len(seq_dataset) * 0.2)])\n",
    "\n",
    "train_loader = torch.utils.data.DataLoader(train_set, batch_size=64, shuffle=True)\n",
    "val_loader = torch.utils.data.DataLoader(val_set, batch_size=1, shuffle=True)\n",
    "\n"
   ]
  },
  {
   "cell_type": "code",
   "execution_count": 14,
   "metadata": {},
   "outputs": [],
   "source": [
    "# Example of how to register hooks to access intermediate feature maps\n",
    "activation = {}\n",
    "def get_activation(name):\n",
    "    def hook(model, input, output):\n",
    "        activation[name] = output\n",
    "    return hook"
   ]
  },
  {
   "cell_type": "code",
   "execution_count": 16,
   "metadata": {},
   "outputs": [
    {
     "data": {
      "text/plain": [
       "<torch.utils.hooks.RemovableHandle at 0x2b1df1640>"
      ]
     },
     "execution_count": 16,
     "metadata": {},
     "output_type": "execute_result"
    }
   ],
   "source": [
    "# ================================================= MODEL ==============================================================\n",
    "class CRNN(nn.Module):\n",
    "\n",
    "    def __init__(self):\n",
    "        super(CRNN, self).__init__()\n",
    "        self.conv1 = nn.Conv2d(1, 32, kernel_size=(3, 3))\n",
    "        self.norm1 = nn.InstanceNorm2d(32)\n",
    "        self.conv2 = nn.Conv2d(32, 32, kernel_size=(3, 3), stride=2)\n",
    "        self.norm2 = nn.InstanceNorm2d(32)\n",
    "        self.conv3 = nn.Conv2d(32, 64, kernel_size=(3, 3))\n",
    "        self.norm3 = nn.InstanceNorm2d(64)\n",
    "        self.conv4 = nn.Conv2d(64, 64, kernel_size=(3, 3), stride=2)\n",
    "        self.norm4 = nn.InstanceNorm2d(64)\n",
    "        self.gru_input_size = cnn_output_height * 64\n",
    "        # self.gru = nn.GRU(self.gru_input_size, gru_hidden_size, gru_num_layers, batch_first=True, bidirectional=True)\n",
    "        self.lstm = nn.LSTM(self.gru_input_size, gru_hidden_size, gru_num_layers, batch_first=True, bidirectional=True)\n",
    "        self.fc = nn.Linear(gru_hidden_size * 2, num_classes)\n",
    "\n",
    "    def forward(self, x):\n",
    "        batch_size = x.shape[0]\n",
    "        out = self.conv1(x)\n",
    "        out = self.norm1(out)\n",
    "        out = F.leaky_relu(out)\n",
    "        out = self.conv2(out)\n",
    "        out = self.norm2(out)\n",
    "        out = F.leaky_relu(out)\n",
    "        out = self.conv3(out)\n",
    "        out = self.norm3(out)\n",
    "        out = F.leaky_relu(out)\n",
    "        out = self.conv4(out)\n",
    "        out = self.norm4(out)\n",
    "        out = F.leaky_relu(out)\n",
    "        out = out.permute(0, 3, 2, 1)\n",
    "        out = out.reshape(batch_size, -1, self.gru_input_size)\n",
    "        out, _ = self.lstm(out)\n",
    "        out = torch.stack([F.log_softmax(self.fc(out[i]), dim=-1) for i in range(out.shape[0])])\n",
    "        return out\n",
    "\n",
    "\n",
    "model = CRNN()\n",
    "criterion = nn.CTCLoss(blank=blank_label, reduction='mean', zero_infinity=True)\n",
    "optimizer = torch.optim.Adam(model.parameters(), lr=0.001)\n",
    "# Add listener for activation visualization\n",
    "model.conv1.register_forward_hook(get_activation('conv1'))\n",
    "model.conv2.register_forward_hook(get_activation('conv2'))\n",
    "model.conv3.register_forward_hook(get_activation('conv3'))\n",
    "model.conv4.register_forward_hook(get_activation('conv4'))\n"
   ]
  },
  {
   "cell_type": "code",
   "execution_count": 17,
   "metadata": {},
   "outputs": [
    {
     "name": "stdout",
     "output_type": "stream",
     "text": [
      "100%|\u001b[32m██████████\u001b[39m| 125/125 [00:38<00:00,  3.26it/s]\n",
      "TRAINING. Correct:  0 / 8000 = 0.0\n",
      "100%|\u001b[34m██████████\u001b[39m| 2000/2000 [00:14<00:00, 142.69it/s]\n",
      "TESTING. Correct:  0 / 2000 = 0.0\n",
      "100%|\u001b[32m██████████\u001b[39m| 125/125 [00:38<00:00,  3.23it/s]\n",
      "TRAINING. Correct:  0 / 8000 = 0.0\n",
      "100%|\u001b[34m██████████\u001b[39m| 2000/2000 [00:14<00:00, 138.62it/s]\n",
      "TESTING. Correct:  0 / 2000 = 0.0\n",
      "100%|\u001b[32m██████████\u001b[39m| 125/125 [00:38<00:00,  3.27it/s]\n",
      "TRAINING. Correct:  4222 / 8000 = 0.52775\n",
      "100%|\u001b[34m██████████\u001b[39m| 2000/2000 [00:14<00:00, 139.55it/s]\n",
      "TESTING. Correct:  1468 / 2000 = 0.734\n",
      "100%|\u001b[32m██████████\u001b[39m| 125/125 [00:38<00:00,  3.22it/s]\n",
      "TRAINING. Correct:  6544 / 8000 = 0.818\n",
      "100%|\u001b[34m██████████\u001b[39m| 2000/2000 [00:14<00:00, 141.62it/s]\n",
      "TESTING. Correct:  1604 / 2000 = 0.802\n",
      " 50%|\u001b[32m████▉     \u001b[39m| 62/125 [00:19<00:19,  3.26it/s]"
     ]
    }
   ],
   "source": [
    "\n",
    "# ================================================ TRAINING MODEL ======================================================\n",
    "for _ in range(epochs):\n",
    "    # ============================================ TRAINING ============================================================\n",
    "    train_correct = 0\n",
    "    train_total = 0\n",
    "    for x_train, y_train in tqdm(train_loader,\n",
    "                                 position=0, leave=True,\n",
    "                                 file=sys.stdout, bar_format=\"{l_bar}%s{bar}%s{r_bar}\" % (Fore.GREEN, Fore.RESET)):\n",
    "        batch_size = x_train.shape[0]  # x_train.shape == torch.Size([64, 28, 140])\n",
    "        x_train = x_train.view(x_train.shape[0], 1, x_train.shape[1], x_train.shape[2])\n",
    "        optimizer.zero_grad()\n",
    "        y_pred = model(x_train)\n",
    "        y_pred = y_pred.permute(1, 0, 2)  # y_pred.shape == torch.Size([64, 32, 11])\n",
    "        input_lengths = torch.IntTensor(batch_size).fill_(cnn_output_width)\n",
    "        target_lengths = torch.IntTensor([len(t) for t in y_train])\n",
    "        loss = criterion(y_pred, y_train, input_lengths, target_lengths)\n",
    "        loss.backward()\n",
    "        optimizer.step()\n",
    "        _, max_index = torch.max(y_pred, dim=2)  # max_index.shape == torch.Size([32, 64])\n",
    "        for i in range(batch_size):\n",
    "            raw_prediction = list(max_index[:, i].detach().cpu().numpy())  # len(raw_prediction) == 32\n",
    "            prediction = torch.IntTensor([c for c, _ in groupby(raw_prediction) if c != blank_label])\n",
    "            if len(prediction) == len(y_train[i]) and torch.all(prediction.eq(y_train[i])):\n",
    "                train_correct += 1\n",
    "            train_total += 1\n",
    "    print('TRAINING. Correct: ', train_correct, '/', train_total, '=', train_correct / train_total)\n",
    "\n",
    "    # ============================================ VALIDATION ==========================================================\n",
    "    val_correct = 0\n",
    "    val_total = 0\n",
    "    for x_val, y_val in tqdm(val_loader,\n",
    "                             position=0, leave=True,\n",
    "                             file=sys.stdout, bar_format=\"{l_bar}%s{bar}%s{r_bar}\" % (Fore.BLUE, Fore.RESET)):\n",
    "        batch_size = x_val.shape[0]\n",
    "        x_val = x_val.view(x_val.shape[0], 1, x_val.shape[1], x_val.shape[2])\n",
    "        y_pred = model(x_val)\n",
    "        y_pred = y_pred.permute(1, 0, 2)\n",
    "        input_lengths = torch.IntTensor(batch_size).fill_(cnn_output_width)\n",
    "        target_lengths = torch.IntTensor([len(t) for t in y_val])\n",
    "        criterion(y_pred, y_val, input_lengths, target_lengths)\n",
    "        _, max_index = torch.max(y_pred, dim=2)\n",
    "        for i in range(batch_size):\n",
    "            raw_prediction = list(max_index[:, i].detach().cpu().numpy())\n",
    "            prediction = torch.IntTensor([c for c, _ in groupby(raw_prediction) if c != blank_label])\n",
    "            if len(prediction) == len(y_val[i]) and torch.all(prediction.eq(y_val[i])):\n",
    "                val_correct += 1\n",
    "            val_total += 1\n",
    "    print('TESTING. Correct: ', val_correct, '/', val_total, '=', val_correct / val_total)\n"
   ]
  },
  {
   "cell_type": "code",
   "execution_count": null,
   "metadata": {},
   "outputs": [
    {
     "data": {
      "image/png": "[encoded data removed]",
      "text/plain": [
       "<Figure size 432x288 with 1 Axes>"
      ]
     },
     "metadata": {
      "needs_background": "light"
     },
     "output_type": "display_data"
    }
   ],
   "source": [
    "\n",
    "# ============================================ TESTING =================================================================\n",
    "number_of_test_imgs = 10\n",
    "test_loader = torch.utils.data.DataLoader(val_set, batch_size=number_of_test_imgs, shuffle=True)\n",
    "test_preds = []\n",
    "(x_test, y_test) = next(iter(test_loader))\n",
    "y_pred = model(x_test.view(x_test.shape[0], 1, x_test.shape[1], x_test.shape[2]))\n",
    "y_pred = y_pred.permute(1, 0, 2)\n",
    "_, max_index = torch.max(y_pred, dim=2)\n",
    "for i in range(x_test.shape[0]):\n",
    "    raw_prediction = list(max_index[:, i].detach().cpu().numpy())\n",
    "    prediction = torch.IntTensor([c for c, _ in groupby(raw_prediction) if c != blank_label])\n",
    "    test_preds.append(prediction)\n",
    "\n",
    "for j in range(len(x_test)):\n",
    "    mpl.rcParams[\"font.size\"] = 8\n",
    "    plt.imshow(x_test[j], cmap='gray')\n",
    "    mpl.rcParams[\"font.size\"] = 18\n",
    "    plt.gcf().text(x=0.1, y=0.1, s=\"Actual: \" + str(y_test[j].numpy()))\n",
    "    plt.gcf().text(x=0.1, y=0.2, s=\"Predicted: \" + str(test_preds[j].numpy()))\n",
    "    plt.show()\n",
    "\n"
   ]
  },
  {
   "cell_type": "code",
   "execution_count": null,
   "metadata": {},
   "outputs": [],
   "source": [
    "model.eval()\n",
    "import matplotlib.pyplot as plt\n",
    "\n",
    "# Plot the feature maps for a specific layer (e.g., 'conv1')\n",
    "feature_maps = activation['conv1'].squeeze()\n",
    "num_feature_maps = feature_maps.size(0)\n",
    "\n",
    "fig, axes = plt.subplots(1, num_feature_maps, figsize=(12, 12))\n",
    "for i in range(num_feature_maps):\n",
    "    axes[i].imshow(feature_maps[i].cpu().detach().numpy(), cmap='viridis')\n",
    "    axes[i].set_title(f\"Feature Map {i+1}\")\n",
    "    axes[i].axis('off')\n",
    "\n",
    "plt.show()\n"
   ]
  }
 ],
 "metadata": {
  "kernelspec": {
   "display_name": "DSTA-Ex",
   "language": "python",
   "name": "python3"
  },
  "language_info": {
   "codemirror_mode": {
    "name": "ipython",
    "version": 3
   },
   "file_extension": ".py",
   "mimetype": "text/x-python",
   "name": "python",
   "nbconvert_exporter": "python",
   "pygments_lexer": "ipython3",
   "version": "3.9.13"
  },
  "orig_nbformat": 4
 },
 "nbformat": 4,
 "nbformat_minor": 2
}
