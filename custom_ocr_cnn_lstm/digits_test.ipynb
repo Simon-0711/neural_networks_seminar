{
 "cells": [
  {
   "cell_type": "code",
   "execution_count": 74,
   "metadata": {},
   "outputs": [],
   "source": [
    "import torch\n",
    "import torch.nn as nn\n",
    "import torch.optim as optim\n",
    "from torchvision import datasets, transforms\n",
    "from torch.utils.data import DataLoader\n",
    "from cnn_lstm_ocr import CNNLSTM_OCR\n",
    "from tqdm.notebook import tqdm\n",
    "\n",
    "# Define the CNNLSTM_OCR model and other hyperparameters\n",
    "params = {\n",
    "    \"input_dim\": 1,  # MNIST images are grayscale, so input_dim is 1\n",
    "    \"hidden_dim\": 64,\n",
    "    \"output_dim\": 10,  # 10 classes for digits 0-9\n",
    "    \"input_planes\": 1,  # Input image has one channel (grayscale)\n",
    "    \"planes\": 32,\n",
    "    \"max_width\": 28,  # MNIST images have width and height of 28\n",
    "    \"batch_size\": 1,\n",
    "}\n",
    "model = CNNLSTM_OCR(params)\n",
    "\n",
    "# Define data transformations and prepare the MNIST dataset\n",
    "transform = transforms.Compose([transforms.ToTensor(), transforms.Normalize((0.5,), (0.5,))])\n",
    "train_dataset = datasets.MNIST(root=\"./data\", train=True, transform=transform, download=True)\n",
    "test_dataset = datasets.MNIST(root=\"./data\", train=False, transform=transform)\n",
    "\n",
    "# Define data loaders\n",
    "batch_size = 1\n",
    "train_loader = DataLoader(train_dataset, batch_size=batch_size, shuffle=True)\n",
    "test_loader = DataLoader(test_dataset, batch_size=batch_size)\n",
    "\n",
    "# Define loss function and optimizer\n",
    "criterion = nn.CTCLoss()\n",
    "optimizer = optim.Adam(model.parameters(), lr=0.001)\n"
   ]
  },
  {
   "cell_type": "code",
   "execution_count": 53,
   "metadata": {},
   "outputs": [],
   "source": [
    "!export TORCH_USE_NNPACK=0"
   ]
  },
  {
   "cell_type": "code",
   "execution_count": 101,
   "metadata": {},
   "outputs": [
    {
     "data": {
      "application/vnd.jupyter.widget-view+json": {
       "model_id": "f4d8fe0ec247488094cedf56dcd4341d",
       "version_major": 2,
       "version_minor": 0
      },
      "text/plain": [
       "  0%|          | 0/60000 [00:00<?, ?it/s]"
      ]
     },
     "metadata": {},
     "output_type": "display_data"
    },
    {
     "name": "stdout",
     "output_type": "stream",
     "text": [
      "Outputs shape: torch.Size([49, 1, 10])\n",
      "Batch labels shape: torch.Size([1])\n",
      "Input lengths: tensor([49])\n",
      "Target lengths: tensor([1])\n"
     ]
    }
   ],
   "source": [
    "# Training loop\n",
    "num_epochs = 3\n",
    "device = torch.device(\"cpu\")\n",
    "model.to(device)\n",
    "\n",
    "for epoch in range(num_epochs):\n",
    "    model.train()\n",
    "    total_loss = 0.0\n",
    "\n",
    "    for batch_data, batch_labels in tqdm(train_loader):\n",
    "        batch_data, batch_labels = batch_data.to(device), batch_labels.to(device)\n",
    "        \n",
    "        optimizer.zero_grad()\n",
    "        outputs = model(batch_data)\n",
    "        \n",
    "        outputs = outputs.transpose(0, 1)\n",
    "\n",
    "        # Reshape batch_labels to match the shape of outputs\n",
    "        batch_labels = batch_labels.view(-1)  # Ensure the shape is compatible with CTC loss\n",
    "\n",
    "        input_lengths = torch.full((batch_data.size(0),), outputs.size(0), dtype=torch.int64)\n",
    "        target_lengths = torch.full((batch_labels.size(0),), batch_labels.size(0), dtype=torch.int64)\n",
    "        \n",
    "        # Print debug information\n",
    "        print(\"Outputs shape:\", outputs.shape)\n",
    "        print(\"Batch labels shape:\", batch_labels.shape)\n",
    "        print(\"Input lengths:\", input_lengths)\n",
    "        print(\"Target lengths:\", target_lengths)\n",
    "\n",
    "        loss = criterion(outputs, batch_labels, input_lengths, target_lengths)\n",
    "        if loss<0:\n",
    "            print(loss)\n",
    "        loss.backward()\n",
    "        optimizer.step()\n",
    "\n",
    "        total_loss += loss.item()\n",
    "        break\n",
    "    break\n",
    "\n",
    "    print(f\"Epoch [{epoch + 1}/{num_epochs}] - Loss: {total_loss / len(train_loader)}\")\n"
   ]
  },
  {
   "cell_type": "code",
   "execution_count": null,
   "metadata": {},
   "outputs": [],
   "source": [
    "# Testing loop\n",
    "model.eval()\n",
    "correct = 0\n",
    "total = 0\n",
    "\n",
    "with torch.no_grad():\n",
    "    for batch_data, batch_labels in test_loader:\n",
    "        batch_data, batch_labels = batch_data.to(device), batch_labels.to(device)\n",
    "        outputs = model(batch_data)\n",
    "        _, predicted = torch.max(outputs, 2)  # Get the predicted class\n",
    "        print(predicted)\n",
    "        total += batch_labels.size(0)\n",
    "        correct += (predicted == batch_labels).sum().item()\n",
    "\n",
    "accuracy = 100 * correct / total\n",
    "print(f\"Accuracy on the test dataset: {accuracy:.2f}%\")"
   ]
  },
  {
   "cell_type": "code",
   "execution_count": 96,
   "metadata": {},
   "outputs": [
    {
     "name": "stdout",
     "output_type": "stream",
     "text": [
      "Accuracy on the test dataset: 0.27%\n"
     ]
    }
   ],
   "source": [
    "import torch\n",
    "from torch.utils.data import DataLoader\n",
    "\n",
    "# Define a function for model evaluation\n",
    "def evaluate_model(model, test_loader, device):\n",
    "    model.eval()  # Set the model to evaluation mode\n",
    "    correct = 0\n",
    "    total = 0\n",
    "\n",
    "    with torch.no_grad():  # Disable gradient computation during evaluation\n",
    "        for batch_data, batch_labels in test_loader:\n",
    "            batch_data, batch_labels = batch_data.to(device), batch_labels.to(device)\n",
    "            \n",
    "            # Forward pass\n",
    "            outputs = model(batch_data)\n",
    "            \n",
    "            # Get the predicted class by selecting the one with the highest probability\n",
    "            predicted = outputs.argmax(2)  # Shape: (batch_size, sequence_length)\n",
    "            \n",
    "            # Compare the predicted labels to the true labels\n",
    "            correct += (predicted == batch_labels).all(dim=1).sum().item()\n",
    "            total += batch_data.size(0)\n",
    "\n",
    "    accuracy = (correct / total) * 100.0\n",
    "    return accuracy\n",
    "\n",
    "# Assuming you have already trained and have the model and test_loader\n",
    "# Define the device (CPU or GPU) to use for evaluation\n",
    "device = torch.device(\"cuda\" if torch.cuda.is_available() else \"cpu\")\n",
    "\n",
    "# Evaluate the model\n",
    "accuracy = evaluate_model(model, test_loader, device)\n",
    "\n",
    "print(f\"Accuracy on the test dataset: {accuracy:.2f}%\")\n"
   ]
  },
  {
   "cell_type": "code",
   "execution_count": 93,
   "metadata": {},
   "outputs": [
    {
     "data": {
      "image/png": "[encoded data removed]",
      "text/plain": [
       "<Figure size 640x480 with 1 Axes>"
      ]
     },
     "metadata": {},
     "output_type": "display_data"
    }
   ],
   "source": [
    "import torch\n",
    "import torchvision.transforms as transforms\n",
    "import matplotlib.pyplot as plt\n",
    "import random\n",
    "\n",
    "# Assuming you have already defined your model and test_loader as before\n",
    "\n",
    "# Set the model to evaluation mode\n",
    "model.eval()\n",
    "\n",
    "# Choose a random image from the test dataset\n",
    "random_index = random.randint(0, len(test_loader.dataset) - 1)\n",
    "image, label = test_loader.dataset[random_index]\n",
    "\n",
    "# Preprocess the image (apply the same transformations used during training)\n",
    "transform = transforms.Compose([transforms.ToTensor(), transforms.Normalize((0.5,), (0.5,))])\n",
    "\n",
    "# Ensure the image is in the format [C, H, W]\n",
    "if image.dim() == 2:\n",
    "    # If it's a grayscale image, add a channel dimension\n",
    "    image = image.unsqueeze(0)\n",
    "elif image.dim() == 3 and image.size(0) == 1:\n",
    "    # If it's a grayscale image with an extra singleton dimension, squeeze it\n",
    "    image = image.squeeze(0)\n",
    "\n",
    "# Apply the transformation\n",
    "input_image = image.unsqueeze(0).unsqueeze(0) # Add batch dimension\n",
    "\n",
    "# Perform the prediction\n",
    "with torch.no_grad():\n",
    "    output = model(input_image)\n",
    "\n",
    "# Get the predicted class label\n",
    "predicted_label = torch.argmax(output, dim=2)\n",
    "\n",
    "# Display the original image\n",
    "plt.imshow(image.squeeze().numpy(), cmap='gray')  # Squeeze the image back to [H, W]\n",
    "plt.title(f\"True Label: {label}, Predicted Label: {predicted_label[0][0].item()}\")\n",
    "plt.show()\n"
   ]
  },
  {
   "cell_type": "code",
   "execution_count": 77,
   "metadata": {},
   "outputs": [],
   "source": [
    "torch.save(model, \"mnist_model.pth\")"
   ]
  },
  {
   "cell_type": "code",
   "execution_count": 62,
   "metadata": {},
   "outputs": [
    {
     "data": {
      "text/plain": [
       "tensor([8])"
      ]
     },
     "execution_count": 62,
     "metadata": {},
     "output_type": "execute_result"
    }
   ],
   "source": [
    "batch_labels"
   ]
  },
  {
   "cell_type": "code",
   "execution_count": 63,
   "metadata": {},
   "outputs": [
    {
     "data": {
      "text/plain": [
       "torch.Size([1, 1, 28, 28])"
      ]
     },
     "execution_count": 63,
     "metadata": {},
     "output_type": "execute_result"
    }
   ],
   "source": [
    "batch_data.size()"
   ]
  },
  {
   "cell_type": "code",
   "execution_count": 64,
   "metadata": {},
   "outputs": [
    {
     "data": {
      "text/plain": [
       "tensor([1], dtype=torch.int32)"
      ]
     },
     "execution_count": 64,
     "metadata": {},
     "output_type": "execute_result"
    }
   ],
   "source": [
    "input_lengths"
   ]
  },
  {
   "cell_type": "code",
   "execution_count": 65,
   "metadata": {},
   "outputs": [
    {
     "data": {
      "text/plain": [
       "1"
      ]
     },
     "execution_count": 65,
     "metadata": {},
     "output_type": "execute_result"
    }
   ],
   "source": [
    "batch_size"
   ]
  },
  {
   "cell_type": "code",
   "execution_count": 67,
   "metadata": {},
   "outputs": [
    {
     "data": {
      "text/plain": [
       "torch.Size([49, 1, 10])"
      ]
     },
     "execution_count": 67,
     "metadata": {},
     "output_type": "execute_result"
    }
   ],
   "source": [
    "outputs.transpose(0, 1).shape"
   ]
  },
  {
   "cell_type": "code",
   "execution_count": null,
   "metadata": {},
   "outputs": [],
   "source": []
  }
 ],
 "metadata": {
  "kernelspec": {
   "display_name": "linguistik",
   "language": "python",
   "name": "python3"
  },
  "language_info": {
   "codemirror_mode": {
    "name": "ipython",
    "version": 3
   },
   "file_extension": ".py",
   "mimetype": "text/x-python",
   "name": "python",
   "nbconvert_exporter": "python",
   "pygments_lexer": "ipython3",
   "version": "3.9.13"
  },
  "orig_nbformat": 4
 },
 "nbformat": 4,
 "nbformat_minor": 2
}
