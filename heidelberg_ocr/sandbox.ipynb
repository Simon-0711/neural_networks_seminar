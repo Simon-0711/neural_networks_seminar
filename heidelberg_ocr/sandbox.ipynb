{
 "cells": [
  {
   "cell_type": "code",
   "execution_count": 12,
   "metadata": {},
   "outputs": [
    {
     "name": "stdout",
     "output_type": "stream",
     "text": [
      "torch.Size([2, 10])\n"
     ]
    }
   ],
   "source": [
    "import torch\n",
    "from vit import ViT\n",
    "\n",
    "# model1 = ResNet50ViT(img_dim=128, pretrained_resnet=False, \n",
    "#                         blocks=6, num_classes=10, \n",
    "#                         dim_linear_block=256, dim=256)\n",
    "# # or\n",
    "model = ViT(img_dim=256, in_channels=3, patch_dim=16, num_classes=10,dim=512)\n",
    "x = torch.rand(2, 3, 256, 256)\n",
    "y = model(x)\n",
    "print(y.shape)"
   ]
  },
  {
   "cell_type": "markdown",
   "metadata": {},
   "source": [
    "# Experiment with TransOCR from \n",
    "https://github.com/FudanVI/benchmarking-chinese-text-recognition/blob/main/models/TransOCR/model/transocr.py\n"
   ]
  },
  {
   "cell_type": "code",
   "execution_count": null,
   "metadata": {},
   "outputs": [],
   "source": [
    "import torch\n",
    "import torch.nn as nn\n",
    "import torch.optim as optim\n",
    "import os\n",
    "from transocr import Transformer\n",
    "from utils import get_data_package, converter, tensor2str, get_alphabet\n",
    "import zhconv\n",
    "\n",
    "# Define your variables\n",
    "exp_name = 'test'\n",
    "batch_size = 32\n",
    "lr = 1.0\n",
    "epoch = 1000\n",
    "radical = False\n",
    "test = False\n",
    "resume = ''\n",
    "train_dataset = ''\n",
    "test_dataset = ''\n",
    "imageH = 32\n",
    "imageW = 256\n",
    "coeff = 1.0\n",
    "alpha_path = './data/benchmark.txt'\n",
    "alpha_path_radical = './data/radicals.txt'\n",
    "decompose_path = './data/decompose.txt'\n",
    "\n",
    "alphabet = get_alphabet({'radical': radical}, 'char')  # Modify this as needed\n",
    "print('alphabet:', alphabet)\n",
    "\n",
    "model = Transformer({'imageH': imageH, 'imageW': imageW}).cuda()\n",
    "model = nn.DataParallel(model)\n",
    "train_loader, test_loader = get_data_package({'batch_size': batch_size, 'train_dataset': train_dataset, 'test_dataset': test_dataset})\n",
    "optimizer = optim.Adadelta(model.parameters(), lr=lr, rho=0.9, weight_decay=1e-4)\n",
    "criterion = torch.nn.CrossEntropyLoss().cuda()\n",
    "best_acc = -1\n",
    "\n",
    "if resume.strip() != '':\n",
    "    model.load_state_dict(torch.load(resume))\n",
    "    print('loading pretrained model！！！')\n",
    "\n",
    "def train(epoch, iteration, image, length, text_input, text_gt, length_radical, radical_input, radical_gt):\n",
    "    model.train()\n",
    "    optimizer.zero_grad()\n",
    "    result = model(image, length, text_input, length_radical, radical_input)\n",
    "\n",
    "    text_pred = result['pred']\n",
    "    loss_char = criterion(text_pred, text_gt)\n",
    "    if radical:\n",
    "        radical_pred = result['radical_pred']\n",
    "        loss_radical = criterion(radical_pred, radical_gt)\n",
    "        loss = loss_char + coeff * loss_radical\n",
    "        print(\n",
    "            'epoch : {} | iter : {}/{} | loss : {} | char : {} | radical : {} '.format(epoch, iteration, len(train_loader), loss, loss_char, loss_radical))\n",
    "    else:\n",
    "        loss = loss_char\n",
    "        print('epoch : {} | iter : {}/{} | loss : {}'.format(epoch, iteration, len(train_loader), loss))\n",
    "    loss.backward()\n",
    "    optimizer.step()\n",
    "\n",
    "test_time = 0\n",
    "@torch.no_grad()\n",
    "def test(epoch):\n",
    "    torch.cuda.empty_cache()\n"
   ]
  }
 ],
 "metadata": {
  "kernelspec": {
   "display_name": "s2s",
   "language": "python",
   "name": "python3"
  },
  "language_info": {
   "codemirror_mode": {
    "name": "ipython",
    "version": 3
   },
   "file_extension": ".py",
   "mimetype": "text/x-python",
   "name": "python",
   "nbconvert_exporter": "python",
   "pygments_lexer": "ipython3",
   "version": "3.9.13"
  },
  "orig_nbformat": 4
 },
 "nbformat": 4,
 "nbformat_minor": 2
}
