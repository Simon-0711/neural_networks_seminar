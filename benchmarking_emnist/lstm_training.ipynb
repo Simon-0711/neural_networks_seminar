{
 "cells": [
  {
   "cell_type": "code",
   "execution_count": 143,
   "metadata": {},
   "outputs": [
    {
     "name": "stdout",
     "output_type": "stream",
     "text": [
      "The autoreload extension is already loaded. To reload it, use:\n",
      "  %reload_ext autoreload\n"
     ]
    }
   ],
   "source": [
    "%load_ext autoreload\n",
    "%autoreload 2"
   ]
  },
  {
   "cell_type": "code",
   "execution_count": 144,
   "metadata": {},
   "outputs": [],
   "source": [
    "import torch.nn as nn\n",
    "import torch\n",
    "import itertools\n",
    "\n",
    "from emnist import get_emnist_data_loaders\n",
    "from models.crnn.crnn import CRNN\n",
    "from models.lstm_cnn.lstm_cnn import CNN_LSTM\n",
    "from training.trainer import Trainer\n",
    "from hyperparameter import common_hyperparameters, model_specific_hyperparameters\n",
    "from evaluation.metric import plot_metric, plot_multiple_metrics\n",
    "from evaluation.evaluations_utils import create_directory_if_not_exists\n",
    "from torch.optim.lr_scheduler import StepLR, ExponentialLR\n",
    "from utils import get_dict_from_pkl, save_dict_to_pkl"
   ]
  },
  {
   "cell_type": "code",
   "execution_count": 145,
   "metadata": {},
   "outputs": [
    {
     "name": "stdout",
     "output_type": "stream",
     "text": [
      "Number of Hyperparameter combinations: 12\n"
     ]
    }
   ],
   "source": [
    "# Generate all possible combinations of hyperparameters\n",
    "param_combinations = list(itertools.product(*model_specific_hyperparameters.values()))\n",
    "print(f\"Number of Hyperparameter combinations: {len(param_combinations)}\")\n",
    "\n",
    "# TODO Remove in final notebook\n",
    "#param_combinations = param_combinations[:3]"
   ]
  },
  {
   "cell_type": "code",
   "execution_count": 146,
   "metadata": {},
   "outputs": [
    {
     "name": "stdout",
     "output_type": "stream",
     "text": [
      "Prepared 144 models for training.\n"
     ]
    }
   ],
   "source": [
    "trainers = {}\n",
    "for param_combination in param_combinations: \n",
    "    \n",
    "    gru_hidden_size = param_combination[0]\n",
    "    gru_num_layers = param_combination[1]\n",
    "    cnn_output_height = param_combination[2]\n",
    "    cnn_output_width = param_combination[3]\n",
    "    learning_rate = param_combination[4]\n",
    "    batch_size = param_combination[5]\n",
    "    batch_size_val = param_combination[6]\n",
    "\n",
    "    num_classes = common_hyperparameters[\"NUM_CLASSES\"]   \n",
    "    blank_label = common_hyperparameters[\"BLANK_LABEL\"]\n",
    "    image_height = common_hyperparameters[\"IMAGE_HEIGHT\"]\n",
    "    digits_per_sequence = common_hyperparameters[\"DIGITS_PER_SEQUENCE\"]\n",
    "    number_of_sequences = common_hyperparameters[\"NUMBER_OF_SEQUENCES\"]\n",
    "    epochs = common_hyperparameters[\"EPOCHS\"]\n",
    "    weight_decay = common_hyperparameters[\"WEIGHT_DECAY\"]\n",
    "\n",
    "    # Load data\n",
    "    train_loader, val_loader, test_loader = get_emnist_data_loaders(number_of_sequences, digits_per_sequence, batch_size, batch_size_val)\n",
    "\n",
    "\n",
    "    # Setup model\n",
    "    models = {\n",
    "        \"lstm_cnn\": CNN_LSTM(gru_hidden_size=gru_hidden_size, gru_num_layers=gru_num_layers, num_classes=num_classes, cnn_output_height=cnn_output_height),\n",
    "        \"crnn\": CRNN(gru_hidden_size, gru_num_layers, num_classes, cnn_output_height)\n",
    "    }\n",
    "\n",
    "    criteria = {\n",
    "        \"crnn\": nn.CTCLoss(blank=common_hyperparameters['BLANK_LABEL'], reduction='mean', zero_infinity=True),\n",
    "        \"lstm_cnn\": nn.CTCLoss(blank=common_hyperparameters['BLANK_LABEL'], reduction='mean', zero_infinity=True)\n",
    "    }\n",
    "\n",
    "    optimizer_configs = {\n",
    "        \"adam_w\": torch.optim.AdamW,\n",
    "        \"adam_w_regulise\": torch.optim.AdamW\n",
    "    }\n",
    "\n",
    "    scheduler_configs = {\n",
    "        # \"step_lr\": (StepLR, {\"step_size\": 2, \"gamma\": 0.5}),\n",
    "        \"no_scheduler\": (None, None),\n",
    "        \"exponential_lr\": (ExponentialLR, {\"gamma\": 0.8}),\n",
    "    }\n",
    "\n",
    "    # Setup trainer\n",
    "    # lstm_trainer =  Trainer(models[\"lstm_cnn\"], criterions[\"lstm_cnn\"], optimizers[\"lstm_cnn\"], train_loader, val_loader, test_loader, epochs=epochs, args={\n",
    "    #         \"blank_label\": blank_label,\n",
    "    #         \"cnn_output_width\": cnn_output_width,\n",
    "    #     })\n",
    "    # trainers = {\n",
    "    #     \"lstm_cnn\": lstm_trainer\n",
    "    # }\n",
    "\n",
    "    for model_name, model in models.items():\n",
    "        for optimizer_name, optimizer_class in optimizer_configs.items():\n",
    "            if optimizer_name == \"adam_w_regulise\":\n",
    "                optimizer = optimizer_class(model.parameters(), lr=learning_rate, weight_decay=weight_decay)\n",
    "            else:\n",
    "                optimizer = optimizer_class(model.parameters(), lr=learning_rate)\n",
    "            for scheduler_name, (scheduler_class, scheduler_args) in scheduler_configs.items():\n",
    "                if scheduler_name == \"no_scheduler\":\n",
    "                    scheduler = None\n",
    "                else:\n",
    "                    scheduler = scheduler_class(optimizer, **scheduler_args)\n",
    "                criterion = criteria[model_name]\n",
    "\n",
    "                # Create model name\n",
    "                abbreviation = f\"G{gru_hidden_size}__L{gru_num_layers}__H{cnn_output_height}__W{cnn_output_width}__LR{learning_rate}__BS{batch_size}__BSV{batch_size_val}\"\n",
    "                abbreviation = abbreviation.replace(\".\", \"_\")\n",
    "                main_model_name = model_name.split('-', 1)[0]\n",
    "                trainer_name = f\"{model_name}-{optimizer_name}_{scheduler_name}_{abbreviation}\"\n",
    "\n",
    "                trainer = Trainer(\n",
    "                    model, model_name, criterion, optimizer, train_loader, val_loader, test_loader,\n",
    "                    epochs=epochs, args={\"blank_label\": blank_label, \"cnn_output_width\": cnn_output_width},\n",
    "                    scheduler=scheduler\n",
    "                )\n",
    "                # trainer.to_device(\"mps\")\n",
    "                trainers[trainer_name] = trainer\n",
    "    #             break\n",
    "    #         break\n",
    "    #     break\n",
    "    # break\n",
    "\n",
    "    \n",
    "print(f\"Prepared {len(trainers)} models for training.\")"
   ]
  },
  {
   "cell_type": "code",
   "execution_count": 147,
   "metadata": {},
   "outputs": [
    {
     "name": "stdout",
     "output_type": "stream",
     "text": [
      "Training lstm_cnn-adam_w_step_lr_G128__L2__H4__W32__LR0_01__BS64__BSV64\n"
     ]
    },
    {
     "name": "stderr",
     "output_type": "stream",
     "text": [
      "100%|██████████| 110/110 [00:32<00:00,  3.39it/s]\n"
     ]
    },
    {
     "name": "stdout",
     "output_type": "stream",
     "text": [
      "Training Epoch: 1/10; Loss: 2.5620224475860596; Correct: 0/7000 = 0.0000; Average CER Score: 0.999\n"
     ]
    },
    {
     "name": "stderr",
     "output_type": "stream",
     "text": [
      "100%|██████████| 47/47 [00:06<00:00,  6.75it/s]\n"
     ]
    },
    {
     "name": "stdout",
     "output_type": "stream",
     "text": [
      "Validate Epoch: 1/10; Loss: 2.6249468326568604; Correct: 0/2999 = 0.0000; Average CER Score: 1.0\n"
     ]
    },
    {
     "name": "stderr",
     "output_type": "stream",
     "text": [
      "100%|██████████| 110/110 [00:32<00:00,  3.40it/s]\n"
     ]
    },
    {
     "name": "stdout",
     "output_type": "stream",
     "text": [
      "Training Epoch: 2/10; Loss: 2.492133378982544; Correct: 0/7000 = 0.0000; Average CER Score: 0.999\n"
     ]
    },
    {
     "name": "stderr",
     "output_type": "stream",
     "text": [
      "100%|██████████| 47/47 [00:06<00:00,  6.72it/s]\n"
     ]
    },
    {
     "name": "stdout",
     "output_type": "stream",
     "text": [
      "Validate Epoch: 2/10; Loss: 2.566903591156006; Correct: 0/2999 = 0.0000; Average CER Score: 0.991\n"
     ]
    },
    {
     "name": "stderr",
     "output_type": "stream",
     "text": [
      "100%|██████████| 110/110 [00:32<00:00,  3.40it/s]\n"
     ]
    },
    {
     "name": "stdout",
     "output_type": "stream",
     "text": [
      "Training Epoch: 3/10; Loss: 2.487724781036377; Correct: 0/7000 = 0.0000; Average CER Score: 0.988\n"
     ]
    },
    {
     "name": "stderr",
     "output_type": "stream",
     "text": [
      "100%|██████████| 47/47 [00:07<00:00,  6.66it/s]\n"
     ]
    },
    {
     "name": "stdout",
     "output_type": "stream",
     "text": [
      "Validate Epoch: 3/10; Loss: 2.4083774089813232; Correct: 0/2999 = 0.0000; Average CER Score: 0.973\n"
     ]
    },
    {
     "name": "stderr",
     "output_type": "stream",
     "text": [
      "100%|██████████| 110/110 [00:32<00:00,  3.38it/s]\n"
     ]
    },
    {
     "name": "stdout",
     "output_type": "stream",
     "text": [
      "Training Epoch: 4/10; Loss: 2.1166069507598877; Correct: 0/7000 = 0.0000; Average CER Score: 0.972\n"
     ]
    },
    {
     "name": "stderr",
     "output_type": "stream",
     "text": [
      "100%|██████████| 47/47 [00:07<00:00,  6.69it/s]\n"
     ]
    },
    {
     "name": "stdout",
     "output_type": "stream",
     "text": [
      "Validate Epoch: 4/10; Loss: 2.02249813079834; Correct: 0/2999 = 0.0000; Average CER Score: 0.956\n"
     ]
    },
    {
     "name": "stderr",
     "output_type": "stream",
     "text": [
      "100%|██████████| 110/110 [00:32<00:00,  3.39it/s]\n"
     ]
    },
    {
     "name": "stdout",
     "output_type": "stream",
     "text": [
      "Training Epoch: 5/10; Loss: 1.415188193321228; Correct: 2/7000 = 0.0003; Average CER Score: 0.948\n"
     ]
    },
    {
     "name": "stderr",
     "output_type": "stream",
     "text": [
      "100%|██████████| 47/47 [00:07<00:00,  6.62it/s]\n"
     ]
    },
    {
     "name": "stdout",
     "output_type": "stream",
     "text": [
      "Validate Epoch: 5/10; Loss: 1.4761571884155273; Correct: 18/2999 = 0.0060; Average CER Score: 0.919\n"
     ]
    },
    {
     "name": "stderr",
     "output_type": "stream",
     "text": [
      "100%|██████████| 110/110 [00:32<00:00,  3.36it/s]\n"
     ]
    },
    {
     "name": "stdout",
     "output_type": "stream",
     "text": [
      "Training Epoch: 6/10; Loss: 0.5542123317718506; Correct: 920/7000 = 0.1314; Average CER Score: 0.874\n"
     ]
    },
    {
     "name": "stderr",
     "output_type": "stream",
     "text": [
      "100%|██████████| 47/47 [00:07<00:00,  6.56it/s]\n"
     ]
    },
    {
     "name": "stdout",
     "output_type": "stream",
     "text": [
      "Validate Epoch: 6/10; Loss: 0.6237149238586426; Correct: 1032/2999 = 0.3441; Average CER Score: 0.802\n"
     ]
    },
    {
     "name": "stderr",
     "output_type": "stream",
     "text": [
      "100%|██████████| 110/110 [00:32<00:00,  3.35it/s]\n"
     ]
    },
    {
     "name": "stdout",
     "output_type": "stream",
     "text": [
      "Training Epoch: 7/10; Loss: 0.3694000542163849; Correct: 3505/7000 = 0.5007; Average CER Score: 0.77\n"
     ]
    },
    {
     "name": "stderr",
     "output_type": "stream",
     "text": [
      "100%|██████████| 47/47 [00:07<00:00,  6.60it/s]\n"
     ]
    },
    {
     "name": "stdout",
     "output_type": "stream",
     "text": [
      "Validate Epoch: 7/10; Loss: 0.4141220450401306; Correct: 1774/2999 = 0.5915; Average CER Score: 0.704\n"
     ]
    },
    {
     "name": "stderr",
     "output_type": "stream",
     "text": [
      "100%|██████████| 110/110 [00:32<00:00,  3.37it/s]\n"
     ]
    },
    {
     "name": "stdout",
     "output_type": "stream",
     "text": [
      "Training Epoch: 8/10; Loss: 0.19424861669540405; Correct: 4888/7000 = 0.6983; Average CER Score: 0.684\n"
     ]
    },
    {
     "name": "stderr",
     "output_type": "stream",
     "text": [
      "100%|██████████| 47/47 [00:07<00:00,  6.39it/s]\n"
     ]
    },
    {
     "name": "stdout",
     "output_type": "stream",
     "text": [
      "Validate Epoch: 8/10; Loss: 0.28928443789482117; Correct: 2131/2999 = 0.7106; Average CER Score: 0.625\n"
     ]
    },
    {
     "name": "stderr",
     "output_type": "stream",
     "text": [
      "100%|██████████| 110/110 [00:34<00:00,  3.19it/s]\n"
     ]
    },
    {
     "name": "stdout",
     "output_type": "stream",
     "text": [
      "Training Epoch: 9/10; Loss: 0.17281872034072876; Correct: 5624/7000 = 0.8034; Average CER Score: 0.613\n"
     ]
    },
    {
     "name": "stderr",
     "output_type": "stream",
     "text": [
      "100%|██████████| 47/47 [00:07<00:00,  6.30it/s]\n"
     ]
    },
    {
     "name": "stdout",
     "output_type": "stream",
     "text": [
      "Validate Epoch: 9/10; Loss: 0.18776611983776093; Correct: 2242/2999 = 0.7476; Average CER Score: 0.563\n"
     ]
    },
    {
     "name": "stderr",
     "output_type": "stream",
     "text": [
      "100%|██████████| 110/110 [00:34<00:00,  3.19it/s]\n"
     ]
    },
    {
     "name": "stdout",
     "output_type": "stream",
     "text": [
      "Training Epoch: 10/10; Loss: 0.13210564851760864; Correct: 5820/7000 = 0.8314; Average CER Score: 0.556\n"
     ]
    },
    {
     "name": "stderr",
     "output_type": "stream",
     "text": [
      "100%|██████████| 47/47 [00:07<00:00,  6.29it/s]\n"
     ]
    },
    {
     "name": "stdout",
     "output_type": "stream",
     "text": [
      "Validate Epoch: 10/10; Loss: 0.21169792115688324; Correct: 2302/2999 = 0.7676; Average CER Score: 0.512\n"
     ]
    },
    {
     "name": "stderr",
     "output_type": "stream",
     "text": [
      "100%|██████████| 1/1 [00:00<00:00, 153.50it/s]\n"
     ]
    },
    {
     "name": "stdout",
     "output_type": "stream",
     "text": [
      "\u001b[91mTest Predictions --> Loss: 0.03896240144968033; Correct: 1/1 = 1.0000; Average CER Score: 0.512\u001b[0m\n",
      "Finished training lstm_cnn-adam_w_step_lr_G128__L2__H4__W32__LR0_01__BS64__BSV64 and took 401.12872791290283 seconds.\n",
      "\n",
      "####################################################################################################\n",
      "\n",
      "Training lstm_cnn-adam_w_no_scheduler_G128__L2__H4__W32__LR0_01__BS64__BSV64\n"
     ]
    },
    {
     "name": "stderr",
     "output_type": "stream",
     "text": [
      "100%|██████████| 110/110 [00:34<00:00,  3.21it/s]\n"
     ]
    },
    {
     "name": "stdout",
     "output_type": "stream",
     "text": [
      "Training Epoch: 1/10; Loss: 0.09461338073015213; Correct: 6023/7000 = 0.8604; Average CER Score: 0.032\n"
     ]
    },
    {
     "name": "stderr",
     "output_type": "stream",
     "text": [
      "100%|██████████| 47/47 [00:07<00:00,  6.51it/s]\n"
     ]
    },
    {
     "name": "stdout",
     "output_type": "stream",
     "text": [
      "Validate Epoch: 1/10; Loss: 0.19511878490447998; Correct: 2333/2999 = 0.7779; Average CER Score: 0.056\n"
     ]
    },
    {
     "name": "stderr",
     "output_type": "stream",
     "text": [
      "100%|██████████| 110/110 [00:33<00:00,  3.25it/s]\n"
     ]
    },
    {
     "name": "stdout",
     "output_type": "stream",
     "text": [
      "Training Epoch: 2/10; Loss: 0.12316945940256119; Correct: 6121/7000 = 0.8744; Average CER Score: 0.03\n"
     ]
    },
    {
     "name": "stderr",
     "output_type": "stream",
     "text": [
      "100%|██████████| 47/47 [00:07<00:00,  6.47it/s]\n"
     ]
    },
    {
     "name": "stdout",
     "output_type": "stream",
     "text": [
      "Validate Epoch: 2/10; Loss: 0.15265624225139618; Correct: 2352/2999 = 0.7843; Average CER Score: 0.056\n"
     ]
    },
    {
     "name": "stderr",
     "output_type": "stream",
     "text": [
      "100%|██████████| 110/110 [00:34<00:00,  3.23it/s]\n"
     ]
    },
    {
     "name": "stdout",
     "output_type": "stream",
     "text": [
      "Training Epoch: 3/10; Loss: 0.0823090597987175; Correct: 6198/7000 = 0.8854; Average CER Score: 0.029\n"
     ]
    },
    {
     "name": "stderr",
     "output_type": "stream",
     "text": [
      "100%|██████████| 47/47 [00:07<00:00,  6.48it/s]\n"
     ]
    },
    {
     "name": "stdout",
     "output_type": "stream",
     "text": [
      "Validate Epoch: 3/10; Loss: 0.1363014578819275; Correct: 2368/2999 = 0.7896; Average CER Score: 0.055\n"
     ]
    },
    {
     "name": "stderr",
     "output_type": "stream",
     "text": [
      "100%|██████████| 110/110 [00:33<00:00,  3.25it/s]\n"
     ]
    },
    {
     "name": "stdout",
     "output_type": "stream",
     "text": [
      "Training Epoch: 4/10; Loss: 0.1262056976556778; Correct: 6251/7000 = 0.8930; Average CER Score: 0.028\n"
     ]
    },
    {
     "name": "stderr",
     "output_type": "stream",
     "text": [
      "100%|██████████| 47/47 [00:07<00:00,  6.54it/s]\n"
     ]
    },
    {
     "name": "stdout",
     "output_type": "stream",
     "text": [
      "Validate Epoch: 4/10; Loss: 0.1527717411518097; Correct: 2402/2999 = 0.8009; Average CER Score: 0.054\n"
     ]
    },
    {
     "name": "stderr",
     "output_type": "stream",
     "text": [
      "  0%|          | 0/110 [00:00<?, ?it/s]"
     ]
    }
   ],
   "source": [
    "import time\n",
    "\n",
    "metrics_global = {}\n",
    "for model_name, trainer in trainers.items():\n",
    "    print(f\"Training {model_name}\")\n",
    "    start_time = time.time()\n",
    "    metrics = trainer.train_validate_test()\n",
    "    end_time = time.time()\n",
    "    print(f\"Finished training {model_name} and took {end_time - start_time} seconds.\")\n",
    "    print(\"\\n\" + 100*\"#\" + \"\\n\")\n",
    "    \n",
    "    # Save the trained model with abbreviation and parameter values\n",
    "    main_model_name = model_name.split('-', 1)[0]\n",
    "    base_path = f'models/{main_model_name}/{model_name}/'\n",
    "\n",
    "    # Add metrics to model name\n",
    "    metrics_global[f\"{model_name}\"] = metrics\n",
    "    \n",
    "    # Save model to disk\n",
    "    create_directory_if_not_exists(base_path)\n",
    "    save_path = base_path + \"model.pth\"\n",
    "    torch.save(trainer.model.state_dict(), save_path)\n",
    "    save_dict_to_pkl(metrics_global, \"metrics_global\")"
   ]
  },
  {
   "cell_type": "code",
   "execution_count": null,
   "metadata": {},
   "outputs": [],
   "source": [
    "# Save and load metrics to file\n",
    "save_dict_to_pkl(metrics_global, \"metrics_global\")\n",
    "grid_search_metrics = get_dict_from_pkl(\"metrics_global\")"
   ]
  },
  {
   "cell_type": "code",
   "execution_count": null,
   "metadata": {},
   "outputs": [
    {
     "name": "stdout",
     "output_type": "stream",
     "text": [
      "('crnn-adam_step_lr_G128__L2__H4__W32__LR0_01__BS64__BSV64', {'id': 0, 'test_loss': 2.637765884399414})\n"
     ]
    }
   ],
   "source": [
    "# Get top 5 models based on loss\n",
    "top_models = {}\n",
    "\n",
    "def get_top_models(metric=\"test_loss\", top_n=5):\n",
    "\n",
    "    for model_name, model_scores in grid_search_metrics.items():\n",
    "        model_metric = model_scores[metric][0]\n",
    "        top_models[model_name] = model_metric\n",
    "\n",
    "    # Sort models by loss (ascending order)\n",
    "    sorted_models = dict(sorted(top_models.items(), key=lambda item: item[1]))\n",
    "\n",
    "    # Get top 5 models\n",
    "    top_n_models = dict(list(sorted_models.items())[:top_n])\n",
    "\n",
    "    # Create a new dictionary with numerical keys\n",
    "    numerical_top_models = {model: {\"id\": idx, f\"{metric}\": metric_value} for idx, (model, metric_value) in enumerate(top_n_models.items())}\n",
    "\n",
    "    # Print the top 5 models with numerical keys\n",
    "    for item in numerical_top_models.items():\n",
    "        print(item)\n",
    "    return numerical_top_models\n",
    "\n",
    "# Get top 5 models based on loss\n",
    "numerical_top_models = get_top_models(metric=\"test_loss\", top_n=5)"
   ]
  },
  {
   "cell_type": "code",
   "execution_count": null,
   "metadata": {},
   "outputs": [
    {
     "data": {
      "image/png": "[encoded data removed]",
      "text/plain": [
       "<Figure size 1200x600 with 1 Axes>"
      ]
     },
     "metadata": {
      "needs_background": "light"
     },
     "output_type": "display_data"
    }
   ],
   "source": [
    "import numpy as np\n",
    "from utils import split_and_insert_newline_list \n",
    "import matplotlib.pyplot as plt\n",
    "\n",
    "model_names_top_5 = list(numerical_top_models.keys())\n",
    "model_number_top_5 = [item[\"id\"] for idx, item in numerical_top_models.items()]\n",
    "model_scores_top_5 = [item[\"test_loss\"] for idx, item in numerical_top_models.items()]\n",
    "\n",
    "# Create a horizontal bar plot for all metrics\n",
    "# Update fig size\n",
    "plt.figure(figsize=(12, 6), dpi=100)\n",
    "\n",
    "plt.barh(model_number_top_5, model_scores_top_5)  # Horizontal bar plot\n",
    "\n",
    "plt.xlabel('CTC Loss')  # Adjust label\n",
    "plt.ylabel('Model Number')  # Adjust label\n",
    "plt.title('CTC Loss Comparison for Top 5 Grid Search Models', fontsize=16)  # Adjust title font size\n",
    "\n",
    "# Customize font size for model names\n",
    "plt.yticks(fontsize=10)\n",
    "\n",
    "plt.show()\n"
   ]
  },
  {
   "cell_type": "markdown",
   "metadata": {},
   "source": [
    "## Plot CTC loss and CER metric to file"
   ]
  },
  {
   "cell_type": "code",
   "execution_count": null,
   "metadata": {},
   "outputs": [
    {
     "name": "stdout",
     "output_type": "stream",
     "text": [
      "Saving Loss Plot for model: crnn-adam_step_lr_G128__L2__H4__W32__LR0_01__BS64__BSV64\n"
     ]
    },
    {
     "data": {
      "text/plain": [
       "<Figure size 1200x600 with 0 Axes>"
      ]
     },
     "metadata": {},
     "output_type": "display_data"
    },
    {
     "data": {
      "text/plain": [
       "<Figure size 1200x600 with 0 Axes>"
      ]
     },
     "metadata": {},
     "output_type": "display_data"
    }
   ],
   "source": [
    "for model_name, trainer in trainers.items():\n",
    "    main_model_name = model_name.split('-', 1)[0]\n",
    "    # Get model paths\n",
    "    base_path = f'models/{main_model_name}/{model_name}/'\n",
    "    model_path = base_path + \"model.pth\"\n",
    "    \n",
    "    print(f\"Saving Loss Plot for model: {model_name}\")\n",
    "    #model = model.to(\"mps\")\n",
    "    # model.load_state_dict(torch.load(model_path))\n",
    "\n",
    "    # Plot the trained model\n",
    "    plot_metric(model_name=model_name, train_metric_per_epoch=trainer.metrics[\"train_loss\"], val_metric_per_epoch=trainer.metrics[\"val_loss\"], figure_evaluation_dir=f\"{base_path}\", metric_name=\"CTC Loss\")\n",
    "    plot_metric(model_name=model_name, train_metric_per_epoch=trainer.metrics[\"train_cer\"], val_metric_per_epoch=trainer.metrics[\"val_cer\"], figure_evaluation_dir=f\"{base_path}\", metric_name=\"CER\")"
   ]
  },
  {
   "cell_type": "markdown",
   "metadata": {},
   "source": [
    "## Plot CTC loss and CER metric to file for top 5 models"
   ]
  },
  {
   "cell_type": "code",
   "execution_count": null,
   "metadata": {},
   "outputs": [
    {
     "data": {
      "text/plain": [
       "<Figure size 1200x600 with 0 Axes>"
      ]
     },
     "metadata": {},
     "output_type": "display_data"
    },
    {
     "data": {
      "text/plain": [
       "<Figure size 1200x600 with 0 Axes>"
      ]
     },
     "metadata": {},
     "output_type": "display_data"
    },
    {
     "data": {
      "text/plain": [
       "<Figure size 1200x600 with 0 Axes>"
      ]
     },
     "metadata": {},
     "output_type": "display_data"
    },
    {
     "data": {
      "text/plain": [
       "<Figure size 1200x600 with 0 Axes>"
      ]
     },
     "metadata": {},
     "output_type": "display_data"
    }
   ],
   "source": [
    "model_ids = []\n",
    "model_training_losses = []\n",
    "model_val_losses = []\n",
    "model_training_cers = []\n",
    "model_val_cers = []\n",
    "\n",
    "for model_name, trainer in trainers.items():\n",
    "    if model_name in model_names_top_5:\n",
    "        model_id = numerical_top_models[model_name][\"id\"]\n",
    "        model_ids.append(model_id)\n",
    "        # Add best losses to list\n",
    "        model_training_losses.append(trainer.metrics[\"train_loss\"])\n",
    "        model_val_losses.append(trainer.metrics[\"val_loss\"])\n",
    "        # Add cers for best losses to list\n",
    "        model_training_cers.append(trainer.metrics[\"train_cer\"])\n",
    "        model_val_cers.append(trainer.metrics[\"val_cer\"])\n",
    "\n",
    "# Get model paths\n",
    "main_model_name = model_name.split('-', 1)[0]\n",
    "base_path = f'models/{main_model_name}/'\n",
    "\n",
    "# Plot the trained model\n",
    "plot_multiple_metrics(\n",
    "    model_names=model_ids, \n",
    "    train_metrics_list=model_training_losses, \n",
    "    val_metrics_list=model_val_losses, \n",
    "    figure_evaluation_dir=base_path,\n",
    "    metric_name=\"CTC Loss\"\n",
    ")\n",
    "\n",
    "plot_multiple_metrics(\n",
    "    model_names=model_ids, \n",
    "    train_metrics_list=model_training_cers, \n",
    "    val_metrics_list=model_val_cers, \n",
    "    figure_evaluation_dir=base_path,\n",
    "    metric_name=\"CER\"\n",
    ")"
   ]
  },
  {
   "cell_type": "code",
   "execution_count": null,
   "metadata": {},
   "outputs": [
    {
     "name": "stdout",
     "output_type": "stream",
     "text": [
      "Testing model crnn-adam_step_lr_G128__L2__H4__W32__LR0_01__BS64__BSV64\n"
     ]
    },
    {
     "name": "stderr",
     "output_type": "stream",
     "text": [
      "100%|██████████| 1/1 [00:00<00:00, 162.54it/s]"
     ]
    },
    {
     "name": "stdout",
     "output_type": "stream",
     "text": [
      "\u001b[91mTest Predictions --> Loss: 2.637765884399414; Correct: 0/1 = 0.0000; Average CER Score: 1.0\u001b[0m\n",
      "Test Sample: 1\n",
      "Gold Label: [4 3 8 1 6]\n",
      "Model Output: []\n"
     ]
    },
    {
     "name": "stderr",
     "output_type": "stream",
     "text": [
      "\n"
     ]
    },
    {
     "data": {
      "image/png": "[encoded data removed]",
      "text/plain": [
       "<Figure size 432x288 with 1 Axes>"
      ]
     },
     "metadata": {
      "needs_background": "light"
     },
     "output_type": "display_data"
    },
    {
     "name": "stdout",
     "output_type": "stream",
     "text": [
      "\n",
      "####################################################################################################\n",
      "\n"
     ]
    }
   ],
   "source": [
    "for model_name, trainer in trainers.items():\n",
    "    print(f\"Testing model {model_name}\")\n",
    "\n",
    "    # Plot the trained model\n",
    "    trainer.test(plot_n=1, plot=True)\n",
    "    print(\"\\n\" + 100*\"#\" + \"\\n\")"
   ]
  },
  {
   "cell_type": "code",
   "execution_count": null,
   "metadata": {},
   "outputs": [],
   "source": []
  }
 ],
 "metadata": {
  "kernelspec": {
   "display_name": "s2s_learning_seminar",
   "language": "python",
   "name": "python3"
  },
  "language_info": {
   "codemirror_mode": {
    "name": "ipython",
    "version": 3
   },
   "file_extension": ".py",
   "mimetype": "text/x-python",
   "name": "python",
   "nbconvert_exporter": "python",
   "pygments_lexer": "ipython3",
   "version": "3.9.13"
  },
  "orig_nbformat": 4,
  "vscode": {
   "interpreter": {
    "hash": "a6a6a2f4e9b3d29343f27ef6aef311b54e340d4b6fc29835f858df5c984e5196"
   }
  }
 },
 "nbformat": 4,
 "nbformat_minor": 2
}
