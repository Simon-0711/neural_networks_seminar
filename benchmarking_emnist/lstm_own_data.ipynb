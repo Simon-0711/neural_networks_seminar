{
 "cells": [
  {
   "cell_type": "code",
   "execution_count": 1,
   "metadata": {},
   "outputs": [],
   "source": [
    "%load_ext autoreload\n",
    "%autoreload 2"
   ]
  },
  {
   "cell_type": "code",
   "execution_count": 2,
   "metadata": {},
   "outputs": [],
   "source": [
    "from emnist import get_emnist_data_loaders\n",
    "train_loader, val_loader = get_emnist_data_loaders()"
   ]
  },
  {
   "cell_type": "code",
   "execution_count": 43,
   "metadata": {},
   "outputs": [
    {
     "name": "stdout",
     "output_type": "stream",
     "text": [
      "Training crnn\n",
      "100%|\u001b[32m██████████\u001b[39m| 125/125 [00:38<00:00,  3.27it/s]\n",
      "EPOCH 1/10 - TRAINING. Correct: 157/8000 = 0.0196 - Average CER Score: 0.902\n",
      "100%|\u001b[34m██████████\u001b[39m| 2000/2000 [00:12<00:00, 163.40it/s]\n",
      "EPOCH 1/10 - TESTING. Correct: 727/2000 = 0.3635 - Average CER Score: 0.269\n",
      "100%|\u001b[32m██████████\u001b[39m| 125/125 [00:39<00:00,  3.14it/s]\n",
      "EPOCH 2/10 - TRAINING. Correct: 5462/8000 = 0.6827 - Average CER Score: 0.501\n",
      "100%|\u001b[34m██████████\u001b[39m| 2000/2000 [00:13<00:00, 152.60it/s]\n",
      "EPOCH 2/10 - TESTING. Correct: 1600/2000 = 0.8000 - Average CER Score: 0.159\n",
      "100%|\u001b[32m██████████\u001b[39m| 125/125 [00:40<00:00,  3.07it/s]\n",
      "EPOCH 3/10 - TRAINING. Correct: 6821/8000 = 0.8526 - Average CER Score: 0.347\n",
      "100%|\u001b[34m██████████\u001b[39m| 2000/2000 [00:14<00:00, 137.21it/s]\n",
      "EPOCH 3/10 - TESTING. Correct: 1685/2000 = 0.8425 - Average CER Score: 0.119\n",
      "100%|\u001b[32m██████████\u001b[39m| 125/125 [00:40<00:00,  3.11it/s]\n",
      "EPOCH 4/10 - TRAINING. Correct: 7190/8000 = 0.8988 - Average CER Score: 0.266\n",
      "100%|\u001b[34m██████████\u001b[39m| 2000/2000 [00:13<00:00, 149.02it/s]\n",
      "EPOCH 4/10 - TESTING. Correct: 1740/2000 = 0.8700 - Average CER Score: 0.097\n",
      "100%|\u001b[32m██████████\u001b[39m| 125/125 [00:40<00:00,  3.12it/s]\n",
      "EPOCH 5/10 - TRAINING. Correct: 7408/8000 = 0.9260 - Average CER Score: 0.216\n",
      "100%|\u001b[34m██████████\u001b[39m| 2000/2000 [00:13<00:00, 150.12it/s]\n",
      "EPOCH 5/10 - TESTING. Correct: 1750/2000 = 0.8750 - Average CER Score: 0.084\n",
      "100%|\u001b[32m██████████\u001b[39m| 125/125 [00:40<00:00,  3.05it/s]\n",
      "EPOCH 6/10 - TRAINING. Correct: 7573/8000 = 0.9466 - Average CER Score: 0.182\n",
      "100%|\u001b[34m██████████\u001b[39m| 2000/2000 [00:13<00:00, 148.53it/s]\n",
      "EPOCH 6/10 - TESTING. Correct: 1740/2000 = 0.8700 - Average CER Score: 0.075\n",
      "100%|\u001b[32m██████████\u001b[39m| 125/125 [00:40<00:00,  3.08it/s]\n",
      "EPOCH 7/10 - TRAINING. Correct: 7727/8000 = 0.9659 - Average CER Score: 0.157\n",
      "100%|\u001b[34m██████████\u001b[39m| 2000/2000 [00:13<00:00, 145.57it/s]\n",
      "EPOCH 7/10 - TESTING. Correct: 1813/2000 = 0.9065 - Average CER Score: 0.067\n",
      "100%|\u001b[32m██████████\u001b[39m| 125/125 [00:43<00:00,  2.89it/s]\n",
      "EPOCH 8/10 - TRAINING. Correct: 7817/8000 = 0.9771 - Average CER Score: 0.138\n",
      "100%|\u001b[34m██████████\u001b[39m| 2000/2000 [00:15<00:00, 128.57it/s]\n",
      "EPOCH 8/10 - TESTING. Correct: 1810/2000 = 0.9050 - Average CER Score: 0.061\n",
      "100%|\u001b[32m██████████\u001b[39m| 125/125 [00:43<00:00,  2.88it/s]\n",
      "EPOCH 9/10 - TRAINING. Correct: 7789/8000 = 0.9736 - Average CER Score: 0.124\n",
      "100%|\u001b[34m██████████\u001b[39m| 2000/2000 [00:15<00:00, 128.73it/s]\n",
      "EPOCH 9/10 - TESTING. Correct: 1754/2000 = 0.8770 - Average CER Score: 0.058\n",
      "100%|\u001b[32m██████████\u001b[39m| 125/125 [00:44<00:00,  2.83it/s]\n",
      "EPOCH 10/10 - TRAINING. Correct: 7815/8000 = 0.9769 - Average CER Score: 0.112\n",
      "100%|\u001b[34m██████████\u001b[39m| 2000/2000 [00:16<00:00, 124.77it/s]\n",
      "EPOCH 10/10 - TESTING. Correct: 1796/2000 = 0.8980 - Average CER Score: 0.054\n",
      "Finished training crnn\n",
      "Training lstm_cnn\n",
      "100%|\u001b[32m██████████\u001b[39m| 125/125 [00:44<00:00,  2.79it/s]\n",
      "EPOCH 1/10 - TRAINING. Correct: 0/8000 = 0.0000 - Average CER Score: 0.999\n",
      "100%|\u001b[34m██████████\u001b[39m| 2000/2000 [00:12<00:00, 163.59it/s]\n",
      "EPOCH 1/10 - TESTING. Correct: 0/2000 = 0.0000 - Average CER Score: 1.0\n",
      "100%|\u001b[32m██████████\u001b[39m| 125/125 [00:44<00:00,  2.80it/s]\n",
      "EPOCH 2/10 - TRAINING. Correct: 0/8000 = 0.0000 - Average CER Score: 0.992\n",
      "100%|\u001b[34m██████████\u001b[39m| 2000/2000 [00:11<00:00, 171.37it/s]\n",
      "EPOCH 2/10 - TESTING. Correct: 1/2000 = 0.0005 - Average CER Score: 0.896\n",
      "100%|\u001b[32m██████████\u001b[39m| 125/125 [00:42<00:00,  2.93it/s]\n",
      "EPOCH 3/10 - TRAINING. Correct: 3949/8000 = 0.4936 - Average CER Score: 0.74\n",
      "100%|\u001b[34m██████████\u001b[39m| 2000/2000 [00:11<00:00, 173.51it/s]\n",
      "EPOCH 3/10 - TESTING. Correct: 1494/2000 = 0.7470 - Average CER Score: 0.622\n",
      "100%|\u001b[32m██████████\u001b[39m| 125/125 [00:42<00:00,  2.92it/s]\n",
      "EPOCH 4/10 - TRAINING. Correct: 6644/8000 = 0.8305 - Average CER Score: 0.566\n",
      "100%|\u001b[34m██████████\u001b[39m| 2000/2000 [00:11<00:00, 172.55it/s]\n",
      "EPOCH 4/10 - TESTING. Correct: 1663/2000 = 0.8315 - Average CER Score: 0.477\n",
      "100%|\u001b[32m██████████\u001b[39m| 125/125 [00:42<00:00,  2.91it/s]\n",
      "EPOCH 5/10 - TRAINING. Correct: 7123/8000 = 0.8904 - Average CER Score: 0.458\n",
      "100%|\u001b[34m██████████\u001b[39m| 2000/2000 [00:12<00:00, 165.37it/s]\n",
      "EPOCH 5/10 - TESTING. Correct: 1722/2000 = 0.8610 - Average CER Score: 0.388\n",
      "100%|\u001b[32m██████████\u001b[39m| 125/125 [00:47<00:00,  2.64it/s]\n",
      "EPOCH 6/10 - TRAINING. Correct: 7346/8000 = 0.9183 - Average CER Score: 0.385\n",
      "100%|\u001b[34m██████████\u001b[39m| 2000/2000 [00:13<00:00, 146.55it/s]\n",
      "EPOCH 6/10 - TESTING. Correct: 1767/2000 = 0.8835 - Average CER Score: 0.328\n",
      "100%|\u001b[32m██████████\u001b[39m| 125/125 [00:50<00:00,  2.48it/s]\n",
      "EPOCH 7/10 - TRAINING. Correct: 7551/8000 = 0.9439 - Average CER Score: 0.331\n",
      "100%|\u001b[34m██████████\u001b[39m| 2000/2000 [00:11<00:00, 168.72it/s]\n",
      "EPOCH 7/10 - TESTING. Correct: 1769/2000 = 0.8845 - Average CER Score: 0.284\n",
      "100%|\u001b[32m██████████\u001b[39m| 125/125 [00:44<00:00,  2.83it/s]\n",
      "EPOCH 8/10 - TRAINING. Correct: 7612/8000 = 0.9515 - Average CER Score: 0.291\n",
      "100%|\u001b[34m██████████\u001b[39m| 2000/2000 [00:11<00:00, 167.50it/s]\n",
      "EPOCH 8/10 - TESTING. Correct: 1733/2000 = 0.8665 - Average CER Score: 0.253\n",
      "100%|\u001b[32m██████████\u001b[39m| 125/125 [00:43<00:00,  2.89it/s]\n",
      "EPOCH 9/10 - TRAINING. Correct: 7693/8000 = 0.9616 - Average CER Score: 0.26\n",
      "100%|\u001b[34m██████████\u001b[39m| 2000/2000 [00:11<00:00, 167.12it/s]\n",
      "EPOCH 9/10 - TESTING. Correct: 1760/2000 = 0.8800 - Average CER Score: 0.228\n",
      "100%|\u001b[32m██████████\u001b[39m| 125/125 [00:44<00:00,  2.81it/s]\n",
      "EPOCH 10/10 - TRAINING. Correct: 7732/8000 = 0.9665 - Average CER Score: 0.235\n",
      "100%|\u001b[34m██████████\u001b[39m| 2000/2000 [00:13<00:00, 148.37it/s]\n",
      "EPOCH 10/10 - TESTING. Correct: 1797/2000 = 0.8985 - Average CER Score: 0.207\n",
      "Finished training lstm_cnn\n"
     ]
    }
   ],
   "source": [
    "from models.crnn.crnn import CRNN\n",
    "from models.lstm_cnn.lstm_cnn import CNN_LSTM\n",
    "import torch.nn as nn\n",
    "from training.trainer import Trainer\n",
    "import hyperparameter as hp\n",
    "import torch\n",
    "from evaluation.loss import plot_loss\n",
    "\n",
    "\n",
    "crnn = CRNN(hp.GRU_HIDDEN_SIZE, hp.GRU_NUM_LAYERS, hp.NUM_CLASSES, hp.CNN_OUTPUT_HEIGHT)\n",
    "lstm = CNN_LSTM(hp.GRU_HIDDEN_SIZE, hp.GRU_NUM_LAYERS, hp.NUM_CLASSES, hp.CNN_OUTPUT_HEIGHT)\n",
    "\n",
    "models = {\n",
    "    \"crnn\": crnn,\n",
    "    \"lstm_cnn\": lstm\n",
    "}\n",
    "\n",
    "crnn_criterion = nn.CTCLoss(blank=hp.BLANK_LABEL, reduction='mean', zero_infinity=True)\n",
    "lstm_criterion = nn.CTCLoss(blank=hp.BLANK_LABEL, reduction='mean', zero_infinity=True)\n",
    "\n",
    "criterions = {\n",
    "    \"crnn\": crnn_criterion,\n",
    "    \"lstm_cnn\": lstm_criterion\n",
    "}\n",
    "\n",
    "crnn_optimizer = torch.optim.Adam(crnn.parameters(), lr=hp.LEARNING_RATE)\n",
    "lstm_optimizer = torch.optim.Adam(lstm.parameters(), lr=hp.LEARNING_RATE)\n",
    "\n",
    "optimizers = {\n",
    "    \"crnn\": crnn_optimizer,\n",
    "    \"lstm_cnn\": lstm_optimizer\n",
    "}\n",
    "\n",
    "crnn_trainer = Trainer(models[\"crnn\"], criterions[\"crnn\"], optimizers[\"crnn\"], train_loader, val_loader, hp.EPOCHS, {\n",
    "        \"blank_label\": hp.BLANK_LABEL,\n",
    "        \"cnn_output_width\": hp.CNN_OUTPUT_WIDTH,\n",
    "    })\n",
    "lstm_trainer =  Trainer(models[\"lstm_cnn\"], criterions[\"lstm_cnn\"], optimizers[\"lstm_cnn\"], train_loader, val_loader, hp.EPOCHS, {\n",
    "        \"blank_label\": hp.BLANK_LABEL,\n",
    "        \"cnn_output_width\": hp.CNN_OUTPUT_WIDTH,\n",
    "    })\n",
    "trainers = {\n",
    "    \"crnn\": crnn_trainer,\n",
    "    \"lstm_cnn\": lstm_trainer\n",
    "}\n",
    "\n",
    "metrics_global = {}\n",
    "for model_name, trainer in trainers.items():\n",
    "    print(f\"Training {model_name}\")\n",
    "    metrics = trainer.train_validate_test()\n",
    "    metrics_global[model_name] = metrics\n",
    "    print(f\"Finished training {model_name}\")\n",
    "\n",
    "    # Save the trained model\n",
    "    torch.save(trainer.model.state_dict(), 'models/' + model_name + '/model.pth')"
   ]
  },
  {
   "cell_type": "code",
   "execution_count": 44,
   "metadata": {},
   "outputs": [
    {
     "name": "stdout",
     "output_type": "stream",
     "text": [
      "models/crnn/crnn_loss.png\n",
      "models/lstm_cnn/lstm_cnn_loss.png\n"
     ]
    },
    {
     "data": {
      "text/plain": [
       "<Figure size 1200x600 with 0 Axes>"
      ]
     },
     "metadata": {},
     "output_type": "display_data"
    },
    {
     "data": {
      "text/plain": [
       "<Figure size 1200x600 with 0 Axes>"
      ]
     },
     "metadata": {},
     "output_type": "display_data"
    }
   ],
   "source": [
    "for model_name, model in models.items():\n",
    "    # Load model\n",
    "\n",
    "    base_path = 'models/' + model_name + \"/\"\n",
    "    model_path = base_path + 'model.pth'\n",
    "    model = model.to(\"cpu\")\n",
    "    model.load_state_dict(torch.load(model_path))\n",
    "\n",
    "    # Plot the trained model\n",
    "    plot_loss(model_name=model_name, train_loss_per_epoch=trainer.epoch_train_cers, val_loss_per_epoch=trainer.epoch_val_cers, figure_evaluation_dir=base_path)"
   ]
  },
  {
   "cell_type": "code",
   "execution_count": 45,
   "metadata": {},
   "outputs": [
    {
     "data": {
      "image/png": "[encoded data removed]",
      "text/plain": [
       "<Figure size 640x480 with 1 Axes>"
      ]
     },
     "metadata": {},
     "output_type": "display_data"
    }
   ],
   "source": [
    "\n",
    "# ============================================ TESTING =================================================================\n",
    "number_of_test_imgs = 1\n",
    "test_preds = []\n",
    "(x_test, y_test) = next(iter(train_loader))\n",
    "y_pred = trainer.model(x_test.view(x_test.shape[0], 1, x_test.shape[1], x_test.shape[2]))\n",
    "y_pred = y_pred.permute(1, 0, 2)\n",
    "_, max_index = torch.max(y_pred, dim=2)\n",
    "for i in range(x_test.shape[0]):\n",
    "    raw_prediction = list(max_index[:, i].detach().cpu().numpy())\n",
    "    prediction = torch.IntTensor([c for c, _ in groupby(raw_prediction) if c != hp.BLANK_LABEL])\n",
    "    test_preds.append(prediction)\n",
    "\n",
    "for j in range(len(x_test)):\n",
    "    if j == number_of_test_imgs:\n",
    "        break\n",
    "\n",
    "    mpl.rcParams[\"font.size\"] = 8\n",
    "    plt.imshow(x_test[j], cmap='gray')\n",
    "    mpl.rcParams[\"font.size\"] = 18\n",
    "    plt.gcf().text(x=0.1, y=0.1, s=\"Actual: \" + str(y_test[j].numpy()))\n",
    "    plt.gcf().text(x=0.1, y=0.2, s=\"Predicted: \" + str(test_preds[j].numpy()))\n",
    "    plt.show()"
   ]
  },
  {
   "cell_type": "code",
   "execution_count": null,
   "metadata": {},
   "outputs": [],
   "source": []
  }
 ],
 "metadata": {
  "kernelspec": {
   "display_name": "s2s_learning_seminar",
   "language": "python",
   "name": "python3"
  },
  "language_info": {
   "codemirror_mode": {
    "name": "ipython",
    "version": 3
   },
   "file_extension": ".py",
   "mimetype": "text/x-python",
   "name": "python",
   "nbconvert_exporter": "python",
   "pygments_lexer": "ipython3",
   "version": "3.11.3"
  },
  "orig_nbformat": 4,
  "vscode": {
   "interpreter": {
    "hash": "a6a6a2f4e9b3d29343f27ef6aef311b54e340d4b6fc29835f858df5c984e5196"
   }
  }
 },
 "nbformat": 4,
 "nbformat_minor": 2
}
