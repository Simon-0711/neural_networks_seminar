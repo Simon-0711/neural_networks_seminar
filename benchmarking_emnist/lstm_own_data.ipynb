{
 "cells": [
  {
   "cell_type": "code",
   "execution_count": 5,
   "metadata": {},
   "outputs": [
    {
     "name": "stdout",
     "output_type": "stream",
     "text": [
      "The autoreload extension is already loaded. To reload it, use:\n",
      "  %reload_ext autoreload\n"
     ]
    }
   ],
   "source": [
    "%load_ext autoreload\n",
    "%autoreload 2"
   ]
  },
  {
   "cell_type": "code",
   "execution_count": 6,
   "metadata": {},
   "outputs": [],
   "source": [
    "from emnist import get_emnist_data_loaders\n",
    "train_loader, val_loader, test_loader = get_emnist_data_loaders()"
   ]
  },
  {
   "cell_type": "code",
   "execution_count": 10,
   "metadata": {},
   "outputs": [],
   "source": [
    "from models.crnn.crnn import CRNN\n",
    "from models.lstm_cnn.lstm_cnn import CNN_LSTM\n",
    "import torch.nn as nn\n",
    "from training.trainer import Trainer\n",
    "import hyperparameter as hp\n",
    "import torch\n",
    "from evaluation.loss import plot_loss\n",
    "\n",
    "\n",
    "crnn = CRNN(hp.GRU_HIDDEN_SIZE, hp.GRU_NUM_LAYERS, hp.NUM_CLASSES, hp.CNN_OUTPUT_HEIGHT)\n",
    "lstm = CNN_LSTM(hp.GRU_HIDDEN_SIZE, hp.GRU_NUM_LAYERS, hp.NUM_CLASSES, hp.CNN_OUTPUT_HEIGHT)\n",
    "\n",
    "models = {\n",
    "    \"crnn\": crnn,\n",
    "    \"lstm_cnn\": lstm\n",
    "}\n",
    "\n",
    "crnn_criterion = nn.CTCLoss(blank=hp.BLANK_LABEL, reduction='mean', zero_infinity=True)\n",
    "lstm_criterion = nn.CTCLoss(blank=hp.BLANK_LABEL, reduction='mean', zero_infinity=True)\n",
    "\n",
    "criterions = {\n",
    "    \"crnn\": crnn_criterion,\n",
    "    \"lstm_cnn\": lstm_criterion\n",
    "}\n",
    "\n",
    "crnn_optimizer = torch.optim.Adam(crnn.parameters(), lr=hp.LEARNING_RATE)\n",
    "lstm_optimizer = torch.optim.Adam(lstm.parameters(), lr=hp.LEARNING_RATE)\n",
    "\n",
    "optimizers = {\n",
    "    \"crnn\": crnn_optimizer,\n",
    "    \"lstm_cnn\": lstm_optimizer\n",
    "}\n",
    "\n",
    "crnn_trainer = Trainer(models[\"crnn\"], criterions[\"crnn\"], optimizers[\"crnn\"], train_loader, val_loader,test_loader, epochs=hp.EPOCHS, args={\n",
    "        \"blank_label\": hp.BLANK_LABEL,\n",
    "        \"cnn_output_width\": hp.CNN_OUTPUT_WIDTH,\n",
    "    })\n",
    "lstm_trainer =  Trainer(models[\"lstm_cnn\"], criterions[\"lstm_cnn\"], optimizers[\"lstm_cnn\"], train_loader, val_loader, test_loader, epochs=hp.EPOCHS, args={\n",
    "        \"blank_label\": hp.BLANK_LABEL,\n",
    "        \"cnn_output_width\": hp.CNN_OUTPUT_WIDTH,\n",
    "    })\n",
    "trainers = {\n",
    "    \"crnn\": crnn_trainer,\n",
    "    \"lstm_cnn\": lstm_trainer\n",
    "}\n"
   ]
  },
  {
   "cell_type": "code",
   "execution_count": 11,
   "metadata": {},
   "outputs": [
    {
     "name": "stdout",
     "output_type": "stream",
     "text": [
      "Training crnn\n",
      "  0%|\u001b[32m          \u001b[39m| 0/110 [00:00<?, ?it/s]"
     ]
    },
    {
     "name": "stdout",
     "output_type": "stream",
     "text": [
      "100%|\u001b[32m██████████\u001b[39m| 110/110 [00:31<00:00,  3.54it/s]\n",
      "EPOCH 1/10 - TRAINING. Correct: 0/7000 = 0.0000 - Average CER Score: 0.976\n",
      "100%|\u001b[34m██████████\u001b[39m| 2999/2999 [00:11<00:00, 264.91it/s]"
     ]
    },
    {
     "name": "stderr",
     "output_type": "stream",
     "text": [
      "/Users/leonremke/opt/anaconda3/envs/DSTA-Ex/lib/python3.9/site-packages/numpy/core/fromnumeric.py:3474: RuntimeWarning: Mean of empty slice.\n",
      "  return _methods._mean(a, axis=axis, dtype=dtype,\n",
      "/Users/leonremke/opt/anaconda3/envs/DSTA-Ex/lib/python3.9/site-packages/numpy/core/_methods.py:189: RuntimeWarning: invalid value encountered in double_scalars\n",
      "  ret = ret.dtype.type(ret / rcount)\n"
     ]
    },
    {
     "name": "stdout",
     "output_type": "stream",
     "text": [
      "\n",
      "EPOCH 1/10 - TESTING. Correct: 4/2999 = 0.0013 - Average CER Score: nan\n",
      "100%|\u001b[32m██████████\u001b[39m| 110/110 [00:30<00:00,  3.59it/s]\n",
      "EPOCH 2/10 - TRAINING. Correct: 3345/7000 = 0.4779 - Average CER Score: 0.626\n",
      "100%|\u001b[34m██████████\u001b[39m| 2999/2999 [00:13<00:00, 230.35it/s]\n",
      "EPOCH 2/10 - TESTING. Correct: 2264/2999 = 0.7549 - Average CER Score: nan\n",
      "100%|\u001b[32m██████████\u001b[39m| 110/110 [00:31<00:00,  3.45it/s]\n",
      "EPOCH 3/10 - TRAINING. Correct: 5620/7000 = 0.8029 - Average CER Score: 0.416\n",
      "100%|\u001b[34m██████████\u001b[39m| 2999/2999 [00:11<00:00, 266.98it/s]\n",
      "EPOCH 3/10 - TESTING. Correct: 2481/2999 = 0.8273 - Average CER Score: nan\n",
      "100%|\u001b[32m██████████\u001b[39m| 110/110 [00:30<00:00,  3.57it/s]\n",
      "EPOCH 4/10 - TRAINING. Correct: 6128/7000 = 0.8754 - Average CER Score: 0.313\n",
      "100%|\u001b[34m██████████\u001b[39m| 2999/2999 [00:11<00:00, 265.08it/s]\n",
      "EPOCH 4/10 - TESTING. Correct: 2586/2999 = 0.8623 - Average CER Score: nan\n",
      "100%|\u001b[32m██████████\u001b[39m| 110/110 [00:31<00:00,  3.54it/s]\n",
      "EPOCH 5/10 - TRAINING. Correct: 6394/7000 = 0.9134 - Average CER Score: 0.251\n",
      "100%|\u001b[34m██████████\u001b[39m| 2999/2999 [00:11<00:00, 251.31it/s]\n",
      "EPOCH 5/10 - TESTING. Correct: 2554/2999 = 0.8516 - Average CER Score: nan\n",
      "100%|\u001b[32m██████████\u001b[39m| 110/110 [00:31<00:00,  3.47it/s]\n",
      "EPOCH 6/10 - TRAINING. Correct: 6531/7000 = 0.9330 - Average CER Score: 0.211\n",
      "100%|\u001b[34m██████████\u001b[39m| 2999/2999 [00:12<00:00, 249.22it/s]\n",
      "EPOCH 6/10 - TESTING. Correct: 2654/2999 = 0.8850 - Average CER Score: nan\n",
      "100%|\u001b[32m██████████\u001b[39m| 110/110 [00:31<00:00,  3.49it/s]\n",
      "EPOCH 7/10 - TRAINING. Correct: 6688/7000 = 0.9554 - Average CER Score: 0.182\n",
      "100%|\u001b[34m██████████\u001b[39m| 2999/2999 [00:12<00:00, 245.95it/s]\n",
      "EPOCH 7/10 - TESTING. Correct: 2643/2999 = 0.8813 - Average CER Score: nan\n",
      "100%|\u001b[32m██████████\u001b[39m| 110/110 [01:01<00:00,  1.79it/s]\n",
      "EPOCH 8/10 - TRAINING. Correct: 6804/7000 = 0.9720 - Average CER Score: 0.16\n",
      "100%|\u001b[34m██████████\u001b[39m| 2999/2999 [00:11<00:00, 251.16it/s]\n",
      "EPOCH 8/10 - TESTING. Correct: 2682/2999 = 0.8943 - Average CER Score: nan\n",
      "100%|\u001b[32m██████████\u001b[39m| 110/110 [00:31<00:00,  3.52it/s]\n",
      "EPOCH 9/10 - TRAINING. Correct: 6845/7000 = 0.9779 - Average CER Score: 0.143\n",
      "100%|\u001b[34m██████████\u001b[39m| 2999/2999 [00:11<00:00, 250.28it/s]\n",
      "EPOCH 9/10 - TESTING. Correct: 2633/2999 = 0.8780 - Average CER Score: nan\n",
      "100%|\u001b[32m██████████\u001b[39m| 110/110 [00:31<00:00,  3.51it/s]\n",
      "EPOCH 10/10 - TRAINING. Correct: 6775/7000 = 0.9679 - Average CER Score: 0.13\n",
      "100%|\u001b[34m██████████\u001b[39m| 2999/2999 [00:12<00:00, 245.73it/s]\n",
      "EPOCH 10/10 - TESTING. Correct: 2624/2999 = 0.8750 - Average CER Score: nan\n",
      "Finished training crnn\n",
      "Training lstm_cnn\n",
      "100%|\u001b[32m██████████\u001b[39m| 110/110 [00:33<00:00,  3.32it/s]\n",
      "EPOCH 1/10 - TRAINING. Correct: 0/7000 = 0.0000 - Average CER Score: 0.999\n",
      "100%|\u001b[34m██████████\u001b[39m| 2999/2999 [00:11<00:00, 257.80it/s]\n",
      "EPOCH 1/10 - TESTING. Correct: 0/2999 = 0.0000 - Average CER Score: nan\n",
      "100%|\u001b[32m██████████\u001b[39m| 110/110 [00:33<00:00,  3.30it/s]\n",
      "EPOCH 2/10 - TRAINING. Correct: 0/7000 = 0.0000 - Average CER Score: 1.0\n",
      "100%|\u001b[34m██████████\u001b[39m| 2999/2999 [00:11<00:00, 253.98it/s]\n",
      "EPOCH 2/10 - TESTING. Correct: 0/2999 = 0.0000 - Average CER Score: nan\n",
      "100%|\u001b[32m██████████\u001b[39m| 110/110 [00:34<00:00,  3.23it/s]\n",
      "EPOCH 3/10 - TRAINING. Correct: 865/7000 = 0.1236 - Average CER Score: 0.91\n",
      "100%|\u001b[34m██████████\u001b[39m| 2999/2999 [00:12<00:00, 249.09it/s]\n",
      "EPOCH 3/10 - TESTING. Correct: 1744/2999 = 0.5815 - Average CER Score: nan\n",
      "100%|\u001b[32m██████████\u001b[39m| 110/110 [00:33<00:00,  3.25it/s]\n",
      "EPOCH 4/10 - TRAINING. Correct: 4961/7000 = 0.7087 - Average CER Score: 0.693\n",
      "100%|\u001b[34m██████████\u001b[39m| 2999/2999 [00:11<00:00, 251.85it/s]\n",
      "EPOCH 4/10 - TESTING. Correct: 2309/2999 = 0.7699 - Average CER Score: nan\n",
      "100%|\u001b[32m██████████\u001b[39m| 110/110 [00:33<00:00,  3.25it/s]\n",
      "EPOCH 5/10 - TRAINING. Correct: 5825/7000 = 0.8321 - Average CER Score: 0.555\n",
      "100%|\u001b[34m██████████\u001b[39m| 2999/2999 [00:11<00:00, 258.82it/s]\n",
      "EPOCH 5/10 - TESTING. Correct: 2501/2999 = 0.8339 - Average CER Score: nan\n",
      "100%|\u001b[32m██████████\u001b[39m| 110/110 [00:34<00:00,  3.22it/s]\n",
      "EPOCH 6/10 - TRAINING. Correct: 6149/7000 = 0.8784 - Average CER Score: 0.464\n",
      "100%|\u001b[34m██████████\u001b[39m| 2999/2999 [00:12<00:00, 248.93it/s]\n",
      "EPOCH 6/10 - TESTING. Correct: 2428/2999 = 0.8096 - Average CER Score: nan\n",
      "100%|\u001b[32m██████████\u001b[39m| 110/110 [00:34<00:00,  3.23it/s]\n",
      "EPOCH 7/10 - TRAINING. Correct: 6294/7000 = 0.8991 - Average CER Score: 0.399\n",
      "100%|\u001b[34m██████████\u001b[39m| 2999/2999 [00:12<00:00, 248.87it/s]\n",
      "EPOCH 7/10 - TESTING. Correct: 2446/2999 = 0.8156 - Average CER Score: nan\n",
      "100%|\u001b[32m██████████\u001b[39m| 110/110 [00:34<00:00,  3.20it/s]\n",
      "EPOCH 8/10 - TRAINING. Correct: 6472/7000 = 0.9246 - Average CER Score: 0.35\n",
      "100%|\u001b[34m██████████\u001b[39m| 2999/2999 [00:12<00:00, 245.63it/s]\n",
      "EPOCH 8/10 - TESTING. Correct: 2601/2999 = 0.8673 - Average CER Score: nan\n",
      "100%|\u001b[32m██████████\u001b[39m| 110/110 [00:34<00:00,  3.22it/s]\n",
      "EPOCH 9/10 - TRAINING. Correct: 6665/7000 = 0.9521 - Average CER Score: 0.312\n",
      "100%|\u001b[34m██████████\u001b[39m| 2999/2999 [00:12<00:00, 243.05it/s]\n",
      "EPOCH 9/10 - TESTING. Correct: 2559/2999 = 0.8533 - Average CER Score: nan\n",
      "100%|\u001b[32m██████████\u001b[39m| 110/110 [00:34<00:00,  3.21it/s]\n",
      "EPOCH 10/10 - TRAINING. Correct: 6662/7000 = 0.9517 - Average CER Score: 0.282\n",
      "100%|\u001b[34m██████████\u001b[39m| 2999/2999 [00:11<00:00, 254.28it/s]\n",
      "EPOCH 10/10 - TESTING. Correct: 2600/2999 = 0.8670 - Average CER Score: nan\n",
      "Finished training lstm_cnn\n"
     ]
    }
   ],
   "source": [
    "metrics_global = {}\n",
    "for model_name, trainer in trainers.items():\n",
    "    print(f\"Training {model_name}\")\n",
    "    metrics = trainer.train_validate_test()\n",
    "    metrics_global[model_name] = metrics\n",
    "    print(f\"Finished training {model_name}\")\n",
    "\n",
    "    # Save the trained model\n",
    "    torch.save(trainer.model.state_dict(), 'models/' + model_name + '/model.pth')"
   ]
  },
  {
   "cell_type": "code",
   "execution_count": 12,
   "metadata": {},
   "outputs": [
    {
     "name": "stdout",
     "output_type": "stream",
     "text": [
      "models/crnn/crnn_loss.png\n",
      "models/lstm_cnn/lstm_cnn_loss.png\n"
     ]
    },
    {
     "data": {
      "text/plain": [
       "<Figure size 1200x600 with 0 Axes>"
      ]
     },
     "metadata": {},
     "output_type": "display_data"
    },
    {
     "data": {
      "text/plain": [
       "<Figure size 1200x600 with 0 Axes>"
      ]
     },
     "metadata": {},
     "output_type": "display_data"
    }
   ],
   "source": [
    "for model_name, model in models.items():\n",
    "    # Load model\n",
    "\n",
    "    base_path = 'models/' + model_name + \"/\"\n",
    "    model_path = base_path + 'model.pth'\n",
    "    model = model.to(\"cpu\")\n",
    "    model.load_state_dict(torch.load(model_path))\n",
    "\n",
    "    # Plot the trained model\n",
    "    plot_loss(model_name=model_name, train_loss_per_epoch=trainer.epoch_train_cers, val_loss_per_epoch=trainer.epoch_val_cers, figure_evaluation_dir=base_path)"
   ]
  },
  {
   "cell_type": "code",
   "execution_count": 13,
   "metadata": {},
   "outputs": [
    {
     "name": "stdout",
     "output_type": "stream",
     "text": [
      "100%|\u001b[34m██████████\u001b[39m| 1/1 [00:00<00:00, 184.91it/s]\n"
     ]
    },
    {
     "ename": "AttributeError",
     "evalue": "'Trainer' object has no attribute 'epoch_test_cers'",
     "output_type": "error",
     "traceback": [
      "\u001b[0;31m---------------------------------------------------------------------------\u001b[0m",
      "\u001b[0;31mAttributeError\u001b[0m                            Traceback (most recent call last)",
      "\u001b[1;32m/Users/leonremke/Documents/GIT_REPOS/UNI/neural_networks_seminar/benchmarking_emnist/lstm_own_data.ipynb Cell 6\u001b[0m line \u001b[0;36m<cell line: 2>\u001b[0;34m()\u001b[0m\n\u001b[1;32m      <a href='vscode-notebook-cell:/Users/leonremke/Documents/GIT_REPOS/UNI/neural_networks_seminar/benchmarking_emnist/lstm_own_data.ipynb#W4sZmlsZQ%3D%3D?line=0'>1</a>\u001b[0m lstm_trainer\u001b[39m.\u001b[39mload_model(\u001b[39m'\u001b[39m\u001b[39mmodels/lstm_cnn/model.pth\u001b[39m\u001b[39m'\u001b[39m)\n\u001b[0;32m----> <a href='vscode-notebook-cell:/Users/leonremke/Documents/GIT_REPOS/UNI/neural_networks_seminar/benchmarking_emnist/lstm_own_data.ipynb#W4sZmlsZQ%3D%3D?line=1'>2</a>\u001b[0m lstm_trainer\u001b[39m.\u001b[39;49mtest(plot_n\u001b[39m=\u001b[39;49m\u001b[39m1\u001b[39;49m)\n",
      "File \u001b[0;32m~/Documents/GIT_REPOS/UNI/neural_networks_seminar/benchmarking_emnist/training/trainer.py:175\u001b[0m, in \u001b[0;36mTrainer.test\u001b[0;34m(self, plot_n)\u001b[0m\n\u001b[1;32m    173\u001b[0m test_accuracy \u001b[39m=\u001b[39m test_correct \u001b[39m/\u001b[39m test_total\n\u001b[1;32m    174\u001b[0m \u001b[39m# Add CER for epoch\u001b[39;00m\n\u001b[0;32m--> 175\u001b[0m \u001b[39mself\u001b[39;49m\u001b[39m.\u001b[39;49mepoch_test_cers\u001b[39m.\u001b[39mappend(\u001b[39mround\u001b[39m(np\u001b[39m.\u001b[39mmean(np\u001b[39m.\u001b[39marray(\u001b[39mself\u001b[39m\u001b[39m.\u001b[39mall_test_cers)), \u001b[39m3\u001b[39m))\n\u001b[1;32m    176\u001b[0m \u001b[39mself\u001b[39m\u001b[39m.\u001b[39mmetrics[\u001b[39m\"\u001b[39m\u001b[39mtest_accuracy\u001b[39m\u001b[39m\"\u001b[39m]\u001b[39m.\u001b[39mappend(test_accuracy)\n\u001b[1;32m    177\u001b[0m \u001b[39mprint\u001b[39m(\n\u001b[1;32m    178\u001b[0m     \u001b[39mf\u001b[39m\u001b[39m\"\u001b[39m\u001b[39mTESTING. Correct: \u001b[39m\u001b[39m{\u001b[39;00mtest_correct\u001b[39m}\u001b[39;00m\u001b[39m/\u001b[39m\u001b[39m{\u001b[39;00mtest_total\u001b[39m}\u001b[39;00m\u001b[39m = \u001b[39m\u001b[39m{\u001b[39;00mtest_accuracy\u001b[39m:\u001b[39;00m\u001b[39m.4f\u001b[39m\u001b[39m}\u001b[39;00m\u001b[39m - Average CER Score: \u001b[39m\u001b[39m{\u001b[39;00m\u001b[39mround\u001b[39m(np\u001b[39m.\u001b[39mmean(np\u001b[39m.\u001b[39marray(\u001b[39mself\u001b[39m\u001b[39m.\u001b[39mall_val_cers)),\u001b[39m \u001b[39m\u001b[39m3\u001b[39m)\u001b[39m}\u001b[39;00m\u001b[39m\"\u001b[39m\n\u001b[1;32m    179\u001b[0m )\n",
      "\u001b[0;31mAttributeError\u001b[0m: 'Trainer' object has no attribute 'epoch_test_cers'"
     ]
    }
   ],
   "source": [
    "lstm_trainer.load_model('models/lstm_cnn/model.pth')\n",
    "lstm_trainer.test(plot_n=1)\n"
   ]
  },
  {
   "cell_type": "code",
   "execution_count": null,
   "metadata": {},
   "outputs": [
    {
     "data": {
      "image/png": "[encoded data removed]",
      "text/plain": [
       "<Figure size 432x288 with 1 Axes>"
      ]
     },
     "metadata": {
      "needs_background": "light"
     },
     "output_type": "display_data"
    }
   ],
   "source": [
    "crnn_trainer.load_model('models/crnn/model.pth')\n",
    "crnn_trainer.test(plot_n=1)\n"
   ]
  },
  {
   "cell_type": "code",
   "execution_count": null,
   "metadata": {},
   "outputs": [],
   "source": []
  },
  {
   "cell_type": "code",
   "execution_count": null,
   "metadata": {},
   "outputs": [],
   "source": []
  },
  {
   "cell_type": "code",
   "execution_count": null,
   "metadata": {},
   "outputs": [],
   "source": []
  }
 ],
 "metadata": {
  "kernelspec": {
   "display_name": "s2s_learning_seminar",
   "language": "python",
   "name": "python3"
  },
  "language_info": {
   "codemirror_mode": {
    "name": "ipython",
    "version": 3
   },
   "file_extension": ".py",
   "mimetype": "text/x-python",
   "name": "python",
   "nbconvert_exporter": "python",
   "pygments_lexer": "ipython3",
   "version": "3.9.13"
  },
  "orig_nbformat": 4,
  "vscode": {
   "interpreter": {
    "hash": "a6a6a2f4e9b3d29343f27ef6aef311b54e340d4b6fc29835f858df5c984e5196"
   }
  }
 },
 "nbformat": 4,
 "nbformat_minor": 2
}
