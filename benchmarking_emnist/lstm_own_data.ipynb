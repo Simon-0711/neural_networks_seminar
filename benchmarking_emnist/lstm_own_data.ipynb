{
 "cells": [
  {
   "cell_type": "code",
   "execution_count": 1,
   "metadata": {},
   "outputs": [],
   "source": [
    "%load_ext autoreload\n",
    "%autoreload 2"
   ]
  },
  {
   "cell_type": "code",
   "execution_count": 2,
   "metadata": {},
   "outputs": [],
   "source": [
    "import torch.nn as nn\n",
    "import torch\n",
    "import itertools\n",
    "\n",
    "from emnist import get_emnist_data_loaders\n",
    "from models.crnn.crnn import CRNN\n",
    "from models.lstm_cnn.lstm_cnn import CNN_LSTM\n",
    "from training.trainer import Trainer\n",
    "from hyperparameter import common_hyperparameters, model_specific_hyperparameters\n",
    "from evaluation.loss import plot_loss\n",
    "from evaluation.evaluations_utils import create_directory_if_not_exists\n",
    "from models.crnn.crnn import CRNN\n",
    "from models.lstm_cnn.lstm_cnn import CNN_LSTM\n",
    "import torch.nn as nn\n",
    "from training.trainer import Trainer\n",
    "import hyperparameter as hp\n",
    "import torch\n",
    "from torch.optim.lr_scheduler import StepLR, MultiStepLR, ExponentialLR, CosineAnnealingLR, LambdaLR, CyclicLR"
   ]
  },
  {
   "cell_type": "code",
   "execution_count": 3,
   "metadata": {},
   "outputs": [
    {
     "ename": "TypeError",
     "evalue": "get_emnist_data_loaders() missing 4 required positional arguments: 'number_of_sequences', 'digits_per_sequence', 'batch_size', and 'batch_size_val'",
     "output_type": "error",
     "traceback": [
      "\u001b[0;31m---------------------------------------------------------------------------\u001b[0m",
      "\u001b[0;31mTypeError\u001b[0m                                 Traceback (most recent call last)",
      "\u001b[1;32m/Users/leonremke/Documents/GIT_REPOS/UNI/neural_networks_seminar/benchmarking_emnist/lstm_own_data.ipynb Cell 3\u001b[0m line \u001b[0;36m<cell line: 1>\u001b[0;34m()\u001b[0m\n\u001b[0;32m----> <a href='vscode-notebook-cell:/Users/leonremke/Documents/GIT_REPOS/UNI/neural_networks_seminar/benchmarking_emnist/lstm_own_data.ipynb#W2sZmlsZQ%3D%3D?line=0'>1</a>\u001b[0m train_loader, val_loader, test_loader \u001b[39m=\u001b[39m get_emnist_data_loaders()\n",
      "\u001b[0;31mTypeError\u001b[0m: get_emnist_data_loaders() missing 4 required positional arguments: 'number_of_sequences', 'digits_per_sequence', 'batch_size', and 'batch_size_val'"
     ]
    }
   ],
   "source": [
    "train_loader, val_loader, test_loader = get_emnist_data_loaders(hp.NUMBER_OF_SEQUENCES, hp.DIGITS_PER_SEQUENCE, hp.BATCH_SIZE, hp.BATCH_SIZE_VAL)"
   ]
  },
  {
   "cell_type": "code",
   "execution_count": null,
   "metadata": {},
   "outputs": [],
   "source": [
    "# Generate all possible combinations of hyperparameters\n",
    "param_combinations = list(itertools.product(*model_specific_hyperparameters.values()))\n",
    "print(f\"Number of Hyperparameter combinations: {len(param_combinations)}\")"
   ]
  },
  {
   "cell_type": "code",
   "execution_count": null,
   "metadata": {},
   "outputs": [
    {
     "ename": "NameError",
     "evalue": "name 'train_loader' is not defined",
     "output_type": "error",
     "traceback": [
      "\u001b[0;31m---------------------------------------------------------------------------\u001b[0m",
      "\u001b[0;31mNameError\u001b[0m                                 Traceback (most recent call last)",
      "\u001b[1;32m/Users/leonremke/Documents/GIT_REPOS/UNI/neural_networks_seminar/benchmarking_emnist/lstm_own_data.ipynb Cell 5\u001b[0m line \u001b[0;36m<cell line: 33>\u001b[0;34m()\u001b[0m\n\u001b[1;32m     <a href='vscode-notebook-cell:/Users/leonremke/Documents/GIT_REPOS/UNI/neural_networks_seminar/benchmarking_emnist/lstm_own_data.ipynb#W3sZmlsZQ%3D%3D?line=40'>41</a>\u001b[0m             criterion \u001b[39m=\u001b[39m criteria[model_name]\n\u001b[1;32m     <a href='vscode-notebook-cell:/Users/leonremke/Documents/GIT_REPOS/UNI/neural_networks_seminar/benchmarking_emnist/lstm_own_data.ipynb#W3sZmlsZQ%3D%3D?line=41'>42</a>\u001b[0m             trainer_name \u001b[39m=\u001b[39m \u001b[39mf\u001b[39m\u001b[39m\"\u001b[39m\u001b[39m{\u001b[39;00mmodel_name\u001b[39m}\u001b[39;00m\u001b[39m_\u001b[39m\u001b[39m{\u001b[39;00moptimizer_name\u001b[39m}\u001b[39;00m\u001b[39m_\u001b[39m\u001b[39m{\u001b[39;00mscheduler_name\u001b[39m}\u001b[39;00m\u001b[39m_trainer\u001b[39m\u001b[39m\"\u001b[39m\n\u001b[1;32m     <a href='vscode-notebook-cell:/Users/leonremke/Documents/GIT_REPOS/UNI/neural_networks_seminar/benchmarking_emnist/lstm_own_data.ipynb#W3sZmlsZQ%3D%3D?line=42'>43</a>\u001b[0m             trainer \u001b[39m=\u001b[39m Trainer(\n\u001b[0;32m---> <a href='vscode-notebook-cell:/Users/leonremke/Documents/GIT_REPOS/UNI/neural_networks_seminar/benchmarking_emnist/lstm_own_data.ipynb#W3sZmlsZQ%3D%3D?line=43'>44</a>\u001b[0m                 model, model_name, criterion, optimizer, train_loader, val_loader, test_loader,\n\u001b[1;32m     <a href='vscode-notebook-cell:/Users/leonremke/Documents/GIT_REPOS/UNI/neural_networks_seminar/benchmarking_emnist/lstm_own_data.ipynb#W3sZmlsZQ%3D%3D?line=44'>45</a>\u001b[0m                 epochs\u001b[39m=\u001b[39mhp\u001b[39m.\u001b[39mEPOCHS, args\u001b[39m=\u001b[39m{\u001b[39m\"\u001b[39m\u001b[39mblank_label\u001b[39m\u001b[39m\"\u001b[39m: hp\u001b[39m.\u001b[39mBLANK_LABEL, \u001b[39m\"\u001b[39m\u001b[39mcnn_output_width\u001b[39m\u001b[39m\"\u001b[39m: hp\u001b[39m.\u001b[39mCNN_OUTPUT_WIDTH}\n\u001b[1;32m     <a href='vscode-notebook-cell:/Users/leonremke/Documents/GIT_REPOS/UNI/neural_networks_seminar/benchmarking_emnist/lstm_own_data.ipynb#W3sZmlsZQ%3D%3D?line=45'>46</a>\u001b[0m             )\n\u001b[1;32m     <a href='vscode-notebook-cell:/Users/leonremke/Documents/GIT_REPOS/UNI/neural_networks_seminar/benchmarking_emnist/lstm_own_data.ipynb#W3sZmlsZQ%3D%3D?line=46'>47</a>\u001b[0m             trainers[trainer_name] \u001b[39m=\u001b[39m trainer\n\u001b[1;32m     <a href='vscode-notebook-cell:/Users/leonremke/Documents/GIT_REPOS/UNI/neural_networks_seminar/benchmarking_emnist/lstm_own_data.ipynb#W3sZmlsZQ%3D%3D?line=47'>48</a>\u001b[0m \u001b[39mprint\u001b[39m(\u001b[39mf\u001b[39m\u001b[39m\"\u001b[39m\u001b[39mPrepared \u001b[39m\u001b[39m{\u001b[39;00m\u001b[39mlen\u001b[39m(trainers)\u001b[39m}\u001b[39;00m\u001b[39m models for training.\u001b[39m\u001b[39m\"\u001b[39m)\n",
      "\u001b[0;31mNameError\u001b[0m: name 'train_loader' is not defined"
     ]
    }
   ],
   "source": [
    "# Define your models\n",
    "models = {\n",
    "    \"crnn\": CRNN(hp.GRU_HIDDEN_SIZE, hp.GRU_NUM_LAYERS, hp.NUM_CLASSES, hp.CNN_OUTPUT_HEIGHT),\n",
    "    \"lstm_cnn\": CNN_LSTM(hp.GRU_HIDDEN_SIZE, hp.GRU_NUM_LAYERS, hp.NUM_CLASSES, hp.CNN_OUTPUT_HEIGHT)\n",
    "}\n",
    "\n",
    "# Define your criteria\n",
    "criteria = {\n",
    "    \"crnn\": nn.CTCLoss(blank=hp.BLANK_LABEL, reduction='mean', zero_infinity=True),\n",
    "    \"lstm_cnn\": nn.CTCLoss(blank=hp.BLANK_LABEL, reduction='mean', zero_infinity=True)\n",
    "}\n",
    "\n",
    "# Create dictionaries for optimizers and schedulers\n",
    "optimizer_configs = {\n",
    "    \"adam\": torch.optim.Adam,\n",
    "    # \"adam_w\": torch.optim.AdamW,\n",
    "    \"adam_w_regulise\": torch.optim.AdamW\n",
    "}\n",
    "\n",
    "scheduler_configs = {\n",
    "    \"step_lr\": (StepLR, {\"step_size\": 5, \"gamma\": 0.5}),\n",
    "    # \"multi_step_lr\": (MultiStepLR, {\"milestones\": [5, 10, 15], \"gamma\": 0.5}),\n",
    "    \"exponential_lr\": (ExponentialLR, {\"gamma\": 0.95}),\n",
    "    # \"cosine_annealing_lr\": (CosineAnnealingLR, {\"T_max\": 10}),\n",
    "    # \"lambda_lr\": (LambdaLR, {\"lr_lambda\": lambda epoch: 0.95 ** epoch}),\n",
    "    # \"cyclic_lr\": (CyclicLR, {\"base_lr\": 0.001, \"max_lr\": 0.1})\n",
    "}\n",
    "\n",
    "# Initialize an empty dictionary to store trainers\n",
    "trainers = {}\n",
    "\n",
    "# Iterate through models, criteria, optimizers, and schedulers to create trainers\n",
    "for model_name, model in models.items():\n",
    "    for optimizer_name, optimizer_class in optimizer_configs.items():\n",
    "        if optimizer_name == \"adam_w_regulise\":\n",
    "            optimizer = optimizer_class(model.parameters(), lr=hp.LEARNING_RATE, weight_decay=hp.WEIGHT_DECAY)\n",
    "        else:\n",
    "            optimizer = optimizer_class(model.parameters(), lr=hp.LEARNING_RATE)\n",
    "        for scheduler_name, (scheduler_class, scheduler_args) in scheduler_configs.items():\n",
    "            scheduler = scheduler_class(optimizer, **scheduler_args)\n",
    "            criterion = criteria[model_name]\n",
    "            trainer_name = f\"{model_name}_{optimizer_name}_{scheduler_name}_trainer\"\n",
    "            trainer = Trainer(\n",
    "                model, model_name, criterion, optimizer, train_loader, val_loader, test_loader,\n",
    "                epochs=hp.EPOCHS, args={\"blank_label\": hp.BLANK_LABEL, \"cnn_output_width\": hp.CNN_OUTPUT_WIDTH}\n",
    "            )\n",
    "            trainers[trainer_name] = trainer\n",
    "print(f\"Prepared {len(trainers)} models for training.\")\n"
   ]
  },
  {
   "cell_type": "code",
   "execution_count": null,
   "metadata": {},
   "outputs": [
    {
     "name": "stdout",
     "output_type": "stream",
     "text": [
      "Training crnn_adam_step_lr_trainer\n",
      "100%|\u001b[32m██████████\u001b[39m| 110/110 [00:31<00:00,  3.55it/s]\n",
      "EPOCH 1/10 - TRAINING. Correct: 0/7000 = 0.0000 - Average CER Score: 0.984\n",
      "100%|\u001b[34m██████████\u001b[39m| 2999/2999 [00:14<00:00, 211.47it/s]\n",
      "EPOCH 1/10 - VALIDATING. Correct: 1/2999 = 0.0003 - Average CER Score: 0.774\n",
      "100%|\u001b[32m██████████\u001b[39m| 110/110 [00:30<00:00,  3.56it/s]\n",
      "EPOCH 2/10 - TRAINING. Correct: 3540/7000 = 0.5057 - Average CER Score: 0.602\n",
      "100%|\u001b[34m██████████\u001b[39m| 2999/2999 [00:14<00:00, 208.41it/s]\n",
      "EPOCH 2/10 - VALIDATING. Correct: 2238/2999 = 0.7462 - Average CER Score: 0.424\n",
      "100%|\u001b[32m██████████\u001b[39m| 110/110 [00:30<00:00,  3.57it/s]\n",
      "EPOCH 3/10 - TRAINING. Correct: 5663/7000 = 0.8090 - Average CER Score: 0.419\n",
      "100%|\u001b[34m██████████\u001b[39m| 2999/2999 [00:14<00:00, 207.60it/s]\n",
      "EPOCH 3/10 - VALIDATING. Correct: 2450/2999 = 0.8169 - Average CER Score: 0.298\n",
      "100%|\u001b[32m██████████\u001b[39m| 110/110 [00:30<00:00,  3.55it/s]\n",
      "EPOCH 4/10 - TRAINING. Correct: 6101/7000 = 0.8716 - Average CER Score: 0.322\n",
      "100%|\u001b[34m██████████\u001b[39m| 2999/2999 [00:14<00:00, 206.94it/s]\n",
      "EPOCH 4/10 - VALIDATING. Correct: 2441/2999 = 0.8139 - Average CER Score: 0.234\n",
      "100%|\u001b[32m██████████\u001b[39m| 110/110 [00:31<00:00,  3.54it/s]\n",
      "EPOCH 5/10 - TRAINING. Correct: 6394/7000 = 0.9134 - Average CER Score: 0.262\n",
      "100%|\u001b[34m██████████\u001b[39m| 2999/2999 [00:14<00:00, 206.56it/s]\n",
      "EPOCH 5/10 - VALIDATING. Correct: 2624/2999 = 0.8750 - Average CER Score: 0.193\n",
      "100%|\u001b[32m██████████\u001b[39m| 110/110 [00:31<00:00,  3.52it/s]\n",
      "EPOCH 6/10 - TRAINING. Correct: 6570/7000 = 0.9386 - Average CER Score: 0.221\n",
      "100%|\u001b[34m██████████\u001b[39m| 2999/2999 [00:15<00:00, 190.12it/s]\n",
      "EPOCH 6/10 - VALIDATING. Correct: 2614/2999 = 0.8716 - Average CER Score: 0.166\n",
      "100%|\u001b[32m██████████\u001b[39m| 110/110 [00:31<00:00,  3.49it/s]\n",
      "EPOCH 7/10 - TRAINING. Correct: 6681/7000 = 0.9544 - Average CER Score: 0.191\n",
      "100%|\u001b[34m██████████\u001b[39m| 2999/2999 [00:15<00:00, 194.16it/s]\n",
      "EPOCH 7/10 - VALIDATING. Correct: 2614/2999 = 0.8716 - Average CER Score: 0.147\n",
      "100%|\u001b[32m██████████\u001b[39m| 110/110 [00:32<00:00,  3.43it/s]\n",
      "EPOCH 8/10 - TRAINING. Correct: 6786/7000 = 0.9694 - Average CER Score: 0.168\n",
      "100%|\u001b[34m██████████\u001b[39m| 2999/2999 [00:15<00:00, 197.24it/s]\n",
      "EPOCH 8/10 - VALIDATING. Correct: 2612/2999 = 0.8710 - Average CER Score: 0.132\n",
      "100%|\u001b[32m██████████\u001b[39m| 110/110 [00:32<00:00,  3.40it/s]\n",
      "EPOCH 9/10 - TRAINING. Correct: 6851/7000 = 0.9787 - Average CER Score: 0.15\n",
      "100%|\u001b[34m██████████\u001b[39m| 2999/2999 [00:15<00:00, 192.62it/s]\n",
      "EPOCH 9/10 - VALIDATING. Correct: 2668/2999 = 0.8896 - Average CER Score: 0.121\n",
      "100%|\u001b[32m██████████\u001b[39m| 110/110 [00:32<00:00,  3.39it/s]\n",
      "EPOCH 10/10 - TRAINING. Correct: 6892/7000 = 0.9846 - Average CER Score: 0.135\n",
      "100%|\u001b[34m██████████\u001b[39m| 2999/2999 [00:15<00:00, 193.58it/s]\n",
      "EPOCH 10/10 - VALIDATING. Correct: 2666/2999 = 0.8890 - Average CER Score: 0.111\n",
      "Finished training crnn_adam_step_lr_trainer\n",
      "Training crnn_adam_multi_step_lr_trainer\n",
      "100%|\u001b[32m██████████\u001b[39m| 110/110 [00:32<00:00,  3.43it/s]\n",
      "EPOCH 1/10 - TRAINING. Correct: 6913/7000 = 0.9876 - Average CER Score: 0.003\n",
      "100%|\u001b[34m██████████\u001b[39m| 2999/2999 [00:15<00:00, 194.69it/s]\n",
      "EPOCH 1/10 - VALIDATING. Correct: 2632/2999 = 0.8776 - Average CER Score: 0.029\n",
      "100%|\u001b[32m██████████\u001b[39m| 110/110 [00:31<00:00,  3.46it/s]\n",
      "EPOCH 2/10 - TRAINING. Correct: 6866/7000 = 0.9809 - Average CER Score: 0.004\n",
      "100%|\u001b[34m██████████\u001b[39m| 2999/2999 [00:15<00:00, 193.91it/s]\n",
      "EPOCH 2/10 - VALIDATING. Correct: 2695/2999 = 0.8986 - Average CER Score: 0.026\n",
      "100%|\u001b[32m██████████\u001b[39m| 110/110 [00:31<00:00,  3.45it/s]\n",
      "EPOCH 3/10 - TRAINING. Correct: 6820/7000 = 0.9743 - Average CER Score: 0.004\n",
      "100%|\u001b[34m██████████\u001b[39m| 2999/2999 [00:15<00:00, 198.48it/s]\n",
      "EPOCH 3/10 - VALIDATING. Correct: 2674/2999 = 0.8916 - Average CER Score: 0.026\n",
      " 17%|\u001b[32m█▋        \u001b[39m| 19/110 [00:05<00:26,  3.39it/s]\n"
     ]
    },
    {
     "ename": "KeyboardInterrupt",
     "evalue": "",
     "output_type": "error",
     "traceback": [
      "\u001b[0;31m---------------------------------------------------------------------------\u001b[0m",
      "\u001b[0;31mKeyboardInterrupt\u001b[0m                         Traceback (most recent call last)",
      "\u001b[1;32m/Users/leonremke/Documents/GIT_REPOS/UNI/neural_networks_seminar/benchmarking_emnist/lstm_own_data.ipynb Cell 5\u001b[0m line \u001b[0;36m<cell line: 2>\u001b[0;34m()\u001b[0m\n\u001b[1;32m      <a href='vscode-notebook-cell:/Users/leonremke/Documents/GIT_REPOS/UNI/neural_networks_seminar/benchmarking_emnist/lstm_own_data.ipynb#W4sZmlsZQ%3D%3D?line=1'>2</a>\u001b[0m \u001b[39mfor\u001b[39;00m model_name, trainer \u001b[39min\u001b[39;00m trainers\u001b[39m.\u001b[39mitems():\n\u001b[1;32m      <a href='vscode-notebook-cell:/Users/leonremke/Documents/GIT_REPOS/UNI/neural_networks_seminar/benchmarking_emnist/lstm_own_data.ipynb#W4sZmlsZQ%3D%3D?line=2'>3</a>\u001b[0m     \u001b[39mprint\u001b[39m(\u001b[39mf\u001b[39m\u001b[39m\"\u001b[39m\u001b[39mTraining \u001b[39m\u001b[39m{\u001b[39;00mmodel_name\u001b[39m}\u001b[39;00m\u001b[39m\"\u001b[39m)\n\u001b[0;32m----> <a href='vscode-notebook-cell:/Users/leonremke/Documents/GIT_REPOS/UNI/neural_networks_seminar/benchmarking_emnist/lstm_own_data.ipynb#W4sZmlsZQ%3D%3D?line=3'>4</a>\u001b[0m     metrics \u001b[39m=\u001b[39m trainer\u001b[39m.\u001b[39;49mtrain_validate_test()\n\u001b[1;32m      <a href='vscode-notebook-cell:/Users/leonremke/Documents/GIT_REPOS/UNI/neural_networks_seminar/benchmarking_emnist/lstm_own_data.ipynb#W4sZmlsZQ%3D%3D?line=4'>5</a>\u001b[0m     metrics_global[model_name] \u001b[39m=\u001b[39m metrics\n\u001b[1;32m      <a href='vscode-notebook-cell:/Users/leonremke/Documents/GIT_REPOS/UNI/neural_networks_seminar/benchmarking_emnist/lstm_own_data.ipynb#W4sZmlsZQ%3D%3D?line=5'>6</a>\u001b[0m     \u001b[39mprint\u001b[39m(\u001b[39mf\u001b[39m\u001b[39m\"\u001b[39m\u001b[39mFinished training \u001b[39m\u001b[39m{\u001b[39;00mmodel_name\u001b[39m}\u001b[39;00m\u001b[39m\"\u001b[39m)\n",
      "File \u001b[0;32m~/Documents/GIT_REPOS/UNI/neural_networks_seminar/benchmarking_emnist/training/trainer.py:214\u001b[0m, in \u001b[0;36mTrainer.train_validate_test\u001b[0;34m(self)\u001b[0m\n\u001b[1;32m    212\u001b[0m \u001b[39mdef\u001b[39;00m \u001b[39mtrain_validate_test\u001b[39m(\u001b[39mself\u001b[39m):\n\u001b[1;32m    213\u001b[0m     \u001b[39mfor\u001b[39;00m epoch \u001b[39min\u001b[39;00m \u001b[39mrange\u001b[39m(\u001b[39mself\u001b[39m\u001b[39m.\u001b[39mepochs):\n\u001b[0;32m--> 214\u001b[0m         \u001b[39mself\u001b[39;49m\u001b[39m.\u001b[39;49mtrain(epoch)\n\u001b[1;32m    215\u001b[0m         \u001b[39mself\u001b[39m\u001b[39m.\u001b[39mvalidate(epoch)\n",
      "File \u001b[0;32m~/Documents/GIT_REPOS/UNI/neural_networks_seminar/benchmarking_emnist/training/trainer.py:61\u001b[0m, in \u001b[0;36mTrainer.train\u001b[0;34m(self, epoch)\u001b[0m\n\u001b[1;32m     59\u001b[0m x_train \u001b[39m=\u001b[39m x_train\u001b[39m.\u001b[39mview(batch_size, \u001b[39m1\u001b[39m, x_train\u001b[39m.\u001b[39mshape[\u001b[39m1\u001b[39m], x_train\u001b[39m.\u001b[39mshape[\u001b[39m2\u001b[39m])\n\u001b[1;32m     60\u001b[0m \u001b[39mself\u001b[39m\u001b[39m.\u001b[39moptimizer\u001b[39m.\u001b[39mzero_grad()\n\u001b[0;32m---> 61\u001b[0m y_pred \u001b[39m=\u001b[39m \u001b[39mself\u001b[39;49m\u001b[39m.\u001b[39;49mmodel(x_train)\n\u001b[1;32m     62\u001b[0m y_pred \u001b[39m=\u001b[39m y_pred\u001b[39m.\u001b[39mpermute(\u001b[39m1\u001b[39m, \u001b[39m0\u001b[39m, \u001b[39m2\u001b[39m)\n\u001b[1;32m     63\u001b[0m input_lengths \u001b[39m=\u001b[39m torch\u001b[39m.\u001b[39mIntTensor(batch_size)\u001b[39m.\u001b[39mfill_(\n\u001b[1;32m     64\u001b[0m     \u001b[39mself\u001b[39m\u001b[39m.\u001b[39margs[\u001b[39m\"\u001b[39m\u001b[39mcnn_output_width\u001b[39m\u001b[39m\"\u001b[39m]\n\u001b[1;32m     65\u001b[0m )\n",
      "File \u001b[0;32m~/opt/anaconda3/envs/DSTA-Ex/lib/python3.9/site-packages/torch/nn/modules/module.py:1194\u001b[0m, in \u001b[0;36mModule._call_impl\u001b[0;34m(self, *input, **kwargs)\u001b[0m\n\u001b[1;32m   1190\u001b[0m \u001b[39m# If we don't have any hooks, we want to skip the rest of the logic in\u001b[39;00m\n\u001b[1;32m   1191\u001b[0m \u001b[39m# this function, and just call forward.\u001b[39;00m\n\u001b[1;32m   1192\u001b[0m \u001b[39mif\u001b[39;00m \u001b[39mnot\u001b[39;00m (\u001b[39mself\u001b[39m\u001b[39m.\u001b[39m_backward_hooks \u001b[39mor\u001b[39;00m \u001b[39mself\u001b[39m\u001b[39m.\u001b[39m_forward_hooks \u001b[39mor\u001b[39;00m \u001b[39mself\u001b[39m\u001b[39m.\u001b[39m_forward_pre_hooks \u001b[39mor\u001b[39;00m _global_backward_hooks\n\u001b[1;32m   1193\u001b[0m         \u001b[39mor\u001b[39;00m _global_forward_hooks \u001b[39mor\u001b[39;00m _global_forward_pre_hooks):\n\u001b[0;32m-> 1194\u001b[0m     \u001b[39mreturn\u001b[39;00m forward_call(\u001b[39m*\u001b[39;49m\u001b[39minput\u001b[39;49m, \u001b[39m*\u001b[39;49m\u001b[39m*\u001b[39;49mkwargs)\n\u001b[1;32m   1195\u001b[0m \u001b[39m# Do not call functions when jit is used\u001b[39;00m\n\u001b[1;32m   1196\u001b[0m full_backward_hooks, non_full_backward_hooks \u001b[39m=\u001b[39m [], []\n",
      "File \u001b[0;32m~/Documents/GIT_REPOS/UNI/neural_networks_seminar/benchmarking_emnist/models/crnn/crnn.py:36\u001b[0m, in \u001b[0;36mCRNN.forward\u001b[0;34m(self, x)\u001b[0m\n\u001b[1;32m     34\u001b[0m out \u001b[39m=\u001b[39m out\u001b[39m.\u001b[39mpermute(\u001b[39m0\u001b[39m, \u001b[39m3\u001b[39m, \u001b[39m2\u001b[39m, \u001b[39m1\u001b[39m)\n\u001b[1;32m     35\u001b[0m out \u001b[39m=\u001b[39m out\u001b[39m.\u001b[39mreshape(batch_size, \u001b[39m-\u001b[39m\u001b[39m1\u001b[39m, \u001b[39mself\u001b[39m\u001b[39m.\u001b[39mgru_input_size)\n\u001b[0;32m---> 36\u001b[0m out, _ \u001b[39m=\u001b[39m \u001b[39mself\u001b[39;49m\u001b[39m.\u001b[39;49mgru(out)\n\u001b[1;32m     37\u001b[0m out \u001b[39m=\u001b[39m torch\u001b[39m.\u001b[39mstack([F\u001b[39m.\u001b[39mlog_softmax(\u001b[39mself\u001b[39m\u001b[39m.\u001b[39mfc(out[i]), dim\u001b[39m=\u001b[39m\u001b[39m-\u001b[39m\u001b[39m1\u001b[39m) \u001b[39mfor\u001b[39;00m i \u001b[39min\u001b[39;00m \u001b[39mrange\u001b[39m(out\u001b[39m.\u001b[39mshape[\u001b[39m0\u001b[39m])])\n\u001b[1;32m     38\u001b[0m \u001b[39mreturn\u001b[39;00m out\n",
      "File \u001b[0;32m~/opt/anaconda3/envs/DSTA-Ex/lib/python3.9/site-packages/torch/nn/modules/module.py:1194\u001b[0m, in \u001b[0;36mModule._call_impl\u001b[0;34m(self, *input, **kwargs)\u001b[0m\n\u001b[1;32m   1190\u001b[0m \u001b[39m# If we don't have any hooks, we want to skip the rest of the logic in\u001b[39;00m\n\u001b[1;32m   1191\u001b[0m \u001b[39m# this function, and just call forward.\u001b[39;00m\n\u001b[1;32m   1192\u001b[0m \u001b[39mif\u001b[39;00m \u001b[39mnot\u001b[39;00m (\u001b[39mself\u001b[39m\u001b[39m.\u001b[39m_backward_hooks \u001b[39mor\u001b[39;00m \u001b[39mself\u001b[39m\u001b[39m.\u001b[39m_forward_hooks \u001b[39mor\u001b[39;00m \u001b[39mself\u001b[39m\u001b[39m.\u001b[39m_forward_pre_hooks \u001b[39mor\u001b[39;00m _global_backward_hooks\n\u001b[1;32m   1193\u001b[0m         \u001b[39mor\u001b[39;00m _global_forward_hooks \u001b[39mor\u001b[39;00m _global_forward_pre_hooks):\n\u001b[0;32m-> 1194\u001b[0m     \u001b[39mreturn\u001b[39;00m forward_call(\u001b[39m*\u001b[39;49m\u001b[39minput\u001b[39;49m, \u001b[39m*\u001b[39;49m\u001b[39m*\u001b[39;49mkwargs)\n\u001b[1;32m   1195\u001b[0m \u001b[39m# Do not call functions when jit is used\u001b[39;00m\n\u001b[1;32m   1196\u001b[0m full_backward_hooks, non_full_backward_hooks \u001b[39m=\u001b[39m [], []\n",
      "File \u001b[0;32m~/opt/anaconda3/envs/DSTA-Ex/lib/python3.9/site-packages/torch/nn/modules/rnn.py:955\u001b[0m, in \u001b[0;36mGRU.forward\u001b[0;34m(self, input, hx)\u001b[0m\n\u001b[1;32m    953\u001b[0m \u001b[39mself\u001b[39m\u001b[39m.\u001b[39mcheck_forward_args(\u001b[39minput\u001b[39m, hx, batch_sizes)\n\u001b[1;32m    954\u001b[0m \u001b[39mif\u001b[39;00m batch_sizes \u001b[39mis\u001b[39;00m \u001b[39mNone\u001b[39;00m:\n\u001b[0;32m--> 955\u001b[0m     result \u001b[39m=\u001b[39m _VF\u001b[39m.\u001b[39;49mgru(\u001b[39minput\u001b[39;49m, hx, \u001b[39mself\u001b[39;49m\u001b[39m.\u001b[39;49m_flat_weights, \u001b[39mself\u001b[39;49m\u001b[39m.\u001b[39;49mbias, \u001b[39mself\u001b[39;49m\u001b[39m.\u001b[39;49mnum_layers,\n\u001b[1;32m    956\u001b[0m                      \u001b[39mself\u001b[39;49m\u001b[39m.\u001b[39;49mdropout, \u001b[39mself\u001b[39;49m\u001b[39m.\u001b[39;49mtraining, \u001b[39mself\u001b[39;49m\u001b[39m.\u001b[39;49mbidirectional, \u001b[39mself\u001b[39;49m\u001b[39m.\u001b[39;49mbatch_first)\n\u001b[1;32m    957\u001b[0m \u001b[39melse\u001b[39;00m:\n\u001b[1;32m    958\u001b[0m     result \u001b[39m=\u001b[39m _VF\u001b[39m.\u001b[39mgru(\u001b[39minput\u001b[39m, batch_sizes, hx, \u001b[39mself\u001b[39m\u001b[39m.\u001b[39m_flat_weights, \u001b[39mself\u001b[39m\u001b[39m.\u001b[39mbias,\n\u001b[1;32m    959\u001b[0m                      \u001b[39mself\u001b[39m\u001b[39m.\u001b[39mnum_layers, \u001b[39mself\u001b[39m\u001b[39m.\u001b[39mdropout, \u001b[39mself\u001b[39m\u001b[39m.\u001b[39mtraining, \u001b[39mself\u001b[39m\u001b[39m.\u001b[39mbidirectional)\n",
      "\u001b[0;31mKeyboardInterrupt\u001b[0m: "
     ]
    }
   ],
   "source": [
    "metrics_global = {}\n",
    "for model_name, trainer in trainers.items():\n",
    "    print(f\"Training {model_name}\")\n",
    "    metrics = trainer.train_validate_test()\n",
    "    metrics_global[model_name] = metrics\n",
    "    print(f\"Finished training {model_name}\")\n",
    "\n",
    "    # Save the trained model\n",
    "    torch.save(trainer.model.state_dict(), 'models/' + model_name + '.pth')\n",
    "    break"
   ]
  },
  {
   "cell_type": "code",
   "execution_count": null,
   "metadata": {},
   "outputs": [
    {
     "ename": "FileNotFoundError",
     "evalue": "[Errno 2] No such file or directory: 'crnn_adam_step_lr_trainer.pth'",
     "output_type": "error",
     "traceback": [
      "\u001b[0;31m---------------------------------------------------------------------------\u001b[0m",
      "\u001b[0;31mFileNotFoundError\u001b[0m                         Traceback (most recent call last)",
      "\u001b[1;32m/Users/leonremke/Documents/GIT_REPOS/UNI/neural_networks_seminar/benchmarking_emnist/lstm_own_data.ipynb Cell 6\u001b[0m line \u001b[0;36m<cell line: 2>\u001b[0;34m()\u001b[0m\n\u001b[1;32m      <a href='vscode-notebook-cell:/Users/leonremke/Documents/GIT_REPOS/UNI/neural_networks_seminar/benchmarking_emnist/lstm_own_data.ipynb#W3sZmlsZQ%3D%3D?line=5'>6</a>\u001b[0m model_path \u001b[39m=\u001b[39m model_name \u001b[39m+\u001b[39m \u001b[39m'\u001b[39m\u001b[39m.pth\u001b[39m\u001b[39m'\u001b[39m\n\u001b[1;32m      <a href='vscode-notebook-cell:/Users/leonremke/Documents/GIT_REPOS/UNI/neural_networks_seminar/benchmarking_emnist/lstm_own_data.ipynb#W3sZmlsZQ%3D%3D?line=6'>7</a>\u001b[0m model \u001b[39m=\u001b[39m trainer\u001b[39m.\u001b[39mmodel\u001b[39m.\u001b[39mto(\u001b[39m\"\u001b[39m\u001b[39mcpu\u001b[39m\u001b[39m\"\u001b[39m)\n\u001b[0;32m----> <a href='vscode-notebook-cell:/Users/leonremke/Documents/GIT_REPOS/UNI/neural_networks_seminar/benchmarking_emnist/lstm_own_data.ipynb#W3sZmlsZQ%3D%3D?line=7'>8</a>\u001b[0m trainer\u001b[39m.\u001b[39mmodel\u001b[39m.\u001b[39mload_state_dict(torch\u001b[39m.\u001b[39;49mload(model_path))\n\u001b[1;32m     <a href='vscode-notebook-cell:/Users/leonremke/Documents/GIT_REPOS/UNI/neural_networks_seminar/benchmarking_emnist/lstm_own_data.ipynb#W3sZmlsZQ%3D%3D?line=9'>10</a>\u001b[0m \u001b[39m# Plot the trained model\u001b[39;00m\n\u001b[1;32m     <a href='vscode-notebook-cell:/Users/leonremke/Documents/GIT_REPOS/UNI/neural_networks_seminar/benchmarking_emnist/lstm_own_data.ipynb#W3sZmlsZQ%3D%3D?line=10'>11</a>\u001b[0m plot_loss(model_name\u001b[39m=\u001b[39mmodel_name, train_loss_per_epoch\u001b[39m=\u001b[39mtrainer\u001b[39m.\u001b[39mepoch_train_cers, val_loss_per_epoch\u001b[39m=\u001b[39mtrainer\u001b[39m.\u001b[39mepoch_val_cers, figure_evaluation_dir\u001b[39m=\u001b[39mbase_path)\n",
      "File \u001b[0;32m~/opt/anaconda3/envs/DSTA-Ex/lib/python3.9/site-packages/torch/serialization.py:771\u001b[0m, in \u001b[0;36mload\u001b[0;34m(f, map_location, pickle_module, weights_only, **pickle_load_args)\u001b[0m\n\u001b[1;32m    768\u001b[0m \u001b[39mif\u001b[39;00m \u001b[39m'\u001b[39m\u001b[39mencoding\u001b[39m\u001b[39m'\u001b[39m \u001b[39mnot\u001b[39;00m \u001b[39min\u001b[39;00m pickle_load_args\u001b[39m.\u001b[39mkeys():\n\u001b[1;32m    769\u001b[0m     pickle_load_args[\u001b[39m'\u001b[39m\u001b[39mencoding\u001b[39m\u001b[39m'\u001b[39m] \u001b[39m=\u001b[39m \u001b[39m'\u001b[39m\u001b[39mutf-8\u001b[39m\u001b[39m'\u001b[39m\n\u001b[0;32m--> 771\u001b[0m \u001b[39mwith\u001b[39;00m _open_file_like(f, \u001b[39m'\u001b[39;49m\u001b[39mrb\u001b[39;49m\u001b[39m'\u001b[39;49m) \u001b[39mas\u001b[39;00m opened_file:\n\u001b[1;32m    772\u001b[0m     \u001b[39mif\u001b[39;00m _is_zipfile(opened_file):\n\u001b[1;32m    773\u001b[0m         \u001b[39m# The zipfile reader is going to advance the current file position.\u001b[39;00m\n\u001b[1;32m    774\u001b[0m         \u001b[39m# If we want to actually tail call to torch.jit.load, we need to\u001b[39;00m\n\u001b[1;32m    775\u001b[0m         \u001b[39m# reset back to the original position.\u001b[39;00m\n\u001b[1;32m    776\u001b[0m         orig_position \u001b[39m=\u001b[39m opened_file\u001b[39m.\u001b[39mtell()\n",
      "File \u001b[0;32m~/opt/anaconda3/envs/DSTA-Ex/lib/python3.9/site-packages/torch/serialization.py:270\u001b[0m, in \u001b[0;36m_open_file_like\u001b[0;34m(name_or_buffer, mode)\u001b[0m\n\u001b[1;32m    268\u001b[0m \u001b[39mdef\u001b[39;00m \u001b[39m_open_file_like\u001b[39m(name_or_buffer, mode):\n\u001b[1;32m    269\u001b[0m     \u001b[39mif\u001b[39;00m _is_path(name_or_buffer):\n\u001b[0;32m--> 270\u001b[0m         \u001b[39mreturn\u001b[39;00m _open_file(name_or_buffer, mode)\n\u001b[1;32m    271\u001b[0m     \u001b[39melse\u001b[39;00m:\n\u001b[1;32m    272\u001b[0m         \u001b[39mif\u001b[39;00m \u001b[39m'\u001b[39m\u001b[39mw\u001b[39m\u001b[39m'\u001b[39m \u001b[39min\u001b[39;00m mode:\n",
      "File \u001b[0;32m~/opt/anaconda3/envs/DSTA-Ex/lib/python3.9/site-packages/torch/serialization.py:251\u001b[0m, in \u001b[0;36m_open_file.__init__\u001b[0;34m(self, name, mode)\u001b[0m\n\u001b[1;32m    250\u001b[0m \u001b[39mdef\u001b[39;00m \u001b[39m__init__\u001b[39m(\u001b[39mself\u001b[39m, name, mode):\n\u001b[0;32m--> 251\u001b[0m     \u001b[39msuper\u001b[39m(_open_file, \u001b[39mself\u001b[39m)\u001b[39m.\u001b[39m\u001b[39m__init__\u001b[39m(\u001b[39mopen\u001b[39;49m(name, mode))\n",
      "\u001b[0;31mFileNotFoundError\u001b[0m: [Errno 2] No such file or directory: 'crnn_adam_step_lr_trainer.pth'"
     ]
    }
   ],
   "source": [
    "from evaluation.loss import plot_loss\n",
    "for model_name, trainer in trainers.items():\n",
    "    # Load model\n",
    "\n",
    "    base_path = 'models/'\n",
    "    model_path = model_name + '.pth'\n",
    "    model = trainer.model.to(\"cpu\")\n",
    "    trainer.model.load_state_dict(torch.load(model_path))\n",
    "\n",
    "    # Plot the trained model\n",
    "    plot_loss(model_name=model_name, train_loss_per_epoch=trainer.epoch_train_cers, val_loss_per_epoch=trainer.epoch_val_cers, figure_evaluation_dir=base_path)\n",
    "    break"
   ]
  },
  {
   "cell_type": "code",
   "execution_count": null,
   "metadata": {},
   "outputs": [
    {
     "name": "stdout",
     "output_type": "stream",
     "text": [
      "100%|\u001b[34m██████████\u001b[39m| 1/1 [00:00<00:00, 184.91it/s]\n"
     ]
    },
    {
     "ename": "AttributeError",
     "evalue": "'Trainer' object has no attribute 'epoch_test_cers'",
     "output_type": "error",
     "traceback": [
      "\u001b[0;31m---------------------------------------------------------------------------\u001b[0m",
      "\u001b[0;31mAttributeError\u001b[0m                            Traceback (most recent call last)",
      "\u001b[1;32m/Users/leonremke/Documents/GIT_REPOS/UNI/neural_networks_seminar/benchmarking_emnist/lstm_own_data.ipynb Cell 6\u001b[0m line \u001b[0;36m<cell line: 2>\u001b[0;34m()\u001b[0m\n\u001b[1;32m      <a href='vscode-notebook-cell:/Users/leonremke/Documents/GIT_REPOS/UNI/neural_networks_seminar/benchmarking_emnist/lstm_own_data.ipynb#W4sZmlsZQ%3D%3D?line=0'>1</a>\u001b[0m lstm_trainer\u001b[39m.\u001b[39mload_model(\u001b[39m'\u001b[39m\u001b[39mmodels/lstm_cnn/model.pth\u001b[39m\u001b[39m'\u001b[39m)\n\u001b[0;32m----> <a href='vscode-notebook-cell:/Users/leonremke/Documents/GIT_REPOS/UNI/neural_networks_seminar/benchmarking_emnist/lstm_own_data.ipynb#W4sZmlsZQ%3D%3D?line=1'>2</a>\u001b[0m lstm_trainer\u001b[39m.\u001b[39;49mtest(plot_n\u001b[39m=\u001b[39;49m\u001b[39m1\u001b[39;49m)\n",
      "File \u001b[0;32m~/Documents/GIT_REPOS/UNI/neural_networks_seminar/benchmarking_emnist/training/trainer.py:175\u001b[0m, in \u001b[0;36mTrainer.test\u001b[0;34m(self, plot_n)\u001b[0m\n\u001b[1;32m    173\u001b[0m test_accuracy \u001b[39m=\u001b[39m test_correct \u001b[39m/\u001b[39m test_total\n\u001b[1;32m    174\u001b[0m \u001b[39m# Add CER for epoch\u001b[39;00m\n\u001b[0;32m--> 175\u001b[0m \u001b[39mself\u001b[39;49m\u001b[39m.\u001b[39;49mepoch_test_cers\u001b[39m.\u001b[39mappend(\u001b[39mround\u001b[39m(np\u001b[39m.\u001b[39mmean(np\u001b[39m.\u001b[39marray(\u001b[39mself\u001b[39m\u001b[39m.\u001b[39mall_test_cers)), \u001b[39m3\u001b[39m))\n\u001b[1;32m    176\u001b[0m \u001b[39mself\u001b[39m\u001b[39m.\u001b[39mmetrics[\u001b[39m\"\u001b[39m\u001b[39mtest_accuracy\u001b[39m\u001b[39m\"\u001b[39m]\u001b[39m.\u001b[39mappend(test_accuracy)\n\u001b[1;32m    177\u001b[0m \u001b[39mprint\u001b[39m(\n\u001b[1;32m    178\u001b[0m     \u001b[39mf\u001b[39m\u001b[39m\"\u001b[39m\u001b[39mTESTING. Correct: \u001b[39m\u001b[39m{\u001b[39;00mtest_correct\u001b[39m}\u001b[39;00m\u001b[39m/\u001b[39m\u001b[39m{\u001b[39;00mtest_total\u001b[39m}\u001b[39;00m\u001b[39m = \u001b[39m\u001b[39m{\u001b[39;00mtest_accuracy\u001b[39m:\u001b[39;00m\u001b[39m.4f\u001b[39m\u001b[39m}\u001b[39;00m\u001b[39m - Average CER Score: \u001b[39m\u001b[39m{\u001b[39;00m\u001b[39mround\u001b[39m(np\u001b[39m.\u001b[39mmean(np\u001b[39m.\u001b[39marray(\u001b[39mself\u001b[39m\u001b[39m.\u001b[39mall_val_cers)),\u001b[39m \u001b[39m\u001b[39m3\u001b[39m)\u001b[39m}\u001b[39;00m\u001b[39m\"\u001b[39m\n\u001b[1;32m    179\u001b[0m )\n",
      "\u001b[0;31mAttributeError\u001b[0m: 'Trainer' object has no attribute 'epoch_test_cers'"
     ]
    }
   ],
   "source": [
    "for model_name, trainer in trainers.items():\n",
    "    trainer.load_model(f'models/{model_name}/model.pth')\n",
    "    trainer.test(plot_n=1)\n",
    "    break"
   ]
  }
 ],
 "metadata": {
  "kernelspec": {
   "display_name": "s2s_learning_seminar",
   "language": "python",
   "name": "python3"
  },
  "language_info": {
   "codemirror_mode": {
    "name": "ipython",
    "version": 3
   },
   "file_extension": ".py",
   "mimetype": "text/x-python",
   "name": "python",
   "nbconvert_exporter": "python",
   "pygments_lexer": "ipython3",
   "version": "3.9.13"
  },
  "orig_nbformat": 4,
  "vscode": {
   "interpreter": {
    "hash": "a6a6a2f4e9b3d29343f27ef6aef311b54e340d4b6fc29835f858df5c984e5196"
   }
  }
 },
 "nbformat": 4,
 "nbformat_minor": 2
}
