{
 "cells": [
  {
   "cell_type": "code",
   "execution_count": 1,
   "metadata": {},
   "outputs": [],
   "source": [
    "%load_ext autoreload\n",
    "%autoreload 2"
   ]
  },
  {
   "cell_type": "code",
   "execution_count": 2,
   "metadata": {},
   "outputs": [],
   "source": [
    "from emnist import get_emnist_data_loaders\n",
    "train_loader, val_loader = get_emnist_data_loaders()"
   ]
  },
  {
   "cell_type": "code",
   "execution_count": 43,
   "metadata": {},
   "outputs": [
    {
     "name": "stdout",
     "output_type": "stream",
     "text": [
      "Training crnn\n",
      " 30%|\u001b[32m██▉       \u001b[39m| 37/125 [00:11<00:27,  3.15it/s]"
     ]
    }
   ],
   "source": [
    "from models.crnn.crnn import CRNN\n",
    "from models.lstm_cnn.lstm_cnn import CNN_LSTM\n",
    "import torch.nn as nn\n",
    "from training.trainer import Trainer\n",
    "import hyperparameter as hp\n",
    "import torch\n",
    "from evaluation.loss import plot_loss\n",
    "\n",
    "\n",
    "crnn = CRNN(hp.GRU_HIDDEN_SIZE, hp.GRU_NUM_LAYERS, hp.NUM_CLASSES, hp.CNN_OUTPUT_HEIGHT)\n",
    "lstm = CNN_LSTM(hp.GRU_HIDDEN_SIZE, hp.GRU_NUM_LAYERS, hp.NUM_CLASSES, hp.CNN_OUTPUT_HEIGHT)\n",
    "\n",
    "models = {\n",
    "    \"crnn\": crnn,\n",
    "    \"lstm_cnn\": lstm\n",
    "}\n",
    "\n",
    "crnn_criterion = nn.CTCLoss(blank=hp.BLANK_LABEL, reduction='mean', zero_infinity=True)\n",
    "lstm_criterion = nn.CTCLoss(blank=hp.BLANK_LABEL, reduction='mean', zero_infinity=True)\n",
    "\n",
    "criterions = {\n",
    "    \"crnn\": crnn_criterion,\n",
    "    \"lstm_cnn\": lstm_criterion\n",
    "}\n",
    "\n",
    "crnn_optimizer = torch.optim.Adam(crnn.parameters(), lr=hp.LEARNING_RATE)\n",
    "lstm_optimizer = torch.optim.Adam(lstm.parameters(), lr=hp.LEARNING_RATE)\n",
    "\n",
    "optimizers = {\n",
    "    \"crnn\": crnn_optimizer,\n",
    "    \"lstm_cnn\": lstm_optimizer\n",
    "}\n",
    "\n",
    "crnn_trainer = Trainer(models[\"crnn\"], criterions[\"crnn\"], optimizers[\"crnn\"], train_loader, val_loader, hp.EPOCHS, {\n",
    "        \"blank_label\": hp.BLANK_LABEL,\n",
    "        \"cnn_output_width\": hp.CNN_OUTPUT_WIDTH,\n",
    "    })\n",
    "lstm_trainer =  Trainer(models[\"lstm_cnn\"], criterions[\"lstm_cnn\"], optimizers[\"lstm_cnn\"], train_loader, val_loader, hp.EPOCHS, {\n",
    "        \"blank_label\": hp.BLANK_LABEL,\n",
    "        \"cnn_output_width\": hp.CNN_OUTPUT_WIDTH,\n",
    "    })\n",
    "trainers = {\n",
    "    \"crnn\": crnn_trainer,\n",
    "    \"lstm_cnn\": lstm_trainer\n",
    "}\n",
    "\n",
    "metrics_global = {}\n",
    "for model_name, trainer in trainers.items():\n",
    "    print(f\"Training {model_name}\")\n",
    "    metrics = trainer.train_validate_test()\n",
    "    metrics_global[model_name] = metrics\n",
    "    print(f\"Finished training {model_name}\")\n",
    "\n",
    "    # Save the trained model\n",
    "    torch.save(trainer.model.state_dict(), 'models/' + model_name + '/model.pth')"
   ]
  },
  {
   "cell_type": "code",
   "execution_count": null,
   "metadata": {},
   "outputs": [
    {
     "name": "stdout",
     "output_type": "stream",
     "text": [
      "models/lstm_cnn/lstm_cnn_loss.png\n"
     ]
    },
    {
     "data": {
      "text/plain": [
       "<Figure size 1200x600 with 0 Axes>"
      ]
     },
     "metadata": {},
     "output_type": "display_data"
    }
   ],
   "source": [
    "for model_name, model in models.items():\n",
    "    # Load model\n",
    "    base_path = 'models/' + model_name + \"/\"\n",
    "    model_path = base_path + 'model.pth'\n",
    "    model = model.to(\"cpu\")\n",
    "    model.load_state_dict(torch.load(model_path))\n",
    "\n",
    "    # Plot the trained model\n",
    "    plot_loss(model_name=model_name, train_loss_per_epoch=trainer.epoch_train_cers, val_loss_per_epoch=trainer.epoch_train_cers, figure_evaluation_dir=base_path)"
   ]
  },
  {
   "cell_type": "code",
   "execution_count": null,
   "metadata": {},
   "outputs": [
    {
     "data": {
      "image/png": "[encoded data removed]",
      "text/plain": [
       "<Figure size 640x480 with 1 Axes>"
      ]
     },
     "metadata": {},
     "output_type": "display_data"
    }
   ],
   "source": [
    "\n",
    "# ============================================ TESTING =================================================================\n",
    "number_of_test_imgs = 1\n",
    "test_preds = []\n",
    "(x_test, y_test) = next(iter(train_loader))\n",
    "y_pred = trainer.model(x_test.view(x_test.shape[0], 1, x_test.shape[1], x_test.shape[2]))\n",
    "y_pred = y_pred.permute(1, 0, 2)\n",
    "_, max_index = torch.max(y_pred, dim=2)\n",
    "for i in range(x_test.shape[0]):\n",
    "    raw_prediction = list(max_index[:, i].detach().cpu().numpy())\n",
    "    prediction = torch.IntTensor([c for c, _ in groupby(raw_prediction) if c != hp.BLANK_LABEL])\n",
    "    test_preds.append(prediction)\n",
    "\n",
    "for j in range(len(x_test)):\n",
    "    if j == number_of_test_imgs:\n",
    "        break\n",
    "\n",
    "    mpl.rcParams[\"font.size\"] = 8\n",
    "    plt.imshow(x_test[j], cmap='gray')\n",
    "    mpl.rcParams[\"font.size\"] = 18\n",
    "    plt.gcf().text(x=0.1, y=0.1, s=\"Actual: \" + str(y_test[j].numpy()))\n",
    "    plt.gcf().text(x=0.1, y=0.2, s=\"Predicted: \" + str(test_preds[j].numpy()))\n",
    "    plt.show()"
   ]
  }
 ],
 "metadata": {
  "kernelspec": {
   "display_name": "s2s_learning_seminar",
   "language": "python",
   "name": "python3"
  },
  "language_info": {
   "codemirror_mode": {
    "name": "ipython",
    "version": 3
   },
   "file_extension": ".py",
   "mimetype": "text/x-python",
   "name": "python",
   "nbconvert_exporter": "python",
   "pygments_lexer": "ipython3",
   "version": "3.11.3"
  },
  "orig_nbformat": 4,
  "vscode": {
   "interpreter": {
    "hash": "a6a6a2f4e9b3d29343f27ef6aef311b54e340d4b6fc29835f858df5c984e5196"
   }
  }
 },
 "nbformat": 4,
 "nbformat_minor": 2
}
