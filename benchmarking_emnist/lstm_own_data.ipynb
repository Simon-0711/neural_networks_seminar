{
 "cells": [
  {
   "cell_type": "code",
   "execution_count": 1,
   "metadata": {},
   "outputs": [],
   "source": [
    "%load_ext autoreload\n",
    "%autoreload 2"
   ]
  },
  {
   "cell_type": "code",
   "execution_count": 2,
   "metadata": {},
   "outputs": [],
   "source": [
    "# Setup path in .env file\n",
    "import os\n",
    "from dotenv import load_dotenv\n",
    "import cv2\n",
    "import numpy as np\n",
    "import torch"
   ]
  },
  {
   "cell_type": "markdown",
   "metadata": {},
   "source": [
    "TODO:\n",
    "- CER Loss testen\n",
    "- Optimiser wechseln\n",
    "- Strukturierung Ordnerstruktur\n",
    "  - Ordner für alte approaches"
   ]
  },
  {
   "cell_type": "code",
   "execution_count": 3,
   "metadata": {},
   "outputs": [],
   "source": [
    "from emnist import get_emnist_data_loaders\n",
    "train_loader, val_loader = get_emnist_data_loaders()"
   ]
  },
  {
   "cell_type": "code",
   "execution_count": 22,
   "metadata": {},
   "outputs": [
    {
     "name": "stdout",
     "output_type": "stream",
     "text": [
      "Training CRNN\n",
      "100%|\u001b[32m██████████\u001b[39m| 125/125 [00:39<00:00,  3.19it/s]\n",
      "EPOCH 1/1 - TRAINING. Correct: 76/8000 = 0.0095 - Average CER Score: 0.922\n",
      "100%|\u001b[34m██████████\u001b[39m| 2000/2000 [00:12<00:00, 159.63it/s]\n",
      "EPOCH 1/1 - TESTING. Correct: 436/2000 = 0.2180 - Average CER Score: 0.387\n",
      "Finished training CRNN\n"
     ]
    }
   ],
   "source": [
    "from models.crnn.crnn import CRNN\n",
    "from models.lstm_cnn.lstm_cnn import CNN_LSTM\n",
    "import torch.nn as nn\n",
    "from training.trainer import Trainer\n",
    "import hyperparameter as hp\n",
    "import torch\n",
    "\n",
    "crnn = CRNN(hp.GRU_HIDDEN_SIZE, hp.GRU_NUM_LAYERS, hp.NUM_CLASSES, hp.CNN_OUTPUT_HEIGHT)\n",
    "lstm = CNN_LSTM(hp.GRU_HIDDEN_SIZE, hp.GRU_NUM_LAYERS, hp.NUM_CLASSES, hp.CNN_OUTPUT_HEIGHT)\n",
    "\n",
    "models = {\n",
    "    \"CRNN\": crnn,\n",
    "    \"CNN_LSTM\": lstm\n",
    "}\n",
    "\n",
    "crnn_criterion = nn.CTCLoss(blank=hp.BLANK_LABEL, reduction='mean', zero_infinity=True)\n",
    "lstm_criterion = nn.CTCLoss(blank=hp.BLANK_LABEL, reduction='mean', zero_infinity=True)\n",
    "\n",
    "criterions = {\n",
    "    \"CRNN\": crnn_criterion,\n",
    "    \"CNN_LSTM\": lstm_criterion\n",
    "}\n",
    "\n",
    "crnn_optimizer = torch.optim.Adam(crnn.parameters(), lr=hp.LEARNING_RATE)\n",
    "lstm_optimizer = torch.optim.Adam(lstm.parameters(), lr=hp.LEARNING_RATE)\n",
    "\n",
    "optimizers = {\n",
    "    \"CRNN\": crnn_optimizer,\n",
    "    \"CNN_LSTM\": lstm_optimizer\n",
    "}\n",
    "\n",
    "crnn_trainer = Trainer(models[\"CRNN\"], criterions[\"CRNN\"], optimizers[\"CRNN\"], train_loader, val_loader, hp.EPOCHS, {\n",
    "        \"blank_label\": hp.BLANK_LABEL,\n",
    "        \"cnn_output_width\": hp.CNN_OUTPUT_WIDTH,\n",
    "    })\n",
    "lstm_trainer =  Trainer(models[\"CNN_LSTM\"], criterions[\"CNN_LSTM\"], optimizers[\"CNN_LSTM\"], train_loader, val_loader, hp.EPOCHS, {\n",
    "        \"blank_label\": hp.BLANK_LABEL,\n",
    "        \"cnn_output_width\": hp.CNN_OUTPUT_WIDTH,\n",
    "    })\n",
    "trainers = {\n",
    "    \"CRNN\": crnn_trainer,\n",
    "    \"CNN_LSTM\": lstm_trainer\n",
    "}\n",
    "\n",
    "\n",
    "metrics_global = {}\n",
    "for model_name, trainer in trainers.items():\n",
    "    print(f\"Training {model_name}\")\n",
    "    metrics = trainer.train_validate_test()\n",
    "    metrics_global[model_name] = metrics\n",
    "    print(f\"Finished training {model_name}\")\n",
    "    break"
   ]
  },
  {
   "cell_type": "code",
   "execution_count": 5,
   "metadata": {},
   "outputs": [
    {
     "ename": "NameError",
     "evalue": "name 'val_set' is not defined",
     "output_type": "error",
     "traceback": [
      "\u001b[0;31m---------------------------------------------------------------------------\u001b[0m",
      "\u001b[0;31mNameError\u001b[0m                                 Traceback (most recent call last)",
      "Cell \u001b[0;32mIn[5], line 3\u001b[0m\n\u001b[1;32m      1\u001b[0m \u001b[39m# ============================================ TESTING =================================================================\u001b[39;00m\n\u001b[1;32m      2\u001b[0m number_of_test_imgs \u001b[39m=\u001b[39m \u001b[39m10\u001b[39m\n\u001b[0;32m----> 3\u001b[0m test_loader \u001b[39m=\u001b[39m torch\u001b[39m.\u001b[39mutils\u001b[39m.\u001b[39mdata\u001b[39m.\u001b[39mDataLoader(val_set, batch_size\u001b[39m=\u001b[39mnumber_of_test_imgs, shuffle\u001b[39m=\u001b[39m\u001b[39mTrue\u001b[39;00m)\n\u001b[1;32m      4\u001b[0m test_preds \u001b[39m=\u001b[39m []\n\u001b[1;32m      5\u001b[0m (x_test, y_test) \u001b[39m=\u001b[39m \u001b[39mnext\u001b[39m(\u001b[39miter\u001b[39m(test_loader))\n",
      "\u001b[0;31mNameError\u001b[0m: name 'val_set' is not defined"
     ]
    }
   ],
   "source": [
    "\n",
    "# ============================================ TESTING =================================================================\n",
    "number_of_test_imgs = 10\n",
    "test_loader = torch.utils.data.DataLoader(val_set, batch_size=number_of_test_imgs, shuffle=True)\n",
    "test_preds = []\n",
    "(x_test, y_test) = next(iter(test_loader))\n",
    "y_pred = model(x_test.view(x_test.shape[0], 1, x_test.shape[1], x_test.shape[2]))\n",
    "y_pred = y_pred.permute(1, 0, 2)\n",
    "_, max_index = torch.max(y_pred, dim=2)\n",
    "for i in range(x_test.shape[0]):\n",
    "    raw_prediction = list(max_index[:, i].detach().cpu().numpy())\n",
    "    prediction = torch.IntTensor([c for c, _ in groupby(raw_prediction) if c != blank_label])\n",
    "    test_preds.append(prediction)\n",
    "\n",
    "for j in range(len(x_test)):\n",
    "    mpl.rcParams[\"font.size\"] = 8\n",
    "    plt.imshow(x_test[j], cmap='gray')\n",
    "    mpl.rcParams[\"font.size\"] = 18\n",
    "    plt.gcf().text(x=0.1, y=0.1, s=\"Actual: \" + str(y_test[j].numpy()))\n",
    "    plt.gcf().text(x=0.1, y=0.2, s=\"Predicted: \" + str(test_preds[j].numpy()))\n",
    "    plt.show()\n",
    "\n"
   ]
  },
  {
   "cell_type": "code",
   "execution_count": null,
   "metadata": {},
   "outputs": [],
   "source": []
  }
 ],
 "metadata": {
  "kernelspec": {
   "display_name": "DSTA-Ex",
   "language": "python",
   "name": "python3"
  },
  "language_info": {
   "codemirror_mode": {
    "name": "ipython",
    "version": 3
   },
   "file_extension": ".py",
   "mimetype": "text/x-python",
   "name": "python",
   "nbconvert_exporter": "python",
   "pygments_lexer": "ipython3",
   "version": "3.9.13"
  },
  "orig_nbformat": 4
 },
 "nbformat": 4,
 "nbformat_minor": 2
}
