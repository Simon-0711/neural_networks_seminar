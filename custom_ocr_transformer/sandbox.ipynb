{
 "cells": [
  {
   "cell_type": "code",
   "execution_count": 7,
   "metadata": {},
   "outputs": [
    {
     "ename": "ModuleNotFoundError",
     "evalue": "No module named 'einops'",
     "output_type": "error",
     "traceback": [
      "\u001b[0;31m---------------------------------------------------------------------------\u001b[0m",
      "\u001b[0;31mModuleNotFoundError\u001b[0m                       Traceback (most recent call last)",
      "Cell \u001b[0;32mIn[7], line 2\u001b[0m\n\u001b[1;32m      1\u001b[0m \u001b[39mimport\u001b[39;00m \u001b[39mtorch\u001b[39;00m\n\u001b[0;32m----> 2\u001b[0m \u001b[39mfrom\u001b[39;00m \u001b[39mvit\u001b[39;00m \u001b[39mimport\u001b[39;00m ViT\n\u001b[1;32m      4\u001b[0m \u001b[39m# model1 = ResNet50ViT(img_dim=128, pretrained_resnet=False, \u001b[39;00m\n\u001b[1;32m      5\u001b[0m \u001b[39m#                         blocks=6, num_classes=10, \u001b[39;00m\n\u001b[1;32m      6\u001b[0m \u001b[39m#                         dim_linear_block=256, dim=256)\u001b[39;00m\n\u001b[1;32m      7\u001b[0m \u001b[39m# # or\u001b[39;00m\n\u001b[1;32m      8\u001b[0m model \u001b[39m=\u001b[39m ViT(img_dim\u001b[39m=\u001b[39m\u001b[39m256\u001b[39m, in_channels\u001b[39m=\u001b[39m\u001b[39m3\u001b[39m, patch_dim\u001b[39m=\u001b[39m\u001b[39m16\u001b[39m, num_classes\u001b[39m=\u001b[39m\u001b[39m10\u001b[39m,dim\u001b[39m=\u001b[39m\u001b[39m512\u001b[39m)\n",
      "File \u001b[0;32m~/Documents/GIT_REPOS/UNI/neural_networks_seminar/custom_ocr_transformer/vit.py:3\u001b[0m\n\u001b[1;32m      1\u001b[0m \u001b[39mimport\u001b[39;00m \u001b[39mtorch\u001b[39;00m\n\u001b[1;32m      2\u001b[0m \u001b[39mimport\u001b[39;00m \u001b[39mtorch\u001b[39;00m\u001b[39m.\u001b[39;00m\u001b[39mnn\u001b[39;00m \u001b[39mas\u001b[39;00m \u001b[39mnn\u001b[39;00m\n\u001b[0;32m----> 3\u001b[0m \u001b[39mfrom\u001b[39;00m \u001b[39meinops\u001b[39;00m \u001b[39mimport\u001b[39;00m rearrange\n\u001b[1;32m      5\u001b[0m \u001b[39mfrom\u001b[39;00m  \u001b[39mtransformer\u001b[39;00m \u001b[39mimport\u001b[39;00m TransformerEncoder\n\u001b[1;32m      6\u001b[0m \u001b[39mfrom\u001b[39;00m \u001b[39mcommon\u001b[39;00m \u001b[39mimport\u001b[39;00m expand_to_batch\n",
      "\u001b[0;31mModuleNotFoundError\u001b[0m: No module named 'einops'"
     ]
    }
   ],
   "source": [
    "import torch\n",
    "from vit import ViT\n",
    "\n",
    "# model1 = ResNet50ViT(img_dim=128, pretrained_resnet=False, \n",
    "#                         blocks=6, num_classes=10, \n",
    "#                         dim_linear_block=256, dim=256)\n",
    "# # or\n",
    "model = ViT(img_dim=256, in_channels=3, patch_dim=16, num_classes=10,dim=512)\n",
    "x = torch.rand(2, 3, 256, 256)\n",
    "y = model(x)\n",
    "print(y.shape)"
   ]
  },
  {
   "cell_type": "markdown",
   "metadata": {},
   "source": [
    "# Experiment with TransOCR\n",
    "Model from:\n",
    "https://github.com/FudanVI/benchmarking-chinese-text-recognition/blob/main/models/TransOCR/model/transocr.py\n"
   ]
  },
  {
   "cell_type": "code",
   "execution_count": 10,
   "metadata": {},
   "outputs": [
    {
     "name": "stdout",
     "output_type": "stream",
     "text": [
      "Project root dir: /Users/leonremke/Documents/GIT_REPOS/UNI/neural_networks_seminar\n",
      "Absolute path: /Users/leonremke/Documents/GIT_REPOS/UNI/neural_networks_seminar/pubtabnet\n"
     ]
    }
   ],
   "source": [
    "# Setup path in .env file\n",
    "import os\n",
    "from dotenv import load_dotenv\n",
    "import cv2\n",
    "import numpy as np\n",
    "\n",
    "# Get absolut path to proeject root\n",
    "load_dotenv()\n",
    "data_path = os.getenv(\"PUBTABNET_DATA_DIR\")\n",
    "\n",
    "project_root_dir = os.path.dirname(os.path.abspath(\"./\"))\n",
    "print(\"Project root dir:\", project_root_dir)\n",
    "\n",
    "data_dir = os.getenv(\"PUBTABNET_DATA_DIR\")\n",
    "absolute_dir = project_root_dir + data_dir\n",
    "print(\"Absolute path:\", absolute_dir)"
   ]
  },
  {
   "cell_type": "code",
   "execution_count": 11,
   "metadata": {},
   "outputs": [],
   "source": [
    "image_dir = f\"{absolute_dir}/train\"\n",
    "label_file = f\"{absolute_dir}/PubTabNet_2.0.0.jsonl\"\n",
    "output_file = f\"{absolute_dir}/subset_val.jsonl\"\n",
    "subset_size =10  # Number of entries in the subset"
   ]
  },
  {
   "cell_type": "code",
   "execution_count": 12,
   "metadata": {},
   "outputs": [],
   "source": [
    "# import jsonlines\n",
    "# import os\n",
    "# import pandas as pd\n",
    "# import time\n",
    "\n",
    "# # Load the JSONL data into a Pandas DataFrame\n",
    "# data = []\n",
    "# with open(label_file, 'r') as input_reader:\n",
    "#     for item in jsonlines.Reader(input_reader):\n",
    "#         data.append(item)\n",
    "# df = pd.DataFrame(data)\n",
    "# print(\"Datadrame created\")\n",
    "# # Get a list of image filenames in the image directory\n",
    "# image_filenames = [filename for filename in os.listdir(image_dir) if filename.endswith(\".png\")]\n",
    "# print(f\"Found {len(image_filenames)} image files in {image_dir}\")\n",
    "# # Start the timer\n",
    "# start_time = time.time()\n",
    "\n",
    "# # Perform filtering using Pandas DataFrame operations\n",
    "# filtered_df = df[(df[\"split\"] == \"val\") & (df[\"filename\"].isin(image_filenames))]\n",
    "\n",
    "# # Stop the timer\n",
    "# end_time = time.time()\n",
    "# elapsed_time = end_time - start_time\n",
    "# print(f\"Filtering took {elapsed_time:.2f} seconds\")\n",
    "\n",
    "# # Optionally, save the filtered data to a new JSONL file\n",
    "# filtered_df.to_json(output_file, orient=\"records\", lines=True)\n"
   ]
  },
  {
   "cell_type": "code",
   "execution_count": 13,
   "metadata": {},
   "outputs": [],
   "source": [
    "\n",
    "# subsample_small_df = filtered_df.sample(n=10, random_state=42)\n",
    "# subsample_small_df.to_json(f\"{absolute_dir}/subset_small_val.json\", orient=\"records\", lines=True)"
   ]
  },
  {
   "cell_type": "code",
   "execution_count": 6,
   "metadata": {},
   "outputs": [
    {
     "ename": "ModuleNotFoundError",
     "evalue": "No module named 'jsonlines'",
     "output_type": "error",
     "traceback": [
      "\u001b[0;31m---------------------------------------------------------------------------\u001b[0m",
      "\u001b[0;31mModuleNotFoundError\u001b[0m                       Traceback (most recent call last)",
      "Cell \u001b[0;32mIn[6], line 4\u001b[0m\n\u001b[1;32m      2\u001b[0m \u001b[39mimport\u001b[39;00m \u001b[39msys\u001b[39;00m\n\u001b[1;32m      3\u001b[0m sys\u001b[39m.\u001b[39mpath\u001b[39m.\u001b[39mappend(\u001b[39m\"\u001b[39m\u001b[39m../\u001b[39m\u001b[39m\"\u001b[39m)\n\u001b[0;32m----> 4\u001b[0m \u001b[39mfrom\u001b[39;00m \u001b[39mutils\u001b[39;00m\u001b[39m.\u001b[39;00m\u001b[39mpaddle_dataset\u001b[39;00m \u001b[39mimport\u001b[39;00m PaddleOCRDataset, ResizeNormalize\n\u001b[1;32m      6\u001b[0m \u001b[39mfrom\u001b[39;00m \u001b[39mtorch\u001b[39;00m\u001b[39m.\u001b[39;00m\u001b[39mutils\u001b[39;00m\u001b[39m.\u001b[39;00m\u001b[39mdata\u001b[39;00m \u001b[39mimport\u001b[39;00m DataLoader\n\u001b[1;32m      7\u001b[0m transform \u001b[39m=\u001b[39m ResizeNormalize(size\u001b[39m=\u001b[39m(\u001b[39m256\u001b[39m, \u001b[39m256\u001b[39m))\n",
      "File \u001b[0;32m~/Documents/GIT_REPOS/UNI/neural_networks_seminar/custom_ocr_transformer/../utils/paddle_dataset.py:3\u001b[0m\n\u001b[1;32m      1\u001b[0m \u001b[39mfrom\u001b[39;00m \u001b[39mtorch\u001b[39;00m\u001b[39m.\u001b[39;00m\u001b[39mutils\u001b[39;00m\u001b[39m.\u001b[39;00m\u001b[39mdata\u001b[39;00m \u001b[39mimport\u001b[39;00m Dataset, DataLoader\n\u001b[1;32m      2\u001b[0m \u001b[39mimport\u001b[39;00m \u001b[39mos\u001b[39;00m\n\u001b[0;32m----> 3\u001b[0m \u001b[39mimport\u001b[39;00m \u001b[39mjsonlines\u001b[39;00m\n\u001b[1;32m      4\u001b[0m \u001b[39mimport\u001b[39;00m \u001b[39mcv2\u001b[39;00m\n\u001b[1;32m      5\u001b[0m \u001b[39mfrom\u001b[39;00m \u001b[39mPIL\u001b[39;00m \u001b[39mimport\u001b[39;00m Image\n",
      "\u001b[0;31mModuleNotFoundError\u001b[0m: No module named 'jsonlines'"
     ]
    }
   ],
   "source": [
    "# Im port utils form ../utils/paddpe_dataset.py\n",
    "import sys\n",
    "sys.path.append(\"../\")\n",
    "from utils.paddle_dataset import PaddleOCRDataset, ResizeNormalize\n",
    "\n",
    "from torch.utils.data import DataLoader\n",
    "transform = ResizeNormalize(size=(256, 256))\n",
    "label_file_small = f\"{absolute_dir}/subset_small.json\"\n",
    "train_dataset = PaddleOCRDataset(image_dir=image_dir, label_file=label_file_small, transform=transform)\n",
    "train_loader = DataLoader(train_dataset, batch_size=1, shuffle=True)\n"
   ]
  },
  {
   "cell_type": "code",
   "execution_count": 15,
   "metadata": {},
   "outputs": [
    {
     "name": "stdout",
     "output_type": "stream",
     "text": [
      "Ground truth labels loaded:  10 ['  S p e c i e s     A n a j a ́ s     P o r t e l     S S B V                 W i l d     R u r a l     U r b a n     W i l d     R u r a l     U r b a n     W i l d     R u r a l     U r b a n     T o t a l     ( % )   <i> E v a n d r o m y i a   w a l k e r i </i> 4 4 4 0 1 1 5 6 2 9 6 1 5 1 1 2 5 9 2 6 8 . 8 4 <i> E v a n d r o m y i a   i n f r a s p i n o s a </i> 4 4 0 3 8 2 1 0 0 0 0 1 3 0 1 5 . 1 2 <i> N y s s o m y i a   a n t u n e s i <sup> a </sup> </i> 1 1 3 3 2 0 3 0 1 0 0 4 1 4 . 7 7 <i> M i c r o p y g o m y i a   r o r o t a e n s i s </i> 2 0 1 0 4 0 0 2 0 0 2 7 3 . 1 4 <i> S c i o p e m y i a   s o r d e l l i i </i> 7 1 0 1 3 2 0 2 0 0 2 5 2 . 9 1 <i> B i c h r o m o m y i a   f l a v i s c u t e l l a t a <sup> a </sup> </i> 0 0 0 4 0 0 1 6 0 0 2 0 2 . 3 2 <i> N y s s o m y i a   y u i l l i   y u i l l i </i> 4 0 0 0 0 0 0 0 0 4 0 . 4 6 <i> P s a t h y r o m y i a   a r a g a o i </i> 2 0 0 2 0 0 0 0 0 4 0 . 4 6 <i> P s a t h y r o m y i a   d e n d r o p h i l a </i> 4 0 0 0 0 0 0 0 0 4 0 . 4 6 <i> B r u m p t o m y i a </i>   s p . 1 0 0 1 0 0 0 0 0 2 0 . 2 3 <i> M i c r o p y g o m y i a   p i l o s a </i> 2 0 0 0 0 0 0 0 0 2 0 . 2 3 <i> P i n t o m y i a   n e v e s i </i> 0 0 0 2 0 0 0 0 0 2 0 . 2 3 <i> T h r i c o p y g o m y i a   t r i c h o p y g a </i> 0 0 0 2 0 0 0 0 0 2 0 . 2 3 <i> E v a n d r o m y i a   b a c u l a </i> 0 0 0 1 0 0 0 0 0 1 0 . 1 2 <i> E v a n d r o m y i a   f u r c a t a </i> 0 0 0 0 0 0 0 1 0 1 0 . 1 2 <i> E v a n d r o m y i a   m o n s t r u o s a </i> 0 0 0 1 0 0 0 0 0 1 0 . 1 2 <i> P s a t h y r o m y i a </i>   ( s e r i e s   <i> s h a n n o n i </i> )   s p . 0 0 0 0 0 0 1 0 0 1 0 . 1 2 <i> T r i c h o p h o r o m y i a </i>   s p .   n . 0 1 0 0 0 0 0 0 0 1 0 . 1 2 S u b t o t a l 1 3 9 4 6 7 2 8 8 3 0 2 1 7 3 2 2     T o t a l 1 9 2 5 9 1 7 7 8 6 0 1 0 0', '  M e t h o d     F u l l   S a m p l e   ( N   =   1 , 9 3 6 )     V o u c h e r   A r e a s   ( N   =   9 6 1 )     N o n - V o u c h e r   A r e a s   ( N   =   9 7 5 )     <i> P </i>   V a l u e   N o n e 7 1 . 8 7 3 . 7 7 0 . 0 . 0 7 T r a d i t i o n a l 4 . 4 3 . 9 4 . 8 . 3 5 M o d e r n 2 3 . 8 2 2 . 4 2 5 . 2 . 1 4   S h o r t - a c t i n g   m e t h o d s 2 1 . 3 2 0 . 6 2 2 . 1 . 4 4 P i l l / e m e r g e n c y   p i l l 1 1 . 7 1 0 . 6 1 2 . 8 . 1 3 M a l e / f e m a l e   c o n d o m s 1 . 0 0 . 7 1 . 2 . 2 6 I n j e c t a b l e s 8 . 6 9 . 3 8 . 1 . 3 2   L A R C s 1 . 7 1 . 4 1 . 9 . 3 0 I U D 1 . 1 0 . 4 1 . 6 . 0 0 8 I m p l a n t s 0 . 6 1 . 0 0 . 3 . 0 8   P e r m a n e n t   m e t h o d s 0 . 8 0 . 4 1 . 2 . 0 5', '  S t r a i n     S T   t y p e     P F G E   t y p e     G 4 7     G 3 7     G 1 1     G 6     G 5 7     G 1 8     G 5 1     G 3 2     G 2 0     G 4 3     G 3     G 2 1     G 3 3     G 2 3     G 4 6     G 6 3     G 8   A B 0 0 5 7 1 n d 1 0 0 0 0 0 0 0 0 0 0 0 0 0 0 0 0 A Y E 1 n d 1 0 0 0 0 0 0 0 0 0 0 0 0 0 0 0 0 7 0 0 1 A 1 0 0 0 0 0 1 0 0 1 1 1 0 0 0 1 0 3 8 9 1 1 B 1 0 0 0 0 0 1 0 0 1 1 1 0 0 0 1 1 3 8 8 7 1 C 1 0 0 0 0 0 1 0 0 1 1 1 1 0 1 1 0 2 9 7 9 2 0 D 1 0 0 0 0 0 1 0 0 1 1 0 0 0 0 1 0 3 1 3 0 2 0 E 1 0 0 0 0 0 1 0 0 0 0 0 0 0 0 0 0 A C I C U 2 n d 0 1 1 1 0 0 0 1 0 0 0 0 0 0 0 0 0 2 1 0 5 2 F 0 1 1 1 0 0 1 1 0 1 0 0 0 0 0 1 1 2 6 3 8 2 F 0 1 1 1 0 0 1 1 0 1 0 0 0 0 0 1 1 3 8 9 2 2 F 0 1 1 1 0 0 0 1 0 0 0 0 0 0 0 0 0 3 9 9 0 2 F 0 1 1 1 0 0 0 1 0 0 0 0 0 0 0 0 0 2 7 3 5 2 F 1 0 1 1 1 0 0 0 1 0 0 0 0 0 0 0 0 0 3 8 5 8 2 F 2 0 1 1 1 0 0 0 1 0 0 0 0 0 0 0 0 0 3 8 8 9 2 G 0 1 1 1 0 0 0 1 0 0 0 0 1 0 0 0 0 4 0 2 6 2 H 0 1 1 1 1 0 0 1 0 1 0 1 0 0 0 0 1 4 0 3 0 2 I 0 1 1 1 0 0 0 1 1 0 0 0 0 0 0 0 0 4 0 0 9 2 J 0 1 1 1 0 0 0 1 0 0 0 0 0 0 0 0 0 4 0 2 5 3 K 1 1 1 1 0 0 1 1 0 1 0 0 0 0 0 1 1 3 8 9 0 2 5 L 0 0 0 0 0 0 1 1 1 1 1 1 1 1 1 0 0 3 8 6 5 2 5 M 0 0 0 0 1 0 1 1 1 1 1 1 1 1 1 1 1 4 1 9 0 2 5 N 0 0 0 0 0 1 1 1 1 1 1 1 1 1 1 1 1 A T C C 1 7 9 7 8 7 7 n d 0 0 0 1 1 1 1 1 0 0 0 0 0 0 0 0 0 3 9 0 9 7 8 O 0 0 0 0 0 0 0 1 1 0 0 0 0 0 0 0 0 3 9 1 1 7 8 O 1 0 0 0 0 0 0 0 1 1 0 0 0 0 0 0 0 0 3 8 6 8 1 5 P 0 1 0 0 1 0 1 1 1 1 1 1 0 0 0 0 1 3 8 7 1 8 4 P 1 0 1 0 0 0 0 1 1 0 1 1 1 0 0 0 0 1', '   P a t h o l o g i c   c o m p l e t e   r e s p o n s e   r a t e     T h e   d u r a t i o n   o f   t h e   p a t i e n t s     B l i n d   C o e f f i c i e n t −   0 . 3 1 4 −   0 . 3 6 5 0 . 2 4 3 S t a n d a r d   e r r o r 0 . 7 1 5 3 0 . 7 7 1 5 0 . 7 3 4 9 <i> P </i>   v a l u e 0 . 6 6 7 3 0 . 6 4 2 7 0 . 7 4 5 7 R D O R 0 . 7 3 0 . 6 9 1 . 2 7 [ 9 5 %   C I ] ( 0 . 1 6   t o   3 . 3 6 ) ( 0 . 1 3   t o   3 . 5 9 ) ( 0 . 2 7   t o   6 . 1 1 )', '  F o o d s     O l d w a y ’ s   P r e s e r v a t i o n   a n d   T r u s t   ( 2 0 0 9 )   [ 2 1 ]     M e d i t e r r a n e a n   D i e t   F o u n d a t i o n   ( 2 0 1 1 )   [ 5 ]     1 9 9 9   G r e e k   D i e t a r y   G u i d e l i n e s   ( 1 9 9 9 )   [ 2 2 ]   <sup> 1 </sup>   O l i v e   o i l E v e r y   m e a l E v e r y   m e a l M a i n   a d d e d   l i p i d V e g e t a b l e s E v e r y   m e a l ≥ 2   s e r v e s   e v e r y   m e a l 6   s e r v e s   d a i l y F r u i t s E v e r y   m e a l 1 – 2   s e r v e s   e v e r y   m e a l 3   s e r v e s   d a i l y B r e a d s   a n d   c e r e a l s E v e r y   m e a l 1 – 2   s e r v e s   e v e r y   m e a l 8   s e r v e s   d a i l y L e g u m e s E v e r y   m e a l ≥ 2   s e r v e s   w e e k l y 3 – 4   s e r v e s   w e e k l y N u t s E v e r y   m e a l 1 – 2   s e r v e s   d a i l y 3 – 4   s e r v e s   w e e k l y F i s h / S e a f o o d O f t e n ,   a t   l e a s t   t w o   t i m e s   p e r   w e e k ≥ 2   s e r v e s   w e e k l y 5 – 6   s e r v i n g s   w e e k l y E g g s M o d e r a t e   p o r t i o n s ,   d a i l y   t o   w e e k l y 2 – 4   s e r v e s   w e e k l y 3   s e r v i n g s   w e e k l y P o u l t r y M o d e r a t e   p o r t i o n s ,   d a i l y   t o   w e e k l y 2   s e r v e s   w e e k l y 4   s e r v i n g s   w e e k l y D a i r y   f o o d s M o d e r a t e   p o r t i o n s ,   d a i l y   t o   w e e k l y 2   s e r v e s   d a i l y 2   s e r v e s   d a i l y R e d   m e a t L e s s   o f t e n < 2   s e r v e s / w e e k 4   s e r v i n g s   m o n t h l y S w e e t s L e s s   o f t e n < 2   s e r v e s / w e e k 3   s e r v i n g s   w e e k l y R e d   w i n e I n   m o d e r a t i o n I n   m o d e r a t i o n   a n d   r e s p e c t i n g   s o c i a l   b e l i e f s D a i l y   i n   m o d e r a t i o n', '  C o u n t r y     N u m b e r   o f   p a s s e n g e r s <sup> a </sup>     A r r i v a l   d a t e s     I l l n e s s   o n s e t   d a t e     A d d i t i o n a l   r e f e r e n c e <sup> b </sup>   U n i t e d   S t a t e s 2 , 4 7 4 , 8 9 7 - M a r c h   2 8 - C a n a d a 1 0 1 , 3 1 3 A p r i l   8 A p r i l   1 1 - E l   S a l v a d o r 1 5 , 0 9 0 A p r i l   1 9 - - C o l o m b i a 2 4 , 5 3 5 - A p r i l   1 4 [ 2 6 ] U n i t e d   K i n g d o m 2 0 , 5 1 3 A p r i l   2 1 A p r i l   2 4 - S p a i n 6 5 , 7 2 4 A p r i l   2 2 A p r i l   2 5 - F r a n c e 6 1 , 9 6 0 - A p r i l   2 3 [ 1 8 ] C o s t a   R i c a 1 6 , 9 5 0 A p r i l   2 5 A p r i l   2 5 - A r g e n t i n a 2 4 , 6 0 9 A p r i l   2 5 A p r i l   2 7 [ 2 7 ] C u b a 4 2 , 8 0 2 A p r i l   2 5 - - T h e   N e t h e r l a n d s 2 7 , 6 4 0 A p r i l   2 7 - - G e r m a n y 3 5 , 7 7 2 - A p r i l   2 8 - H o n g   K o n g 3 5 , 7 0 6 A p r i l   3 0 A p r i l   3 0 [ 3 0 ] I t a l y 1 2 , 0 6 0 A p r i l   2 9 M a y   3 [ 3 1 ] G u a t e m a l a 3 9 , 4 6 0 - M a y   1 -', '  S .   n u m b e r     C o g g i n g   t o r q u e   r e d u c t i o n   m e t h o d     C o g g i n g   t o r q u e   r e d u c t i o n   ( % )     I n d u c e d   e m f   r e d u c t i o n   ( % )   1 C h a n g i n g   s l o t   o p e n i n g   w i d t h 5 1 . 1 0 1 . 4 8 2 C h a n g i n g   m a g n e t   p o l e   a r c   w i d t h 3 3 . 9 9 2 . 3 6 3 S h i f t i n g   o f   s l o t   o p e n i n g s 6 4 . 3 0 1 . 0 8 4 C o m b i n e d   e f f e c t   8 9 . 3 3 2 . 8 8', '   H o l m i c h   e t   a l .   [ 2 3 ]     M c C a r t h y   &   V i c e n z i n o   [ 2 4 ]     R o d r i g u e z   e t   a l .   [ 1 4 ]     W o l l i n   &   L o v e l l   [ 2 5 ]     V e r r a l l   e t   a l .   [ 1 5 ]     A i m   <i> T o   c o m p a r e   a n   a c t i v e   t r a i n i n g   p r o g r a m   w i t h   a   c o n v e n t i o n a l   p h y s i o t h e r a p y   p r o g r a m   i n   t h e   t r e a t m e n t   o f   s e v e r e   &   i n c a p a c i t a t i n g   a d d u c t o r - r e l a t e d   g r o i n   p a i n   i n   a t h l e t e s </i> <i> T o   d e s c r i b e   a n   a l t e r n a t e   a p p r o a c h   t o   a s s e s s m e n t   &   t r e a t m e n t   o f   o s t e i t i s   p u b i s </i> <i> T o   d e s c r i b e   t h e   p a t h o m e c h a n i c s ,   d i a g n o s t i c   p r o c e d u r e s ,   c l a s s i f i c a t i o n   &   c o n s e r v a t i v e   m a n a g e m e n t   o f   o s t e i t i s   p u b i s   s y n d r o m e   i n   e l i t e   s o c c e r   p l a y e r s </i> <i> T o   r e p o r t   o n   s u c c e s s f u l   r e h a b i l i t a t i o n   o u t c o m e s   a n d   t w o   n e w   p o s s i b l e   c l i n i c a l   i n d i c a t o r s   f o r   r e t u r n   t o   f o o t b a l l   p o s t   o s t e i t i s   p u b i s </i> <i> T o   d e t e r m i n e   t h e   o u t c o m e   o f   t r e a t i n g   c h r o n i c   g r o i n   i n j u r y   u s i n g   a   c o n s e r v a t i v e   ( n o n s u r g i c a l )   t r e a t m e n t   p r o g r a m </i>   S t u d y   D e s i g n   R a n d o m i s e d   C l i n i c a l   T r i a l C a s e   R e p o r t C a s e   R e p o r t C a s e   S e r i e s C a s e   S e r i e s   S a m p l e   S i z e   6 8 1 3 5   ( o v e r   8   y e a r   p e r i o d ) 4 2 7   L o c a t i o n   o f   S t u d y   D e n m a r k A u s t r a l i a M e x i c o A u s t r a l i a A u s t r a l i a   S p o r t s   I d e n t i f i e d   S o c c e r   &   o t h e r * G a e l i c   f o o t b a l l S o c c e r S o c c e r A u s t r a l i a n   r u l e s   F o o t b a l l', '  D o m a i n     F r e q u e n c y ( n ,   % )   N   =   1 1 2     E x a m p l e   S i t u a t i o n a l   a w a r e n e s s 5 8 ( 5 1 . 8 ) “ P a t i e n t   r e t u r n e d   f r o m   t h e a t r e   a f t e r   N O F   r e p a i r   a t   1 2 . 4 5 .   V i t a l   s i g n s   a t   1 4 . 1 5   s h o w   h y p o t e n s i o n   ( s e a g u l l   s i g n ) .   N o   f u r t h e r   o b s e r v a t i o n s   r e c o r d e d .   A t   1 4 . 3 0 ,   n u r s i n g   n o t e s   s t a t e   t h e   p a t i e n t   h a s   n o t   p a s s e d   u r i n e .   E x a m i n a t i o n   o f   t h e   f l u i d   b a l a n c e   c h a r t   s u g g e s t s   t h e   p a t i e n t   h a s   n o t   p a s s e d   u r i n e   a t   a l l   t h a t   d a y .   D i d   h e   i n   t h e a t r e ?   N o t   a c c o r d i n g   t o   t h e   a n a e s t h e t i c   c h a r t .   F l u i d   p r e s c r i p t i o n   c h a r t   s h o w s   5   b a g s   o f   f l u i d   g i v e n   n o t   r e f l e c t e d   o n   f l u i d   b a l a n c e   c h a r t [ s i c ] ” C o m m u n i c a t i o n   a n d   t e a m w o r k 2 3 ( 2 0 . 5 ) “ P a t i e n t s   c o n d i t i o n s   d e t e r i o r a t e d   a t   1 7 0 0   D r   P   [ s t a f f n a m e ]   i n f o r m e d .   H e   a t t e n d e d   t o   p a t i e n t   a n d   t r i e d   t o   c o n t a c t   t h e   o r t h o p a e d i c s   t e a m   w h i c h   h e   t r i e d   f o r   f o u r   h o u r s   t h e n   t o   f i n d   h e   w a s   n o t   o n   c a l l   a n d   w a s   o n   h o l i d a y   a b r o a d .   P a t i e n t ’ s   c o n d i t i o n   d e t e r i o r a t e d   f u r t h e r .   A n   a n a e s t h e t i s t   w a s   c o n t a c t   a n d   s a w   p a t i e n t . ” L e a d e r s h i p 1 8 ( 1 6 . 1 ) “ P a t i e n t   a d m i t t e d   w i t h   t r a u m a   t o   h i s   r i g h t   l o w e r   l e g   w a s   a d m i n i s t e r e d   a n t i - h y p e r t e n s i v e s   a n d   o t h e r   m e d i c a t i o n   p r e s c r i b e d   f o r   a n o t h e r   p a t i e n t .   T h e   p a t i e n t ’ s   c o n d i t i o n   d e t e r i o r a t e d   6   h o u r s   l a t e r   r e q u i r i n g   t r a n s f e r   t o   c r i t i c a l   c a r e   w h e r e   h e   s u b s e q u e n t l y   d i e d   a p p r o x i m a t e l y   3 8   h o u r s   f o l l o w i n g   t h e   m e d i c a t i o n   e r r o r .   N o   l e a d e r s h i p   o n   o r t h o p a e d i c s   w a r d   [ s i c ] ” D e c i s i o n - m a k i n g 1 3 ( 1 1 . 6 ) “ a d m i t t e d   f o r   N O F   r e p a i r ,   u n w e l l   f r o m   A &   E ,   s h o u l d   h a v e   h a d   3   l i t r e s   o f   f l u i d   a n d   2   u n i t s   o f   b l o o d   o v e r n i g h t   w i t h   r e p e a t e d   A B G s   a t   4   p m .   O v e r n i g h t   a p p a r e n t l y   u n r e c o r d a b l e   B P   b u t   n o   m e d i c a l   o p i n i o n   w a s   s o u g h t .   7   a m   A B G s   d o n e   b y   H O .   C o n d i t i o n   w o r s e n i n g - a t t e n t i o n   t h e n   b r o u g h t   f o r   l o w   B P .   S P R   u n s u r e   [ a b o u t ]   c o m i n g   t o   w a r d . . . b e c a u s e   o f   s e v e r i t y   o f   i l l n e s s   a n d   s t a f f i n g   l e v e l s .   S P R   c a l l e d   a n d   c e n t r a l   l i n e   i n s e r t e d   a n d   I V   f l u i d s   g i v e n .   P a t i e n t   d i e d   a t   1 3 . 0 0   h r s   R I P   [ s i c ] ”', '   n .   p t s .     %   <i> P a t i e n t s </i>   M i d d l e   a g e   ( r a n g e ) 6 8 . 3   y e a r s   ( 3 6 - 8 3 ) M a l e   ( m e a n   a g e ) 2 1   ( 7 3   y e a r s ) F e m a l e   ( m e a n   a g e ) 1 9   ( 6 5 . 9 ) P r e s e n c e   o f   r i s k   f a c t o r s     B i l i a r y   l i t h i a s i s 7 1 7 . 5   O t h e r   t u m o u r s 5 1 2 . 5 S y m p t o m a t i c   a t   d i a g n o s i s 2 9 7 2 . 5   A c u t e   P a n c r e a t i t i s 1 8 4 5 . 0   A b d o m i n a l   p a i n 4 1 0 . 0   D i a b e t e s 1 2 . 5   D i a r r h e a 1 2 . 5   J a u n d i c e 1 2 . 5   A n o r e x i a 1 2 . 5 T u m o r   m a r k e r s     R a i s e d   C a   1 9 . 9 3 7 . 5   R a i s e d   C E A 0 ']\n",
      "Character alphabet file created at: /Users/leonremke/Documents/GIT_REPOS/UNI/neural_networks_seminar/pubtabnet/character_alphabet.txt\n"
     ]
    }
   ],
   "source": [
    "def create_alphabet_file(alphabet, file_path):\n",
    "    with open(file_path, 'w') as f:\n",
    "        f.write(\"START\\n\")\n",
    "        for char in alphabet:\n",
    "            f.write(char + \"\\n\")\n",
    "        f.write(\"END\\n\")\n",
    "\n",
    "# Replace these with your actual ground truth labels\n",
    "gt_labels = train_loader.dataset.labels\n",
    "alph_labels = []\n",
    "for label in gt_labels:\n",
    "    label_tokens = [cell[\"tokens\"] for cell in label[\"html\"][\"cells\"]]\n",
    "    label = \" \".join(\" \".join(tokens) for tokens in label_tokens)\n",
    "    label = label.replace(\"<b>\", \" \").replace(\"</b>\", \" \")\n",
    "    alph_labels.append(label)\n",
    "print(\"Ground truth labels loaded: \", len(alph_labels), alph_labels)\n",
    "\n",
    "unique_chars = set()\n",
    "unique_radicals = set()\n",
    "\n",
    "# Loop through ground truth labels to extract unique characters and radicals\n",
    "for label in alph_labels:\n",
    "    for char in label:\n",
    "        unique_chars.add(char)\n",
    "        # You might need to extract radicals from each character here if using decomposition\n",
    "\n",
    "# Define the file paths for character and radical alphabets\n",
    "char_alphabet_file_path = f\"{absolute_dir}/character_alphabet.txt\"\n",
    "radical_alphabet_file_path = f\"{absolute_dir}/radical_alphabet.txt\"\n",
    "\n",
    "# Create character alphabet file\n",
    "create_alphabet_file(unique_chars, char_alphabet_file_path)\n",
    "print(f\"Character alphabet file created at: {char_alphabet_file_path}\")\n",
    "\n",
    "# Create radical alphabet file (if needed)\n",
    "# create_alphabet_file(unique_radicals, radical_alphabet_file_path)\n",
    "# print(f\"Radical alphabet file created at: {radical_alphabet_file_path}\")"
   ]
  },
  {
   "cell_type": "code",
   "execution_count": 16,
   "metadata": {},
   "outputs": [
    {
     "name": "stdout",
     "output_type": "stream",
     "text": [
      "/Users/leonremke/Documents/GIT_REPOS/UNI/neural_networks_seminar/pubtabnet/character_alphabet.txt\n"
     ]
    }
   ],
   "source": [
    "# Set configuration for training:\n",
    "import torch\n",
    "import torch.nn as nn\n",
    "import torch.optim as optim\n",
    "from transocr import Transformer\n",
    "from collections import namedtuple\n",
    "from utils import converter\n",
    "# Define the named tuple\n",
    "Args = namedtuple('Args', [\n",
    "    'description',\n",
    "    'exp_name',\n",
    "    'batch_size',\n",
    "    'lr',\n",
    "    'epoch',\n",
    "    'radical',\n",
    "    'test',\n",
    "    'resume',\n",
    "    'train_dataset',\n",
    "    'test_dataset',\n",
    "    'imageH',\n",
    "    'imageW',\n",
    "    'coeff',\n",
    "    'alpha_path',\n",
    "    'alpha_path_radical',\n",
    "    'decompose_path'\n",
    "])\n",
    "\n",
    "# Create an instance of the Args named tuple\n",
    "args = Args(\n",
    "    description='',\n",
    "    exp_name='test',\n",
    "    batch_size=2,\n",
    "    lr=1.0,\n",
    "    epoch=10,\n",
    "    radical=False,\n",
    "    test=False,\n",
    "    resume='',\n",
    "    train_dataset='',\n",
    "    test_dataset='',\n",
    "    imageH=256,\n",
    "    imageW=256,\n",
    "    coeff=1.0,\n",
    "    alpha_path=char_alphabet_file_path,\n",
    "    alpha_path_radical=radical_alphabet_file_path,\n",
    "    decompose_path='../pubtabnet/decompose.txt'\n",
    ")\n",
    "print(args.alpha_path)"
   ]
  },
  {
   "cell_type": "code",
   "execution_count": 17,
   "metadata": {},
   "outputs": [
    {
     "name": "stdout",
     "output_type": "stream",
     "text": [
      "Args(description='', exp_name='test', batch_size=2, lr=1.0, epoch=10, radical=False, test=False, resume='', train_dataset='', test_dataset='', imageH=256, imageW=256, coeff=1.0, alpha_path='/Users/leonremke/Documents/GIT_REPOS/UNI/neural_networks_seminar/pubtabnet/character_alphabet.txt', alpha_path_radical='/Users/leonremke/Documents/GIT_REPOS/UNI/neural_networks_seminar/pubtabnet/radical_alphabet.txt', decompose_path='../pubtabnet/decompose.txt')\n",
      "-------------\n",
      "epoch : 0 | iter : 0/10 | loss : 5.462986469268799\n",
      "epoch : 0 | iter : 1/10 | loss : 5.475674152374268\n",
      "epoch : 0 | iter : 2/10 | loss : 10.128084182739258\n",
      "epoch : 0 | iter : 3/10 | loss : 5.434861660003662\n",
      "epoch : 0 | iter : 4/10 | loss : 4.631538391113281\n",
      "epoch : 0 | iter : 5/10 | loss : 3.5765833854675293\n",
      "epoch : 0 | iter : 6/10 | loss : 4.87069034576416\n",
      "epoch : 0 | iter : 7/10 | loss : 4.340943813323975\n",
      "epoch : 0 | iter : 8/10 | loss : 2.853208303451538\n",
      "epoch : 0 | iter : 9/10 | loss : 2.9000773429870605\n",
      "epoch : 1 | iter : 0/10 | loss : 3.8585071563720703\n",
      "epoch : 1 | iter : 1/10 | loss : 3.1507272720336914\n",
      "epoch : 1 | iter : 2/10 | loss : 3.5404727458953857\n",
      "epoch : 1 | iter : 3/10 | loss : 2.66459059715271\n",
      "epoch : 1 | iter : 4/10 | loss : 3.077650547027588\n",
      "epoch : 1 | iter : 5/10 | loss : 2.475512981414795\n",
      "epoch : 1 | iter : 6/10 | loss : 2.8449790477752686\n",
      "epoch : 1 | iter : 7/10 | loss : 2.1106271743774414\n",
      "epoch : 1 | iter : 8/10 | loss : 4.4169206619262695\n",
      "epoch : 1 | iter : 9/10 | loss : 2.6971824169158936\n",
      "epoch : 2 | iter : 0/10 | loss : 2.9187374114990234\n",
      "epoch : 2 | iter : 1/10 | loss : 2.6535720825195312\n",
      "epoch : 2 | iter : 2/10 | loss : 2.4051334857940674\n",
      "epoch : 2 | iter : 3/10 | loss : 2.385883331298828\n",
      "epoch : 2 | iter : 4/10 | loss : 2.858222723007202\n",
      "epoch : 2 | iter : 5/10 | loss : 2.1736576557159424\n",
      "epoch : 2 | iter : 6/10 | loss : 2.3562216758728027\n",
      "epoch : 2 | iter : 7/10 | loss : 2.275986909866333\n",
      "epoch : 2 | iter : 8/10 | loss : 2.116779088973999\n",
      "epoch : 2 | iter : 9/10 | loss : 2.1125845909118652\n",
      "epoch : 3 | iter : 0/10 | loss : 2.389521598815918\n",
      "epoch : 3 | iter : 1/10 | loss : 2.1795454025268555\n",
      "epoch : 3 | iter : 2/10 | loss : 2.020493984222412\n",
      "epoch : 3 | iter : 3/10 | loss : 2.514425277709961\n",
      "epoch : 3 | iter : 4/10 | loss : 2.164093494415283\n",
      "epoch : 3 | iter : 5/10 | loss : 1.9745662212371826\n",
      "epoch : 3 | iter : 6/10 | loss : 1.9692151546478271\n",
      "epoch : 3 | iter : 7/10 | loss : 2.2906744480133057\n",
      "epoch : 3 | iter : 8/10 | loss : 2.210695743560791\n",
      "epoch : 3 | iter : 9/10 | loss : 2.1312527656555176\n",
      "epoch : 4 | iter : 0/10 | loss : 2.0626156330108643\n",
      "epoch : 4 | iter : 1/10 | loss : 2.538221836090088\n",
      "epoch : 4 | iter : 2/10 | loss : 2.2202718257904053\n",
      "epoch : 4 | iter : 3/10 | loss : 2.077662944793701\n",
      "epoch : 4 | iter : 4/10 | loss : 2.223568916320801\n",
      "epoch : 4 | iter : 5/10 | loss : 2.123004198074341\n",
      "epoch : 4 | iter : 6/10 | loss : 2.1793813705444336\n",
      "epoch : 4 | iter : 7/10 | loss : 2.248743772506714\n",
      "epoch : 4 | iter : 8/10 | loss : 2.2941982746124268\n",
      "epoch : 4 | iter : 9/10 | loss : 2.0643410682678223\n",
      "epoch : 5 | iter : 0/10 | loss : 2.1097657680511475\n",
      "epoch : 5 | iter : 1/10 | loss : 1.9464088678359985\n",
      "epoch : 5 | iter : 2/10 | loss : 2.2815353870391846\n",
      "epoch : 5 | iter : 3/10 | loss : 2.1628329753875732\n",
      "epoch : 5 | iter : 4/10 | loss : 1.8749306201934814\n",
      "epoch : 5 | iter : 5/10 | loss : 2.4288992881774902\n",
      "epoch : 5 | iter : 6/10 | loss : 2.0246500968933105\n",
      "epoch : 5 | iter : 7/10 | loss : 2.0950851440429688\n",
      "epoch : 5 | iter : 8/10 | loss : 1.9727743864059448\n",
      "epoch : 5 | iter : 9/10 | loss : 2.1827030181884766\n",
      "epoch : 6 | iter : 0/10 | loss : 2.075162649154663\n",
      "epoch : 6 | iter : 1/10 | loss : 1.9758390188217163\n",
      "epoch : 6 | iter : 2/10 | loss : 1.9915305376052856\n",
      "epoch : 6 | iter : 3/10 | loss : 2.067406177520752\n",
      "epoch : 6 | iter : 4/10 | loss : 2.1251580715179443\n",
      "epoch : 6 | iter : 5/10 | loss : 2.186809539794922\n",
      "epoch : 6 | iter : 6/10 | loss : 1.98063325881958\n",
      "epoch : 6 | iter : 7/10 | loss : 1.7863974571228027\n",
      "epoch : 6 | iter : 8/10 | loss : 2.6150119304656982\n",
      "epoch : 6 | iter : 9/10 | loss : 2.195190668106079\n",
      "epoch : 7 | iter : 0/10 | loss : 2.1740286350250244\n",
      "epoch : 7 | iter : 1/10 | loss : 2.108720541000366\n",
      "epoch : 7 | iter : 2/10 | loss : 2.088646411895752\n",
      "epoch : 7 | iter : 3/10 | loss : 2.1401071548461914\n",
      "epoch : 7 | iter : 4/10 | loss : 2.085686683654785\n",
      "epoch : 7 | iter : 5/10 | loss : 2.0313258171081543\n",
      "epoch : 7 | iter : 6/10 | loss : 1.9829469919204712\n",
      "epoch : 7 | iter : 7/10 | loss : 1.941511869430542\n",
      "epoch : 7 | iter : 8/10 | loss : 2.248293876647949\n",
      "epoch : 7 | iter : 9/10 | loss : 2.1603004932403564\n",
      "epoch : 8 | iter : 0/10 | loss : 1.9302277565002441\n",
      "epoch : 8 | iter : 1/10 | loss : 2.095623731613159\n",
      "epoch : 8 | iter : 2/10 | loss : 1.6888446807861328\n",
      "epoch : 8 | iter : 3/10 | loss : 2.309216260910034\n",
      "epoch : 8 | iter : 4/10 | loss : 2.1272683143615723\n",
      "epoch : 8 | iter : 5/10 | loss : 2.074949026107788\n",
      "epoch : 8 | iter : 6/10 | loss : 2.132992744445801\n",
      "epoch : 8 | iter : 7/10 | loss : 1.9568594694137573\n",
      "epoch : 8 | iter : 8/10 | loss : 1.8044483661651611\n",
      "epoch : 8 | iter : 9/10 | loss : 1.9488686323165894\n",
      "epoch : 9 | iter : 0/10 | loss : 2.02998685836792\n",
      "epoch : 9 | iter : 1/10 | loss : 2.135946273803711\n",
      "epoch : 9 | iter : 2/10 | loss : 1.9831340312957764\n",
      "epoch : 9 | iter : 3/10 | loss : 1.9506040811538696\n",
      "epoch : 9 | iter : 4/10 | loss : 2.196880578994751\n",
      "epoch : 9 | iter : 5/10 | loss : 2.1187620162963867\n",
      "epoch : 9 | iter : 6/10 | loss : 1.9934033155441284\n",
      "epoch : 9 | iter : 7/10 | loss : 2.023315668106079\n",
      "epoch : 9 | iter : 8/10 | loss : 1.8975485563278198\n",
      "epoch : 9 | iter : 9/10 | loss : 1.819738507270813\n"
     ]
    }
   ],
   "source": [
    "model = Transformer(args)\n",
    "model = nn.DataParallel(model)\n",
    "optimizer = optim.Adadelta(model.parameters(), lr=args.lr, rho=0.9, weight_decay=1e-4)\n",
    "criterion = torch.nn.CrossEntropyLoss()\n",
    "best_acc = -1\n",
    "\n",
    "def train(epoch, iteration, image, length, text_input, text_gt, length_radical, radical_input, radical_gt):\n",
    "    model.train()\n",
    "    optimizer.zero_grad()\n",
    "    result = model(image, length, text_input, length_radical, radical_input)\n",
    "\n",
    "    text_pred = result['pred']\n",
    "    loss_char = criterion(text_pred, text_gt)\n",
    "    loss = loss_char\n",
    "    print('epoch : {} | iter : {}/{} | loss : {}'.format(epoch, iteration, len(train_loader), loss))\n",
    "    loss.backward()\n",
    "    optimizer.step()\n",
    "\n",
    "print('-------------')\n",
    "for epoch in range(args.epoch):\n",
    "    torch.save(model.state_dict(), './history/{}/model.pth'.format(args.exp_name))\n",
    "    dataloader = iter(train_loader)\n",
    "    train_loader_len = len(train_loader)\n",
    "    for iteration in range(train_loader_len):\n",
    "        data = next(dataloader)\n",
    "        image, label = data\n",
    "        image = torch.nn.functional.interpolate(image, size=(args.imageH, args.imageW))\n",
    "\n",
    "        length, text_input, text_gt, length_radical, radical_input, radical_gt, string_label = converter(label, args)\n",
    "        train(epoch, iteration, image, length, text_input, text_gt, length_radical, radical_input, radical_gt)"
   ]
  },
  {
   "cell_type": "code",
   "execution_count": 18,
   "metadata": {},
   "outputs": [],
   "source": [
    "import matplotlib.pyplot as plt\n",
    "def sample_prediction(image, length, text_input, text_gt):\n",
    "    result = model(image, length, text_input, length_radical, radical_input)\n",
    "    text_pred = result['pred']\n",
    "    loss_char = criterion(text_pred, text_gt)\n",
    "    loss = loss_char\n",
    "    print(\"Loss: \", loss)\n",
    "    # Plot image itself\n",
    "    plt.imshow(image[0].permute(1, 2, 0))\n",
    "    return loss, result['pred']"
   ]
  },
  {
   "cell_type": "code",
   "execution_count": 19,
   "metadata": {},
   "outputs": [
    {
     "name": "stdout",
     "output_type": "stream",
     "text": [
      "Image shape:  torch.Size([1, 3, 256, 256])\n"
     ]
    }
   ],
   "source": [
    "# label_file_small_val = f\"{absolute_dir}/subset_small_val.json\"\n",
    "# image_dir_val = f\"{absolute_dir}/val\"\n",
    "# train_dataset = PaddleOCRDataset(image_dir=image_dir_val, label_file=label_file_small_val, split_filter='val', transform=transform)\n",
    "# train_loader = DataLoader(train_dataset, batch_size=1, shuffle=True)\n",
    "\n",
    "data = next(iter(train_loader))\n",
    "image, label = data\n",
    "print(\"Image shape: \", image.shape)\n"
   ]
  },
  {
   "cell_type": "code",
   "execution_count": 20,
   "metadata": {},
   "outputs": [
    {
     "name": "stderr",
     "output_type": "stream",
     "text": [
      "Clipping input data to the valid range for imshow with RGB data ([0..1] for floats or [0..255] for integers).\n"
     ]
    },
    {
     "name": "stdout",
     "output_type": "stream",
     "text": [
      "Loss:  tensor(2.1849, grad_fn=<NllLossBackward0>)\n",
      "Prediction:  tensor([[-0.6051, -0.4534, -0.8806,  ...,  1.6233,  1.2554,  4.4804],\n",
      "        [-1.0746, -1.4004, -1.5989,  ...,  2.9154,  2.7370,  2.3238],\n",
      "        [-1.0888, -1.3812, -1.5840,  ...,  2.8695,  2.7206,  2.3321],\n",
      "        ...,\n",
      "        [-1.0860, -1.4060, -1.5733,  ...,  2.8913,  2.6994,  2.3341],\n",
      "        [-0.5148, -0.4314, -1.0834,  ...,  1.2655,  0.6298,  5.5281],\n",
      "        [-1.0970, -1.3887, -1.5629,  ...,  2.9201,  2.7206,  2.3349]],\n",
      "       grad_fn=<CopySlices>)\n",
      "Ground truth:  tensor([ 32,  32, 170,  32,  10,  32, 112,  32, 158,  32,  90,  32,  48,  32,\n",
      "         32,  32,  32,  32, 102,  32, 126,  32, 124,  32, 124,  32,  32,  32,\n",
      "         62,  32,  60,  32, 146,  32, 100,  32, 124,  32,  10,  32,  32,  32,\n",
      "        142,  32, 173,  32,  32,  32, 140,  32,  32,  32, 104,  32,  28,  32,\n",
      "         36,  32,  64,  32, 150,  32, 152,  32,  32,  32,  32,  32,  86,  32,\n",
      "         90,  32, 126,  32,  40,  32, 158,  32,  10,  32, 122,  32,  32,  32,\n",
      "         24,  32, 122,  32,  10,  32,  60,  32, 110,  32,  32,  32, 142,  32,\n",
      "        173,  32,  32,  32, 140,  32,  32,  32,  36,  32, 150,  32, 104,  32,\n",
      "        152,  32,  32,  32,  32,  32, 173,  32,  90,  32, 118,  32,  16,  32,\n",
      "         86,  32,  90,  32, 126,  32,  40,  32, 158,  32,  10,  32, 122,  32,\n",
      "         32,  32,  24,  32, 122,  32,  10,  32,  60,  32, 110,  32,  32,  32,\n",
      "        142,  32, 173,  32,  32,  32, 140,  32,  32,  32,  36,  32,  12,  32,\n",
      "         68,  32, 152,  32,  32,  32,  32,  32, 144,  26,  80,  32,  66,  32,\n",
      "        144,  20,  26,  80,  32,  32,  32,  86,  32,  60,  32, 124,  32, 126,\n",
      "         32,  10,  32,  32,  32, 173,  32,  90,  32, 118,  32,  10,  32,  12,\n",
      "         32, 104,  32, 148,  32,  98,  32,  12,  32,  64,  32, 148,  32,  12,\n",
      "         32,  12,  32,  78,  32, 148,  32,  78,  32, 148,  32,  78,  32,  12,\n",
      "         32, 160,  32, 122,  32,  60,  32,  48,  32,  26,  32, 112,  32,  26,\n",
      "         32,  90,  32, 118,  32,  60,  32, 124,  32,  88,  32, 148,  32,  88,\n",
      "         32,  64,  32, 148,  32,  36,  32,  88,  32, 148,  32,  98,  32, 148,\n",
      "         32,  64,  32,  68,  32, 170,  32,  90,  32,  48,  32,  10,  32, 122,\n",
      "         32, 118,  32, 164,  32,  64,  32, 148,  32,  98,  32, 164,  32, 164,\n",
      "         32, 148,  32,  88,  32, 164,  32,  68,  32, 148,  32, 164,  32, 148,\n",
      "         32, 104,  32,  88,  32,  32,  32,  62,  32, 158,  32,  90,  32, 122,\n",
      "         32, 112,  32,  16,  32,  60,  32,  40,  32, 112,  32,  26,  32, 118,\n",
      "         32, 116,  32,  32,  32, 146,  32,  10,  32, 112,  32, 158,  32,  90,\n",
      "         32,  48,  32, 110,  32, 164,  32, 104,  32, 148,  32,  64,  32, 164,\n",
      "         32,  78,  32, 148,  32, 150,  32, 164,  32, 164,  32, 148,  32, 104,\n",
      "         32, 148,  32,  88,  32,  88,  32,  66,  32,  26,  32, 124,  32, 124,\n",
      "         32,  20,  32,  10,  32, 146,  32,  10,  32, 122,  32, 116,  32,  10,\n",
      "         32, 118,  32,  40,  32, 162,  32,  32,  32, 100,  32,  26,  32, 124,\n",
      "         32, 124,  32, 104,  32, 104,  32, 148,  32,  12,  32, 104,  32,  78,\n",
      "         32, 148,  32, 150,  32, 104,  32, 164,  32, 148,  32,  98,  32, 148,\n",
      "         32, 104,  32,  64,  32, 170,  32,  60,  32, 124,  32,  10,  32,  20,\n",
      "         32, 136,  32,  10,  32, 146,  32,  60,  32, 124,  32,  10,  32,  32,\n",
      "         32,  40,  32,  90,  32, 118,  32,  48,  32,  90,  32, 146,  32, 110,\n",
      "         32, 104,  32, 148,  32,  78,  32,  78,  32, 148,  32,  12,  32, 104,\n",
      "         32, 148,  32, 164,  32, 148,  32, 164,  32, 150,  32, 130,  32, 118,\n",
      "         32,  76,  32,  10,  32,  40,  32, 112,  32,  60,  32,  84,  32, 124,\n",
      "         32,  10,  32, 110,  32,  98,  32, 148,  32, 150,  32,  36,  32, 148,\n",
      "         32,  64,  32,  98,  32, 148,  32, 104,  32, 148,  32,  64,  32, 164,\n",
      "         32,  32,  32,  44,  32,  24,  32,  18,  32, 128,  32, 110,  32, 104,\n",
      "         32, 148,  32,  12,  32, 104,  32, 148,  32,  88,  32, 104,  32, 148,\n",
      "         32,  36,  32, 148,  32,  64,  32,  78,  32, 130,  32, 166,  32, 174,\n",
      "         32, 104,  32, 148,  32, 104,  32,  78,  32, 148,  32,  88,  32, 104,\n",
      "         32, 148,  32, 150,  32, 148,  32,  78,  32,  78,  32,  98,  32, 130,\n",
      "         32, 146,  32, 100,  32, 124,  32,  60,  32, 118,  32, 112,  32, 110,\n",
      "         32,  78,  32, 148,  32, 150,  32, 104,  32, 148,  32,  78,  32,  78,\n",
      "         32, 148,  32,  64,  32, 148,  32,  78,  32,  98,  32,  32,  32,  66,\n",
      "         32,  10,  32, 122,  32, 146,  32,  60,  32, 118,  32,  10,  32, 118,\n",
      "         32, 112,  32,  32,  32, 146,  32,  10,  32, 112,  32, 158,  32,  90,\n",
      "         32,  48,  32, 110,  32,  78,  32, 148,  32,  98,  32,  78,  32, 148,\n",
      "         32,  88,  32, 104,  32, 148,  32, 164,  32, 148,  32,  78,  32, 175])\n"
     ]
    },
    {
     "data": {
      "image/png": "[encoded data removed]",
      "text/plain": [
       "<Figure size 432x288 with 1 Axes>"
      ]
     },
     "metadata": {
      "needs_background": "light"
     },
     "output_type": "display_data"
    }
   ],
   "source": [
    "\n",
    "length, text_input, text_gt, length_radical, radical_input, radical_gt, string_label = converter(label, args)\n",
    "loss, result_pred = sample_prediction(image, length, text_input, text_gt)\n",
    "print(\"Prediction: \", result_pred)\n",
    "print(\"Ground truth: \", text_gt)"
   ]
  },
  {
   "cell_type": "code",
   "execution_count": 22,
   "metadata": {},
   "outputs": [
    {
     "data": {
      "text/plain": [
       "'                                                                                                                                                                                 i     i                                                                                                                                                                                                                                                                                                                                                                                                                                                                                                                                                                              '"
      ]
     },
     "execution_count": 22,
     "metadata": {},
     "output_type": "execute_result"
    }
   ],
   "source": [
    "# Tensor prediction to text again\n",
    "from utils import get_alphabet\n",
    "import torch.nn.functional as F\n",
    "\n",
    "def tensor_to_text(tensor, alphabet):\n",
    "    text = \"\"\n",
    "    for char_index in tensor:\n",
    "        if char_index == 0:\n",
    "            break\n",
    "        text += alphabet[char_index]\n",
    "    return text\n",
    "\n",
    "# Load the character alphabet\n",
    "probabilities = F.softmax(result_pred, dim=-1)\n",
    "predicted_indices = torch.argmax(probabilities, dim=-1)\n",
    "alphabet = get_alphabet(args, 'char')\n",
    "tensor_to_text(predicted_indices, alphabet)"
   ]
  }
 ],
 "metadata": {
  "kernelspec": {
   "display_name": "s2s",
   "language": "python",
   "name": "python3"
  },
  "language_info": {
   "codemirror_mode": {
    "name": "ipython",
    "version": 3
   },
   "file_extension": ".py",
   "mimetype": "text/x-python",
   "name": "python",
   "nbconvert_exporter": "python",
   "pygments_lexer": "ipython3",
   "version": "3.9.13"
  },
  "orig_nbformat": 4
 },
 "nbformat": 4,
 "nbformat_minor": 2
}
