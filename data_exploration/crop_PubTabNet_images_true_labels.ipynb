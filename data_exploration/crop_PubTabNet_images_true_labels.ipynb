{
 "cells": [
  {
   "cell_type": "markdown",
   "metadata": {},
   "source": [
    "How to fix paddleocr installation error:\n",
    "- `brew install mupdf swig freetype`\n",
    "- `pip install https://github.com/pymupdf/PyMuPDF/archive/master.tar.gz`"
   ]
  },
  {
   "cell_type": "code",
   "execution_count": 15,
   "metadata": {},
   "outputs": [
    {
     "name": "stdout",
     "output_type": "stream",
     "text": [
      "The autoreload extension is already loaded. To reload it, use:\n",
      "  %reload_ext autoreload\n"
     ]
    }
   ],
   "source": [
    "%load_ext autoreload\n",
    "%autoreload 2"
   ]
  },
  {
   "cell_type": "code",
   "execution_count": 22,
   "metadata": {},
   "outputs": [
    {
     "name": "stdout",
     "output_type": "stream",
     "text": [
      "Project root dir: /Users/simon/Documents/neural_networks_ocr_project/neural_networks_seminar\n",
      "Absolute path: /Users/simon/Documents/neural_networks_ocr_project/neural_networks_seminar/data/PubTabNet\n",
      "/Users/simon/Documents/neural_networks_ocr_project/neural_networks_seminar/data/PubTabNet/test\n",
      "/Users/simon/Documents/neural_networks_ocr_project/neural_networks_seminar/data/PubTabNet/train\n",
      "/Users/simon/Documents/neural_networks_ocr_project/neural_networks_seminar/data/PubTabNet/val\n"
     ]
    }
   ],
   "source": [
    "# Setup path in .env file\n",
    "import os\n",
    "from dotenv import load_dotenv\n",
    "import numpy as np\n",
    "import cv2\n",
    "import matplotlib.pyplot as plt\n",
    "\n",
    "# Get absolut path to project root\n",
    "load_dotenv()\n",
    "data_path = os.getenv(\"PUBTABNET_DATA_DIR\")\n",
    "\n",
    "project_root_dir = os.path.dirname(os.path.abspath(\"\"))\n",
    "print(\"Project root dir:\", project_root_dir)\n",
    "\n",
    "data_dir = os.getenv(\"PUBTABNET_DATA_DIR\")\n",
    "absolute_dir = project_root_dir + data_dir\n",
    "print(\"Absolute path:\", absolute_dir)\n",
    "\n",
    "# test, train and val dir\n",
    "test_dir = absolute_dir + \"/test\"\n",
    "train_dir = absolute_dir + \"/train\"\n",
    "val_dir = absolute_dir + \"/val\"\n",
    "print(test_dir)\n",
    "print(train_dir)\n",
    "print(val_dir)\n",
    "\n",
    "def create_directory_if_not_exists(directory_path):\n",
    "    if not os.path.exists(directory_path):\n",
    "        os.makedirs(directory_path)\n",
    "        print(f\"Directory '{directory_path}' created.\")\n",
    "    else:\n",
    "        print(f\"Directory '{directory_path}' already exists.\")"
   ]
  },
  {
   "cell_type": "code",
   "execution_count": 23,
   "metadata": {},
   "outputs": [
    {
     "name": "stdout",
     "output_type": "stream",
     "text": [
      "Image path: /Users/simon/Documents/neural_networks_ocr_project/neural_networks_seminar/data/PubTabNet/test/PMC515297_004_00.png\n"
     ]
    }
   ],
   "source": [
    "# Test image\n",
    "img_name = \"PMC515297_004_00\"\n",
    "img_path = f\"{test_dir}/{img_name}.png\"\n",
    "print(f\"Image path: {img_path}\")"
   ]
  },
  {
   "cell_type": "code",
   "execution_count": 24,
   "metadata": {},
   "outputs": [
    {
     "ename": "KeyboardInterrupt",
     "evalue": "",
     "output_type": "error",
     "traceback": [
      "\u001b[0;31m---------------------------------------------------------------------------\u001b[0m",
      "\u001b[0;31mKeyboardInterrupt\u001b[0m                         Traceback (most recent call last)",
      "Cell \u001b[0;32mIn[24], line 13\u001b[0m\n\u001b[1;32m     10\u001b[0m \u001b[39mwith\u001b[39;00m \u001b[39mopen\u001b[39m(jsonl_file_path, \u001b[39m'\u001b[39m\u001b[39mr\u001b[39m\u001b[39m'\u001b[39m) \u001b[39mas\u001b[39;00m file:\n\u001b[1;32m     11\u001b[0m     \u001b[39mfor\u001b[39;00m line \u001b[39min\u001b[39;00m file:\n\u001b[1;32m     12\u001b[0m         \u001b[39m# Parse each line as JSON and append it to the list\u001b[39;00m\n\u001b[0;32m---> 13\u001b[0m         json_obj \u001b[39m=\u001b[39m json\u001b[39m.\u001b[39mloads(line)\n\u001b[1;32m     14\u001b[0m         json_data\u001b[39m.\u001b[39mappend(json_obj)\n",
      "File \u001b[0;32m~/opt/anaconda3/envs/s2s_learning_seminar/lib/python3.11/json/__init__.py:346\u001b[0m, in \u001b[0;36mloads\u001b[0;34m(s, cls, object_hook, parse_float, parse_int, parse_constant, object_pairs_hook, **kw)\u001b[0m\n\u001b[1;32m    341\u001b[0m     s \u001b[39m=\u001b[39m s\u001b[39m.\u001b[39mdecode(detect_encoding(s), \u001b[39m'\u001b[39m\u001b[39msurrogatepass\u001b[39m\u001b[39m'\u001b[39m)\n\u001b[1;32m    343\u001b[0m \u001b[39mif\u001b[39;00m (\u001b[39mcls\u001b[39m \u001b[39mis\u001b[39;00m \u001b[39mNone\u001b[39;00m \u001b[39mand\u001b[39;00m object_hook \u001b[39mis\u001b[39;00m \u001b[39mNone\u001b[39;00m \u001b[39mand\u001b[39;00m\n\u001b[1;32m    344\u001b[0m         parse_int \u001b[39mis\u001b[39;00m \u001b[39mNone\u001b[39;00m \u001b[39mand\u001b[39;00m parse_float \u001b[39mis\u001b[39;00m \u001b[39mNone\u001b[39;00m \u001b[39mand\u001b[39;00m\n\u001b[1;32m    345\u001b[0m         parse_constant \u001b[39mis\u001b[39;00m \u001b[39mNone\u001b[39;00m \u001b[39mand\u001b[39;00m object_pairs_hook \u001b[39mis\u001b[39;00m \u001b[39mNone\u001b[39;00m \u001b[39mand\u001b[39;00m \u001b[39mnot\u001b[39;00m kw):\n\u001b[0;32m--> 346\u001b[0m     \u001b[39mreturn\u001b[39;00m _default_decoder\u001b[39m.\u001b[39mdecode(s)\n\u001b[1;32m    347\u001b[0m \u001b[39mif\u001b[39;00m \u001b[39mcls\u001b[39m \u001b[39mis\u001b[39;00m \u001b[39mNone\u001b[39;00m:\n\u001b[1;32m    348\u001b[0m     \u001b[39mcls\u001b[39m \u001b[39m=\u001b[39m JSONDecoder\n",
      "File \u001b[0;32m~/opt/anaconda3/envs/s2s_learning_seminar/lib/python3.11/json/decoder.py:337\u001b[0m, in \u001b[0;36mJSONDecoder.decode\u001b[0;34m(self, s, _w)\u001b[0m\n\u001b[1;32m    332\u001b[0m \u001b[39mdef\u001b[39;00m \u001b[39mdecode\u001b[39m(\u001b[39mself\u001b[39m, s, _w\u001b[39m=\u001b[39mWHITESPACE\u001b[39m.\u001b[39mmatch):\n\u001b[1;32m    333\u001b[0m \u001b[39m    \u001b[39m\u001b[39m\"\"\"Return the Python representation of ``s`` (a ``str`` instance\u001b[39;00m\n\u001b[1;32m    334\u001b[0m \u001b[39m    containing a JSON document).\u001b[39;00m\n\u001b[1;32m    335\u001b[0m \n\u001b[1;32m    336\u001b[0m \u001b[39m    \"\"\"\u001b[39;00m\n\u001b[0;32m--> 337\u001b[0m     obj, end \u001b[39m=\u001b[39m \u001b[39mself\u001b[39m\u001b[39m.\u001b[39mraw_decode(s, idx\u001b[39m=\u001b[39m_w(s, \u001b[39m0\u001b[39m)\u001b[39m.\u001b[39mend())\n\u001b[1;32m    338\u001b[0m     end \u001b[39m=\u001b[39m _w(s, end)\u001b[39m.\u001b[39mend()\n\u001b[1;32m    339\u001b[0m     \u001b[39mif\u001b[39;00m end \u001b[39m!=\u001b[39m \u001b[39mlen\u001b[39m(s):\n",
      "File \u001b[0;32m~/opt/anaconda3/envs/s2s_learning_seminar/lib/python3.11/json/decoder.py:353\u001b[0m, in \u001b[0;36mJSONDecoder.raw_decode\u001b[0;34m(self, s, idx)\u001b[0m\n\u001b[1;32m    344\u001b[0m \u001b[39m\u001b[39m\u001b[39m\"\"\"Decode a JSON document from ``s`` (a ``str`` beginning with\u001b[39;00m\n\u001b[1;32m    345\u001b[0m \u001b[39ma JSON document) and return a 2-tuple of the Python\u001b[39;00m\n\u001b[1;32m    346\u001b[0m \u001b[39mrepresentation and the index in ``s`` where the document ended.\u001b[39;00m\n\u001b[0;32m   (...)\u001b[0m\n\u001b[1;32m    350\u001b[0m \n\u001b[1;32m    351\u001b[0m \u001b[39m\"\"\"\u001b[39;00m\n\u001b[1;32m    352\u001b[0m \u001b[39mtry\u001b[39;00m:\n\u001b[0;32m--> 353\u001b[0m     obj, end \u001b[39m=\u001b[39m \u001b[39mself\u001b[39m\u001b[39m.\u001b[39mscan_once(s, idx)\n\u001b[1;32m    354\u001b[0m \u001b[39mexcept\u001b[39;00m \u001b[39mStopIteration\u001b[39;00m \u001b[39mas\u001b[39;00m err:\n\u001b[1;32m    355\u001b[0m     \u001b[39mraise\u001b[39;00m JSONDecodeError(\u001b[39m\"\u001b[39m\u001b[39mExpecting value\u001b[39m\u001b[39m\"\u001b[39m, s, err\u001b[39m.\u001b[39mvalue) \u001b[39mfrom\u001b[39;00m \u001b[39mNone\u001b[39;00m\n",
      "\u001b[0;31mKeyboardInterrupt\u001b[0m: "
     ]
    }
   ],
   "source": [
    "import json\n",
    "\n",
    "# Specify the path to your JSONL file\n",
    "jsonl_file_path = absolute_dir + \"/PubTabNet_2.0.0.jsonl\"\n",
    "\n",
    "# Initialize an empty list to store the JSON objects\n",
    "json_data = []\n",
    "\n",
    "# Open the JSONL file and read each line\n",
    "with open(jsonl_file_path, 'r') as file:\n",
    "    for line in file:\n",
    "        # Parse each line as JSON and append it to the list\n",
    "        json_obj = json.loads(line)\n",
    "        json_data.append(json_obj)"
   ]
  },
  {
   "attachments": {},
   "cell_type": "markdown",
   "metadata": {},
   "source": [
    "# Cropped Image OCR\n",
    "https://github.com/PaddlePaddle/PaddleOCR/blob/release/2.6/ppstructure/table/README.md#43-calculate-teds\n",
    "\n",
    "Find a script for paddleocr to html inside `convert_labelo2html.py`. It is from the library itself, but I dont know how to call it."
   ]
  },
  {
   "cell_type": "code",
   "execution_count": 11,
   "metadata": {},
   "outputs": [
    {
     "name": "stdout",
     "output_type": "stream",
     "text": [
      "[[[33.0, 4.0], [137.0, 4.0], [137.0, 16.0], [33.0, 16.0]], [[59.0, 25.0], [112.0, 25.0], [112.0, 36.0], [59.0, 36.0]], [[218.0, 25.0], [285.0, 25.0], [285.0, 36.0], [218.0, 36.0]], [[381.0, 25.0], [453.0, 25.0], [453.0, 36.0], [381.0, 36.0]], [[3.0, 46.0], [166.0, 47.0], [166.0, 60.0], [3.0, 59.0]], [[226.0, 49.0], [277.0, 49.0], [277.0, 59.0], [226.0, 59.0]], [[407.0, 57.0], [429.0, 57.0], [429.0, 71.0], [407.0, 71.0]], [[408.0, 48.0], [428.0, 48.0], [428.0, 59.0], [408.0, 59.0]], [[6.0, 59.0], [164.0, 59.0], [164.0, 71.0], [6.0, 71.0]], [[200.0, 59.0], [303.0, 59.0], [303.0, 71.0], [200.0, 71.0]], [[5.0, 70.0], [164.0, 70.0], [164.0, 79.0], [5.0, 79.0]], [[40.0, 78.0], [131.0, 78.0], [131.0, 91.0], [40.0, 91.0]], [[219.0, 69.0], [285.0, 69.0], [285.0, 79.0], [219.0, 79.0]], [[407.0, 69.0], [429.0, 69.0], [429.0, 80.0], [407.0, 80.0]], [[57.0, 100.0], [114.0, 100.0], [114.0, 113.0], [57.0, 113.0]], [[10.0, 111.0], [160.0, 111.0], [160.0, 124.0], [10.0, 124.0]], [[217.0, 102.0], [286.0, 102.0], [286.0, 112.0], [217.0, 112.0]], [[382.0, 102.0], [454.0, 102.0], [454.0, 112.0], [382.0, 112.0]], [[225.0, 112.0], [278.0, 112.0], [278.0, 123.0], [225.0, 123.0]], [[407.0, 110.0], [429.0, 110.0], [429.0, 125.0], [407.0, 125.0]], [[12.0, 122.0], [158.0, 122.0], [158.0, 131.0], [12.0, 131.0]], [[200.0, 120.0], [302.0, 121.0], [302.0, 134.0], [199.0, 133.0]], [[407.0, 120.0], [429.0, 120.0], [429.0, 134.0], [407.0, 134.0]], [[218.0, 131.0], [285.0, 132.0], [285.0, 143.0], [218.0, 142.0]], [[406.0, 130.0], [430.0, 130.0], [430.0, 144.0], [406.0, 144.0]]]\n"
     ]
    }
   ],
   "source": [
    "print(boxes)"
   ]
  },
  {
   "cell_type": "code",
   "execution_count": 18,
   "metadata": {},
   "outputs": [],
   "source": [
    "from PIL import Image\n",
    "\n",
    "\n",
    "def crop_images(coordinates_list, file_path):\n",
    "    # Load the input image (adjust the path accordingly)\n",
    "    input_image = Image.open(file_path)\n",
    "\n",
    "    # Initialize an array to store cropped images\n",
    "    cropped_img_paths = []\n",
    "\n",
    "    dir = 'table_rectangles_temp/'\n",
    "    create_directory_if_not_exists(dir)\n",
    "\n",
    "    for coords in coordinates_list:\n",
    "        # Convert coordinates to integers\n",
    "        coords_int = [(int(x), int(y)) for x, y in coords]\n",
    "        \n",
    "        # Find the minimum and maximum x and y coordinates\n",
    "        x_values, y_values = zip(*coords_int)\n",
    "        min_x = min(x_values)\n",
    "        min_y = min(y_values)\n",
    "        max_x = max(x_values)\n",
    "        max_y = max(y_values)\n",
    "        # Create a cropped image from the input image using the coordinates\n",
    "        cropped_image = input_image.crop((min_x, min_y, max_x, max_y))\n",
    "        \n",
    "        # Append the cropped image to the array\n",
    "        \n",
    "        # Write cropped imgs to table_rectangles_temp dir for further processing\n",
    "        img_path = f'{dir}{file_path.split(\"/\")[-1].split(\".\")[0]}_{min_x}_{min_y}_{max_x}_{max_y}.png'\n",
    "        cropped_image.save(img_path)\n",
    "        cropped_img_paths.append(img_path)\n",
    "    #  Show one image as example:\n",
    "    print(cropped_img_paths[0])\n",
    "    return cropped_img_paths"
   ]
  },
  {
   "cell_type": "code",
   "execution_count": 19,
   "metadata": {},
   "outputs": [
    {
     "name": "stdout",
     "output_type": "stream",
     "text": [
      "Directory 'table_rectangles_temp/' already exists.\n",
      "table_rectangles_temp/PMC515297_004_00_33_4_137_16.png\n"
     ]
    }
   ],
   "source": [
    "cropped_img_paths = crop_images(boxes, img_path)"
   ]
  }
 ],
 "metadata": {
  "kernelspec": {
   "display_name": "s2s_learning_seminar",
   "language": "python",
   "name": "python3"
  },
  "language_info": {
   "codemirror_mode": {
    "name": "ipython",
    "version": 3
   },
   "file_extension": ".py",
   "mimetype": "text/x-python",
   "name": "python",
   "nbconvert_exporter": "python",
   "pygments_lexer": "ipython3",
   "version": "3.11.3"
  },
  "orig_nbformat": 4,
  "vscode": {
   "interpreter": {
    "hash": "a6a6a2f4e9b3d29343f27ef6aef311b54e340d4b6fc29835f858df5c984e5196"
   }
  }
 },
 "nbformat": 4,
 "nbformat_minor": 2
}
